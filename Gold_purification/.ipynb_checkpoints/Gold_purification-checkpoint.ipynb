{
 "cells": [
  {
   "cell_type": "markdown",
   "metadata": {},
   "source": [
    "# Исследование технологического процесса очистки золота"
   ]
  },
  {
   "cell_type": "markdown",
   "metadata": {
    "toc": true
   },
   "source": [
    "<h1>Содержание<span class=\"tocSkip\"></span></h1>\n",
    "<div class=\"toc\"><ul class=\"toc-item\"><li><span><a href=\"#Цели-исследования:\" data-toc-modified-id=\"Цели-исследования:-1\"><span class=\"toc-item-num\">1&nbsp;&nbsp;</span>Цели исследования:</a></span><ul class=\"toc-item\"><li><span><a href=\"#Описание-данных\" data-toc-modified-id=\"Описание-данных-1.1\"><span class=\"toc-item-num\">1.1&nbsp;&nbsp;</span>Описание данных</a></span><ul class=\"toc-item\"><li><span><a href=\"#Технологический-процесс\" data-toc-modified-id=\"Технологический-процесс-1.1.1\"><span class=\"toc-item-num\">1.1.1&nbsp;&nbsp;</span>Технологический процесс</a></span></li><li><span><a href=\"#Параметры-этапов\" data-toc-modified-id=\"Параметры-этапов-1.1.2\"><span class=\"toc-item-num\">1.1.2&nbsp;&nbsp;</span>Параметры этапов</a></span></li><li><span><a href=\"#Наименование-признаков\" data-toc-modified-id=\"Наименование-признаков-1.1.3\"><span class=\"toc-item-num\">1.1.3&nbsp;&nbsp;</span>Наименование признаков</a></span></li></ul></li></ul></li><li><span><a href=\"#Знакомство-с-данными-и-их-подготовка\" data-toc-modified-id=\"Знакомство-с-данными-и-их-подготовка-2\"><span class=\"toc-item-num\">2&nbsp;&nbsp;</span>Знакомство с данными и их подготовка</a></span><ul class=\"toc-item\"><li><span><a href=\"#Открытие-файлов-и-их-изучение\" data-toc-modified-id=\"Открытие-файлов-и-их-изучение-2.1\"><span class=\"toc-item-num\">2.1&nbsp;&nbsp;</span>Открытие файлов и их изучение</a></span></li><li><span><a href=\"#Проверка-корректности-расчета-recovery\" data-toc-modified-id=\"Проверка-корректности-расчета-recovery-2.2\"><span class=\"toc-item-num\">2.2&nbsp;&nbsp;</span>Проверка корректности расчета recovery</a></span></li><li><span><a href=\"#Анализ-признаков,-отсутствующих-в-тестовой-выборке\" data-toc-modified-id=\"Анализ-признаков,-отсутствующих-в-тестовой-выборке-2.3\"><span class=\"toc-item-num\">2.3&nbsp;&nbsp;</span>Анализ признаков, отсутствующих в тестовой выборке</a></span></li><li><span><a href=\"#Предобработка-данных-(продолжение-в-п.-4.1-)\" data-toc-modified-id=\"Предобработка-данных-(продолжение-в-п.-4.1-)-2.4\"><span class=\"toc-item-num\">2.4&nbsp;&nbsp;</span>Предобработка данных (продолжение в п. 4.1 )</a></span></li><li><span><a href=\"#Выводы,-подготовка-данных\" data-toc-modified-id=\"Выводы,-подготовка-данных-2.5\"><span class=\"toc-item-num\">2.5&nbsp;&nbsp;</span>Выводы, подготовка данных</a></span></li></ul></li><li><span><a href=\"#Анализ-данных\" data-toc-modified-id=\"Анализ-данных-3\"><span class=\"toc-item-num\">3&nbsp;&nbsp;</span>Анализ данных</a></span><ul class=\"toc-item\"><li><span><a href=\"#Изменение-концентраций-металлов-(Au,-Ag,-Pb)-на-различных-этапах-очистки\" data-toc-modified-id=\"Изменение-концентраций-металлов-(Au,-Ag,-Pb)-на-различных-этапах-очистки-3.1\"><span class=\"toc-item-num\">3.1&nbsp;&nbsp;</span>Изменение концентраций металлов (Au, Ag, Pb) на различных этапах очистки</a></span></li><li><span><a href=\"#Сравнение-распределения-размеров-гранул-сырья-на-обучающей-и-тестовой-выборках.\" data-toc-modified-id=\"Сравнение-распределения-размеров-гранул-сырья-на-обучающей-и-тестовой-выборках.-3.2\"><span class=\"toc-item-num\">3.2&nbsp;&nbsp;</span>Сравнение распределения размеров гранул сырья на обучающей и тестовой выборках.</a></span></li><li><span><a href=\"#Анализ-суммарных-концентраций-на-разных-стадиях\" data-toc-modified-id=\"Анализ-суммарных-концентраций-на-разных-стадиях-3.3\"><span class=\"toc-item-num\">3.3&nbsp;&nbsp;</span>Анализ суммарных концентраций на разных стадиях</a></span></li><li><span><a href=\"#Выводы,-анализ-данных\" data-toc-modified-id=\"Выводы,-анализ-данных-3.4\"><span class=\"toc-item-num\">3.4&nbsp;&nbsp;</span>Выводы, анализ данных</a></span></li></ul></li><li><span><a href=\"#Построение-моделей\" data-toc-modified-id=\"Построение-моделей-4\"><span class=\"toc-item-num\">4&nbsp;&nbsp;</span>Построение моделей</a></span><ul class=\"toc-item\"><li><span><a href=\"#Предобработка-данных-(продолжение)\" data-toc-modified-id=\"Предобработка-данных-(продолжение)-4.1\"><span class=\"toc-item-num\">4.1&nbsp;&nbsp;</span>Предобработка данных (продолжение)</a></span></li><li><span><a href=\"#Написание-функций-для-вычисления-sMAPE\" data-toc-modified-id=\"Написание-функций-для-вычисления-sMAPE-4.2\"><span class=\"toc-item-num\">4.2&nbsp;&nbsp;</span>Написание функций для вычисления sMAPE</a></span></li><li><span><a href=\"#Обучение-моделей\" data-toc-modified-id=\"Обучение-моделей-4.3\"><span class=\"toc-item-num\">4.3&nbsp;&nbsp;</span>Обучение моделей</a></span><ul class=\"toc-item\"><li><span><a href=\"#Тупой-регрессор-(Baseline)\" data-toc-modified-id=\"Тупой-регрессор-(Baseline)-4.3.1\"><span class=\"toc-item-num\">4.3.1&nbsp;&nbsp;</span>Тупой регрессор (Baseline)</a></span></li><li><span><a href=\"#Линейная-модель\" data-toc-modified-id=\"Линейная-модель-4.3.2\"><span class=\"toc-item-num\">4.3.2&nbsp;&nbsp;</span>Линейная модель</a></span></li><li><span><a href=\"#Решающее-дерево\" data-toc-modified-id=\"Решающее-дерево-4.3.3\"><span class=\"toc-item-num\">4.3.3&nbsp;&nbsp;</span>Решающее дерево</a></span></li><li><span><a href=\"#Случайный-лес\" data-toc-modified-id=\"Случайный-лес-4.3.4\"><span class=\"toc-item-num\">4.3.4&nbsp;&nbsp;</span>Случайный лес</a></span></li></ul></li></ul></li><li><span><a href=\"#Итоговый-вывод\" data-toc-modified-id=\"Итоговый-вывод-5\"><span class=\"toc-item-num\">5&nbsp;&nbsp;</span>Итоговый вывод</a></span></li></ul></div>"
   ]
  },
  {
   "cell_type": "markdown",
   "metadata": {},
   "source": [
    "**Цели исследования:**\n",
    "\n",
    "По данным с параметрами добычи и очистки руд подготовить прототип модели машинного обучения для компании «Цифры», которая разрабатывает решения для работы промышленных предприятий.\n",
    "Модель должна предсказать коэффициент восстановления золота из золотосодержащей руды. Модель поможет оптимизировать производство, чтобы не запускать предприятие с убыточными характеристиками.\n",
    "\n",
    "**Ход исследования:**\n",
    " - Подготовка данных\n",
    "     - Изучение данных\n",
    "     - Проверка правильности рассчета эффективности  обогащения\n",
    "     - Анализ признаков\n",
    "     - Предобработка данных\n",
    " - Исследовательский анализ данных\n",
    "     - Динамика изменения концентрации металлов в зависимости от этапа очистки\n",
    "     - Сравнение размеров гранул сырья на разных выборках\n",
    "     - Исследование суммарной концентрации всех веществ на разных стадиях\n",
    " - Построение и обучени модели\n",
    "     - Формулирование и оформление метрики sMAPE\n",
    "     - Обучение различных моделей с оценкой их качества кросс-валидацией, выбор лучшей\n",
    "     - Выводы\n",
    "  \n",
    "**Итоги исследования:**\n",
    "\n",
    "В ходе работы были проанализированы и обработаны предоставленные данные и подготовлена модель машинного обучения, способная на обучающей выборке выдавать прогнозный коэффициент восстановления золота лучше baseline (Dummy Regressor).\n",
    "В итоге, удалось обучить модель машинного обучения, которая по метрике sMAPE лучше альтернатив, включая константную baseline модель."
   ]
  },
  {
   "cell_type": "markdown",
   "metadata": {},
   "source": [
    "## Описание данных\n",
    "\n",
    "### Технологический процесс\n",
    "\n",
    "    Rougher feed — исходное сырье\n",
    "    Rougher additions (или reagent additions) — флотационные реагенты: Xanthate, Sulphate, Depressant\n",
    "      \n",
    "    Xanthate **— ксантогенат (промотер, или активатор флотации);\n",
    "    Sulphate — сульфат (на данном производстве сульфид натрия);\n",
    "    Depressant — депрессант (силикат натрия).\n",
    "    \n",
    "    Rougher process (англ. «грубый процесс») — флотация\n",
    "    Rougher tails — отвальные хвосты\n",
    "    Float banks — флотационная установка\n",
    "    Cleaner process — очистка\n",
    "    Rougher Au — черновой концентрат золота\n",
    "    Final Au — финальный концентрат золота\n",
    "\n",
    "### Параметры этапов\n",
    "\n",
    "    air amount — объём воздуха\n",
    "    fluid levels — уровень жидкости\n",
    "    feed size — размер гранул сырья\n",
    "    feed rate — скорость подачи\n",
    "\n",
    "### Наименование признаков\n",
    "Наименование признаков должно быть такое:\n",
    "[этап].[тип_параметра].[название_параметра]\n",
    "Пример: rougher.input.feed_ag\n",
    "    \n",
    "Возможные значения для блока [этап]:\n",
    "\n",
    "    rougher — флотация\n",
    "    primary_cleaner — первичная очистка\n",
    "    secondary_cleaner — вторичная очистка\n",
    "    final — финальные характеристики\n",
    "\n",
    "Возможные значения для блока [тип_параметра]:\n",
    "\n",
    "    input — параметры сырья\n",
    "    output — параметры продукта\n",
    "    state — параметры, характеризующие текущее состояние этапа\n",
    "    calculation — расчётные характеристики"
   ]
  },
  {
   "cell_type": "code",
   "execution_count": 1,
   "metadata": {},
   "outputs": [],
   "source": [
    "import pandas as pd \n",
    "import numpy as np\n",
    "import matplotlib.pyplot as plt\n",
    "import seaborn as sns\n",
    "\n",
    "from sklearn.model_selection import cross_val_score, GridSearchCV, RandomizedSearchCV\n",
    "from sklearn.metrics import mean_absolute_error, make_scorer\n",
    "from sklearn.preprocessing import StandardScaler\n",
    "\n",
    "from sklearn.dummy import DummyRegressor\n",
    "from sklearn.tree import DecisionTreeRegressor\n",
    "from sklearn.ensemble import RandomForestRegressor\n",
    "from sklearn.linear_model import LinearRegression"
   ]
  },
  {
   "cell_type": "markdown",
   "metadata": {},
   "source": [
    "## Знакомство с данными и их подготовка"
   ]
  },
  {
   "cell_type": "markdown",
   "metadata": {},
   "source": [
    "### Открытие файлов и их изучение"
   ]
  },
  {
   "cell_type": "code",
   "execution_count": 2,
   "metadata": {},
   "outputs": [],
   "source": [
    "data_train = pd.read_csv('/home/panther/Documents/Deep Learning/datasets/gold_recovery_train_new.csv', index_col='date')\n",
    "data_test = pd.read_csv('/home/panther/Documents/Deep Learning/datasets/gold_recovery_test_new.csv', index_col='date')\n",
    "data_full = pd.read_csv('/home/panther/Documents/Deep Learning/datasets/gold_recovery_full_new.csv', index_col='date')"
   ]
  },
  {
   "cell_type": "code",
   "execution_count": 3,
   "metadata": {},
   "outputs": [],
   "source": [
    "# глобальные опции и переменные\n",
    "\n",
    "random_state = 42\n",
    "np.random.seed(random_state)\n",
    "pd.set_option('display.max_columns', None)\n",
    "pd.set_option('display.max_rows', 100)\n",
    "\n",
    "\n",
    "metals = ['au', 'ag', 'pb']\n",
    "elements = metals + ['sol']\n",
    "target_features = ['rougher.output.recovery', 'final.output.recovery']\n",
    "feed_features = ['rougher.input.feed', 'rougher.output.concentrate',\n",
    "                 'primary_cleaner.output.concentrate', 'final.output.concentrate']"
   ]
  },
  {
   "cell_type": "code",
   "execution_count": 4,
   "metadata": {
    "scrolled": true
   },
   "outputs": [
    {
     "data": {
      "text/html": [
       "<div>\n",
       "<style scoped>\n",
       "    .dataframe tbody tr th:only-of-type {\n",
       "        vertical-align: middle;\n",
       "    }\n",
       "\n",
       "    .dataframe tbody tr th {\n",
       "        vertical-align: top;\n",
       "    }\n",
       "\n",
       "    .dataframe thead th {\n",
       "        text-align: right;\n",
       "    }\n",
       "</style>\n",
       "<table border=\"1\" class=\"dataframe\">\n",
       "  <thead>\n",
       "    <tr style=\"text-align: right;\">\n",
       "      <th></th>\n",
       "      <th>final.output.concentrate_ag</th>\n",
       "      <th>final.output.concentrate_pb</th>\n",
       "      <th>final.output.concentrate_sol</th>\n",
       "      <th>final.output.concentrate_au</th>\n",
       "      <th>final.output.recovery</th>\n",
       "      <th>final.output.tail_ag</th>\n",
       "      <th>final.output.tail_pb</th>\n",
       "      <th>final.output.tail_sol</th>\n",
       "      <th>final.output.tail_au</th>\n",
       "      <th>primary_cleaner.input.sulfate</th>\n",
       "      <th>primary_cleaner.input.depressant</th>\n",
       "      <th>primary_cleaner.input.feed_size</th>\n",
       "      <th>primary_cleaner.input.xanthate</th>\n",
       "      <th>primary_cleaner.output.concentrate_ag</th>\n",
       "      <th>primary_cleaner.output.concentrate_pb</th>\n",
       "      <th>primary_cleaner.output.concentrate_sol</th>\n",
       "      <th>primary_cleaner.output.concentrate_au</th>\n",
       "      <th>primary_cleaner.output.tail_ag</th>\n",
       "      <th>primary_cleaner.output.tail_pb</th>\n",
       "      <th>primary_cleaner.output.tail_sol</th>\n",
       "      <th>primary_cleaner.output.tail_au</th>\n",
       "      <th>primary_cleaner.state.floatbank8_a_air</th>\n",
       "      <th>primary_cleaner.state.floatbank8_a_level</th>\n",
       "      <th>primary_cleaner.state.floatbank8_b_air</th>\n",
       "      <th>primary_cleaner.state.floatbank8_b_level</th>\n",
       "      <th>primary_cleaner.state.floatbank8_c_air</th>\n",
       "      <th>primary_cleaner.state.floatbank8_c_level</th>\n",
       "      <th>primary_cleaner.state.floatbank8_d_air</th>\n",
       "      <th>primary_cleaner.state.floatbank8_d_level</th>\n",
       "      <th>rougher.calculation.sulfate_to_au_concentrate</th>\n",
       "      <th>rougher.calculation.floatbank10_sulfate_to_au_feed</th>\n",
       "      <th>rougher.calculation.floatbank11_sulfate_to_au_feed</th>\n",
       "      <th>rougher.calculation.au_pb_ratio</th>\n",
       "      <th>rougher.input.feed_ag</th>\n",
       "      <th>rougher.input.feed_pb</th>\n",
       "      <th>rougher.input.feed_rate</th>\n",
       "      <th>rougher.input.feed_size</th>\n",
       "      <th>rougher.input.feed_sol</th>\n",
       "      <th>rougher.input.feed_au</th>\n",
       "      <th>rougher.input.floatbank10_sulfate</th>\n",
       "      <th>rougher.input.floatbank10_xanthate</th>\n",
       "      <th>rougher.input.floatbank11_sulfate</th>\n",
       "      <th>rougher.input.floatbank11_xanthate</th>\n",
       "      <th>rougher.output.concentrate_ag</th>\n",
       "      <th>rougher.output.concentrate_pb</th>\n",
       "      <th>rougher.output.concentrate_sol</th>\n",
       "      <th>rougher.output.concentrate_au</th>\n",
       "      <th>rougher.output.recovery</th>\n",
       "      <th>rougher.output.tail_ag</th>\n",
       "      <th>rougher.output.tail_pb</th>\n",
       "      <th>rougher.output.tail_sol</th>\n",
       "      <th>rougher.output.tail_au</th>\n",
       "      <th>rougher.state.floatbank10_a_air</th>\n",
       "      <th>rougher.state.floatbank10_a_level</th>\n",
       "      <th>rougher.state.floatbank10_b_air</th>\n",
       "      <th>rougher.state.floatbank10_b_level</th>\n",
       "      <th>rougher.state.floatbank10_c_air</th>\n",
       "      <th>rougher.state.floatbank10_c_level</th>\n",
       "      <th>rougher.state.floatbank10_d_air</th>\n",
       "      <th>rougher.state.floatbank10_d_level</th>\n",
       "      <th>rougher.state.floatbank10_e_air</th>\n",
       "      <th>rougher.state.floatbank10_e_level</th>\n",
       "      <th>rougher.state.floatbank10_f_air</th>\n",
       "      <th>rougher.state.floatbank10_f_level</th>\n",
       "      <th>secondary_cleaner.output.tail_ag</th>\n",
       "      <th>secondary_cleaner.output.tail_pb</th>\n",
       "      <th>secondary_cleaner.output.tail_sol</th>\n",
       "      <th>secondary_cleaner.output.tail_au</th>\n",
       "      <th>secondary_cleaner.state.floatbank2_a_air</th>\n",
       "      <th>secondary_cleaner.state.floatbank2_a_level</th>\n",
       "      <th>secondary_cleaner.state.floatbank2_b_air</th>\n",
       "      <th>secondary_cleaner.state.floatbank2_b_level</th>\n",
       "      <th>secondary_cleaner.state.floatbank3_a_air</th>\n",
       "      <th>secondary_cleaner.state.floatbank3_a_level</th>\n",
       "      <th>secondary_cleaner.state.floatbank3_b_air</th>\n",
       "      <th>secondary_cleaner.state.floatbank3_b_level</th>\n",
       "      <th>secondary_cleaner.state.floatbank4_a_air</th>\n",
       "      <th>secondary_cleaner.state.floatbank4_a_level</th>\n",
       "      <th>secondary_cleaner.state.floatbank4_b_air</th>\n",
       "      <th>secondary_cleaner.state.floatbank4_b_level</th>\n",
       "      <th>secondary_cleaner.state.floatbank5_a_air</th>\n",
       "      <th>secondary_cleaner.state.floatbank5_a_level</th>\n",
       "      <th>secondary_cleaner.state.floatbank5_b_air</th>\n",
       "      <th>secondary_cleaner.state.floatbank5_b_level</th>\n",
       "      <th>secondary_cleaner.state.floatbank6_a_air</th>\n",
       "      <th>secondary_cleaner.state.floatbank6_a_level</th>\n",
       "    </tr>\n",
       "  </thead>\n",
       "  <tbody>\n",
       "    <tr>\n",
       "      <th>count</th>\n",
       "      <td>19438.000000</td>\n",
       "      <td>19438.000000</td>\n",
       "      <td>19228.000000</td>\n",
       "      <td>19439.000000</td>\n",
       "      <td>19439.000000</td>\n",
       "      <td>19438.000000</td>\n",
       "      <td>19338.000000</td>\n",
       "      <td>19433.000000</td>\n",
       "      <td>19439.000000</td>\n",
       "      <td>19415.000000</td>\n",
       "      <td>19402.000000</td>\n",
       "      <td>19439.000000</td>\n",
       "      <td>19335.000000</td>\n",
       "      <td>19439.000000</td>\n",
       "      <td>19323.000000</td>\n",
       "      <td>19069.000000</td>\n",
       "      <td>19439.000000</td>\n",
       "      <td>19435.000000</td>\n",
       "      <td>19418.000000</td>\n",
       "      <td>19377.000000</td>\n",
       "      <td>19439.000000</td>\n",
       "      <td>1.943500e+04</td>\n",
       "      <td>19438.000000</td>\n",
       "      <td>1.943500e+04</td>\n",
       "      <td>19438.000000</td>\n",
       "      <td>1.943700e+04</td>\n",
       "      <td>19438.000000</td>\n",
       "      <td>1.943600e+04</td>\n",
       "      <td>19438.000000</td>\n",
       "      <td>1.943700e+04</td>\n",
       "      <td>19437.000000</td>\n",
       "      <td>19437.000000</td>\n",
       "      <td>19439.000000</td>\n",
       "      <td>19439.000000</td>\n",
       "      <td>19339.000000</td>\n",
       "      <td>19428.000000</td>\n",
       "      <td>19294.000000</td>\n",
       "      <td>19340.000000</td>\n",
       "      <td>19439.000000</td>\n",
       "      <td>19405.000000</td>\n",
       "      <td>19431.000000</td>\n",
       "      <td>19395.000000</td>\n",
       "      <td>18986.000000</td>\n",
       "      <td>19439.000000</td>\n",
       "      <td>19439.000000</td>\n",
       "      <td>19416.000000</td>\n",
       "      <td>19439.000000</td>\n",
       "      <td>19439.000000</td>\n",
       "      <td>19438.000000</td>\n",
       "      <td>19439.000000</td>\n",
       "      <td>19439.000000</td>\n",
       "      <td>19439.000000</td>\n",
       "      <td>19438.000000</td>\n",
       "      <td>19438.000000</td>\n",
       "      <td>19438.000000</td>\n",
       "      <td>19438.000000</td>\n",
       "      <td>19438.000000</td>\n",
       "      <td>19438.000000</td>\n",
       "      <td>19439.000000</td>\n",
       "      <td>19439.000000</td>\n",
       "      <td>19003.000000</td>\n",
       "      <td>19439.000000</td>\n",
       "      <td>19439.000000</td>\n",
       "      <td>19439.000000</td>\n",
       "      <td>19437.000000</td>\n",
       "      <td>19427.000000</td>\n",
       "      <td>17691.000000</td>\n",
       "      <td>19439.000000</td>\n",
       "      <td>19219.000000</td>\n",
       "      <td>19438.000000</td>\n",
       "      <td>19416.000000</td>\n",
       "      <td>19438.000000</td>\n",
       "      <td>19426.000000</td>\n",
       "      <td>19438.000000</td>\n",
       "      <td>19438.000000</td>\n",
       "      <td>19438.000000</td>\n",
       "      <td>19433.000000</td>\n",
       "      <td>19438.000000</td>\n",
       "      <td>19438.000000</td>\n",
       "      <td>19438.000000</td>\n",
       "      <td>19438.000000</td>\n",
       "      <td>19438.000000</td>\n",
       "      <td>19438.000000</td>\n",
       "      <td>19438.000000</td>\n",
       "      <td>19437.000000</td>\n",
       "      <td>19438.000000</td>\n",
       "    </tr>\n",
       "    <tr>\n",
       "      <th>mean</th>\n",
       "      <td>5.168470</td>\n",
       "      <td>9.978895</td>\n",
       "      <td>9.501224</td>\n",
       "      <td>44.076513</td>\n",
       "      <td>67.050208</td>\n",
       "      <td>9.688589</td>\n",
       "      <td>2.705795</td>\n",
       "      <td>10.583728</td>\n",
       "      <td>3.042467</td>\n",
       "      <td>144.624774</td>\n",
       "      <td>8.817039</td>\n",
       "      <td>7.307078</td>\n",
       "      <td>1.021795</td>\n",
       "      <td>8.442408</td>\n",
       "      <td>9.829530</td>\n",
       "      <td>10.489499</td>\n",
       "      <td>32.119400</td>\n",
       "      <td>16.145826</td>\n",
       "      <td>3.435656</td>\n",
       "      <td>7.973209</td>\n",
       "      <td>3.914179</td>\n",
       "      <td>1.589354e+03</td>\n",
       "      <td>-491.195012</td>\n",
       "      <td>1.591344e+03</td>\n",
       "      <td>-492.192978</td>\n",
       "      <td>1.586669e+03</td>\n",
       "      <td>-491.980070</td>\n",
       "      <td>1.542912e+03</td>\n",
       "      <td>-488.017382</td>\n",
       "      <td>4.217119e+04</td>\n",
       "      <td>3393.052498</td>\n",
       "      <td>3256.854171</td>\n",
       "      <td>2.420119</td>\n",
       "      <td>8.794927</td>\n",
       "      <td>3.598085</td>\n",
       "      <td>478.320042</td>\n",
       "      <td>58.970310</td>\n",
       "      <td>36.695114</td>\n",
       "      <td>8.266097</td>\n",
       "      <td>12.334373</td>\n",
       "      <td>6.021474</td>\n",
       "      <td>12.064140</td>\n",
       "      <td>6.065533</td>\n",
       "      <td>11.994759</td>\n",
       "      <td>7.606272</td>\n",
       "      <td>28.805571</td>\n",
       "      <td>19.772000</td>\n",
       "      <td>83.328587</td>\n",
       "      <td>5.588982</td>\n",
       "      <td>0.645782</td>\n",
       "      <td>18.057106</td>\n",
       "      <td>1.816391</td>\n",
       "      <td>1105.315068</td>\n",
       "      <td>-376.610690</td>\n",
       "      <td>1320.221139</td>\n",
       "      <td>-467.247826</td>\n",
       "      <td>1299.968799</td>\n",
       "      <td>-467.716946</td>\n",
       "      <td>1211.563299</td>\n",
       "      <td>-468.239912</td>\n",
       "      <td>1080.869685</td>\n",
       "      <td>-466.037742</td>\n",
       "      <td>1025.274256</td>\n",
       "      <td>-466.265327</td>\n",
       "      <td>14.586833</td>\n",
       "      <td>5.777703</td>\n",
       "      <td>7.167247</td>\n",
       "      <td>4.339625</td>\n",
       "      <td>28.705564</td>\n",
       "      <td>-502.367331</td>\n",
       "      <td>24.106800</td>\n",
       "      <td>-503.230712</td>\n",
       "      <td>28.199338</td>\n",
       "      <td>-486.203350</td>\n",
       "      <td>22.200645</td>\n",
       "      <td>-493.742107</td>\n",
       "      <td>18.987674</td>\n",
       "      <td>-485.894516</td>\n",
       "      <td>15.010366</td>\n",
       "      <td>-461.078636</td>\n",
       "      <td>15.694452</td>\n",
       "      <td>-488.684065</td>\n",
       "      <td>12.198224</td>\n",
       "      <td>-487.149827</td>\n",
       "      <td>18.959024</td>\n",
       "      <td>-505.436305</td>\n",
       "    </tr>\n",
       "    <tr>\n",
       "      <th>std</th>\n",
       "      <td>1.372348</td>\n",
       "      <td>1.669240</td>\n",
       "      <td>2.787537</td>\n",
       "      <td>5.129784</td>\n",
       "      <td>10.125840</td>\n",
       "      <td>2.328642</td>\n",
       "      <td>0.949077</td>\n",
       "      <td>2.868782</td>\n",
       "      <td>0.922808</td>\n",
       "      <td>44.464071</td>\n",
       "      <td>3.286186</td>\n",
       "      <td>0.613509</td>\n",
       "      <td>0.513254</td>\n",
       "      <td>2.054465</td>\n",
       "      <td>2.556843</td>\n",
       "      <td>3.909639</td>\n",
       "      <td>5.627611</td>\n",
       "      <td>3.548598</td>\n",
       "      <td>1.392536</td>\n",
       "      <td>2.212677</td>\n",
       "      <td>1.593034</td>\n",
       "      <td>1.289968e+02</td>\n",
       "      <td>32.431842</td>\n",
       "      <td>1.318109e+02</td>\n",
       "      <td>33.794822</td>\n",
       "      <td>1.361114e+02</td>\n",
       "      <td>32.711455</td>\n",
       "      <td>2.461996e+02</td>\n",
       "      <td>43.959780</td>\n",
       "      <td>3.243621e+05</td>\n",
       "      <td>4943.845943</td>\n",
       "      <td>5781.423659</td>\n",
       "      <td>0.814935</td>\n",
       "      <td>1.936847</td>\n",
       "      <td>1.049486</td>\n",
       "      <td>105.373758</td>\n",
       "      <td>21.634478</td>\n",
       "      <td>5.145445</td>\n",
       "      <td>1.955092</td>\n",
       "      <td>3.427317</td>\n",
       "      <td>1.127263</td>\n",
       "      <td>3.784221</td>\n",
       "      <td>1.099118</td>\n",
       "      <td>2.733862</td>\n",
       "      <td>1.796757</td>\n",
       "      <td>5.944207</td>\n",
       "      <td>3.753600</td>\n",
       "      <td>14.148086</td>\n",
       "      <td>1.111288</td>\n",
       "      <td>0.251526</td>\n",
       "      <td>3.449218</td>\n",
       "      <td>0.680046</td>\n",
       "      <td>160.826798</td>\n",
       "      <td>93.909667</td>\n",
       "      <td>176.287095</td>\n",
       "      <td>54.673142</td>\n",
       "      <td>202.804325</td>\n",
       "      <td>53.534825</td>\n",
       "      <td>204.019326</td>\n",
       "      <td>53.921458</td>\n",
       "      <td>172.149992</td>\n",
       "      <td>57.384424</td>\n",
       "      <td>164.487837</td>\n",
       "      <td>57.850263</td>\n",
       "      <td>4.265202</td>\n",
       "      <td>2.774598</td>\n",
       "      <td>3.916079</td>\n",
       "      <td>2.326751</td>\n",
       "      <td>5.458789</td>\n",
       "      <td>53.571950</td>\n",
       "      <td>5.749616</td>\n",
       "      <td>56.567724</td>\n",
       "      <td>6.134908</td>\n",
       "      <td>54.412349</td>\n",
       "      <td>5.574001</td>\n",
       "      <td>43.372158</td>\n",
       "      <td>5.411058</td>\n",
       "      <td>47.758570</td>\n",
       "      <td>4.890228</td>\n",
       "      <td>67.405524</td>\n",
       "      <td>5.510974</td>\n",
       "      <td>34.533396</td>\n",
       "      <td>5.333024</td>\n",
       "      <td>38.347312</td>\n",
       "      <td>5.550498</td>\n",
       "      <td>37.689057</td>\n",
       "    </tr>\n",
       "    <tr>\n",
       "      <th>min</th>\n",
       "      <td>0.000000</td>\n",
       "      <td>0.000000</td>\n",
       "      <td>0.000000</td>\n",
       "      <td>0.000000</td>\n",
       "      <td>0.000000</td>\n",
       "      <td>0.000000</td>\n",
       "      <td>0.000000</td>\n",
       "      <td>0.000000</td>\n",
       "      <td>0.000000</td>\n",
       "      <td>0.003112</td>\n",
       "      <td>0.000000</td>\n",
       "      <td>1.080000</td>\n",
       "      <td>0.000005</td>\n",
       "      <td>0.000000</td>\n",
       "      <td>0.000000</td>\n",
       "      <td>0.000000</td>\n",
       "      <td>0.000000</td>\n",
       "      <td>0.000000</td>\n",
       "      <td>0.000000</td>\n",
       "      <td>0.000000</td>\n",
       "      <td>0.000000</td>\n",
       "      <td>5.445860e-32</td>\n",
       "      <td>-798.641662</td>\n",
       "      <td>6.647490e-32</td>\n",
       "      <td>-799.997015</td>\n",
       "      <td>4.033736e-32</td>\n",
       "      <td>-799.960571</td>\n",
       "      <td>4.039220e-32</td>\n",
       "      <td>-799.794250</td>\n",
       "      <td>-4.223520e+07</td>\n",
       "      <td>-486.598675</td>\n",
       "      <td>-264.982785</td>\n",
       "      <td>-0.010548</td>\n",
       "      <td>0.010000</td>\n",
       "      <td>0.010000</td>\n",
       "      <td>0.002986</td>\n",
       "      <td>0.046369</td>\n",
       "      <td>0.010000</td>\n",
       "      <td>0.010000</td>\n",
       "      <td>0.001083</td>\n",
       "      <td>0.000568</td>\n",
       "      <td>0.000077</td>\n",
       "      <td>0.000290</td>\n",
       "      <td>0.000000</td>\n",
       "      <td>0.000000</td>\n",
       "      <td>0.000000</td>\n",
       "      <td>0.000000</td>\n",
       "      <td>0.000000</td>\n",
       "      <td>0.594562</td>\n",
       "      <td>0.007566</td>\n",
       "      <td>10.014648</td>\n",
       "      <td>0.020676</td>\n",
       "      <td>-0.042069</td>\n",
       "      <td>-657.949759</td>\n",
       "      <td>-0.721806</td>\n",
       "      <td>-650.260008</td>\n",
       "      <td>-0.056636</td>\n",
       "      <td>-647.544439</td>\n",
       "      <td>-0.992219</td>\n",
       "      <td>-648.390665</td>\n",
       "      <td>-1.982295</td>\n",
       "      <td>-649.443911</td>\n",
       "      <td>-2.593390</td>\n",
       "      <td>-649.949283</td>\n",
       "      <td>0.000000</td>\n",
       "      <td>0.000000</td>\n",
       "      <td>0.000000</td>\n",
       "      <td>0.000000</td>\n",
       "      <td>0.077503</td>\n",
       "      <td>-799.606441</td>\n",
       "      <td>0.000000</td>\n",
       "      <td>-799.873878</td>\n",
       "      <td>0.000000</td>\n",
       "      <td>-799.755798</td>\n",
       "      <td>0.000000</td>\n",
       "      <td>-809.333008</td>\n",
       "      <td>0.000000</td>\n",
       "      <td>-799.798523</td>\n",
       "      <td>0.000000</td>\n",
       "      <td>-800.836914</td>\n",
       "      <td>-0.372054</td>\n",
       "      <td>-797.323986</td>\n",
       "      <td>0.528083</td>\n",
       "      <td>-800.220337</td>\n",
       "      <td>-0.079426</td>\n",
       "      <td>-809.741464</td>\n",
       "    </tr>\n",
       "    <tr>\n",
       "      <th>25%</th>\n",
       "      <td>4.251240</td>\n",
       "      <td>9.137262</td>\n",
       "      <td>7.722820</td>\n",
       "      <td>43.402215</td>\n",
       "      <td>63.299712</td>\n",
       "      <td>8.062878</td>\n",
       "      <td>2.040119</td>\n",
       "      <td>8.938947</td>\n",
       "      <td>2.461138</td>\n",
       "      <td>114.107029</td>\n",
       "      <td>6.076909</td>\n",
       "      <td>6.940000</td>\n",
       "      <td>0.697224</td>\n",
       "      <td>7.263288</td>\n",
       "      <td>8.702328</td>\n",
       "      <td>7.893893</td>\n",
       "      <td>30.463140</td>\n",
       "      <td>14.017742</td>\n",
       "      <td>2.504365</td>\n",
       "      <td>6.747483</td>\n",
       "      <td>2.924844</td>\n",
       "      <td>1.505063e+03</td>\n",
       "      <td>-500.308544</td>\n",
       "      <td>1.503630e+03</td>\n",
       "      <td>-500.437171</td>\n",
       "      <td>1.500927e+03</td>\n",
       "      <td>-500.703932</td>\n",
       "      <td>1.494219e+03</td>\n",
       "      <td>-500.458365</td>\n",
       "      <td>4.070095e+04</td>\n",
       "      <td>2611.425833</td>\n",
       "      <td>2551.437587</td>\n",
       "      <td>2.035434</td>\n",
       "      <td>7.237967</td>\n",
       "      <td>2.887280</td>\n",
       "      <td>416.525453</td>\n",
       "      <td>47.435103</td>\n",
       "      <td>34.207799</td>\n",
       "      <td>6.854384</td>\n",
       "      <td>10.000362</td>\n",
       "      <td>5.398678</td>\n",
       "      <td>9.998460</td>\n",
       "      <td>5.402368</td>\n",
       "      <td>10.628337</td>\n",
       "      <td>6.725987</td>\n",
       "      <td>27.224120</td>\n",
       "      <td>18.802523</td>\n",
       "      <td>81.037957</td>\n",
       "      <td>4.889892</td>\n",
       "      <td>0.477728</td>\n",
       "      <td>15.822525</td>\n",
       "      <td>1.404207</td>\n",
       "      <td>999.661867</td>\n",
       "      <td>-499.835165</td>\n",
       "      <td>1199.626115</td>\n",
       "      <td>-500.201130</td>\n",
       "      <td>1151.076301</td>\n",
       "      <td>-500.217218</td>\n",
       "      <td>1061.051788</td>\n",
       "      <td>-500.386386</td>\n",
       "      <td>998.675263</td>\n",
       "      <td>-500.232191</td>\n",
       "      <td>900.995511</td>\n",
       "      <td>-500.522553</td>\n",
       "      <td>12.640239</td>\n",
       "      <td>3.864733</td>\n",
       "      <td>3.845475</td>\n",
       "      <td>3.182770</td>\n",
       "      <td>25.048462</td>\n",
       "      <td>-500.233700</td>\n",
       "      <td>20.919853</td>\n",
       "      <td>-500.253794</td>\n",
       "      <td>24.949227</td>\n",
       "      <td>-500.213546</td>\n",
       "      <td>18.995924</td>\n",
       "      <td>-500.123034</td>\n",
       "      <td>14.975734</td>\n",
       "      <td>-500.704892</td>\n",
       "      <td>11.940294</td>\n",
       "      <td>-500.187742</td>\n",
       "      <td>10.988606</td>\n",
       "      <td>-500.458467</td>\n",
       "      <td>8.971105</td>\n",
       "      <td>-500.129462</td>\n",
       "      <td>14.983037</td>\n",
       "      <td>-500.728067</td>\n",
       "    </tr>\n",
       "    <tr>\n",
       "      <th>50%</th>\n",
       "      <td>5.066094</td>\n",
       "      <td>10.102433</td>\n",
       "      <td>9.218961</td>\n",
       "      <td>45.011244</td>\n",
       "      <td>68.172738</td>\n",
       "      <td>9.743623</td>\n",
       "      <td>2.748730</td>\n",
       "      <td>10.622456</td>\n",
       "      <td>2.984909</td>\n",
       "      <td>143.232103</td>\n",
       "      <td>8.038311</td>\n",
       "      <td>7.280000</td>\n",
       "      <td>0.940863</td>\n",
       "      <td>8.507298</td>\n",
       "      <td>10.152433</td>\n",
       "      <td>10.314632</td>\n",
       "      <td>32.841295</td>\n",
       "      <td>15.842836</td>\n",
       "      <td>3.271153</td>\n",
       "      <td>8.183673</td>\n",
       "      <td>3.623234</td>\n",
       "      <td>1.600597e+03</td>\n",
       "      <td>-499.926134</td>\n",
       "      <td>1.600521e+03</td>\n",
       "      <td>-499.956767</td>\n",
       "      <td>1.600254e+03</td>\n",
       "      <td>-499.909524</td>\n",
       "      <td>1.599447e+03</td>\n",
       "      <td>-499.905974</td>\n",
       "      <td>4.469648e+04</td>\n",
       "      <td>3018.353876</td>\n",
       "      <td>2997.218088</td>\n",
       "      <td>2.309665</td>\n",
       "      <td>8.593574</td>\n",
       "      <td>3.534895</td>\n",
       "      <td>499.416120</td>\n",
       "      <td>54.610197</td>\n",
       "      <td>37.202650</td>\n",
       "      <td>8.125839</td>\n",
       "      <td>12.001174</td>\n",
       "      <td>6.008273</td>\n",
       "      <td>12.000204</td>\n",
       "      <td>6.098580</td>\n",
       "      <td>12.098115</td>\n",
       "      <td>7.742580</td>\n",
       "      <td>29.835345</td>\n",
       "      <td>20.280214</td>\n",
       "      <td>86.188892</td>\n",
       "      <td>5.765802</td>\n",
       "      <td>0.617465</td>\n",
       "      <td>18.106867</td>\n",
       "      <td>1.808170</td>\n",
       "      <td>1001.072890</td>\n",
       "      <td>-300.263994</td>\n",
       "      <td>1301.579988</td>\n",
       "      <td>-499.784045</td>\n",
       "      <td>1300.211537</td>\n",
       "      <td>-499.713364</td>\n",
       "      <td>1201.569141</td>\n",
       "      <td>-499.532412</td>\n",
       "      <td>1050.029461</td>\n",
       "      <td>-499.663089</td>\n",
       "      <td>999.924821</td>\n",
       "      <td>-499.471777</td>\n",
       "      <td>15.641902</td>\n",
       "      <td>5.344073</td>\n",
       "      <td>7.685827</td>\n",
       "      <td>4.072412</td>\n",
       "      <td>29.099943</td>\n",
       "      <td>-499.973250</td>\n",
       "      <td>25.043289</td>\n",
       "      <td>-500.015439</td>\n",
       "      <td>27.982129</td>\n",
       "      <td>-499.930680</td>\n",
       "      <td>22.011231</td>\n",
       "      <td>-499.981902</td>\n",
       "      <td>18.017481</td>\n",
       "      <td>-499.837793</td>\n",
       "      <td>14.971014</td>\n",
       "      <td>-499.459786</td>\n",
       "      <td>15.000036</td>\n",
       "      <td>-499.802605</td>\n",
       "      <td>11.019433</td>\n",
       "      <td>-499.935317</td>\n",
       "      <td>19.960541</td>\n",
       "      <td>-500.048400</td>\n",
       "    </tr>\n",
       "    <tr>\n",
       "      <th>75%</th>\n",
       "      <td>5.895527</td>\n",
       "      <td>11.035769</td>\n",
       "      <td>10.947813</td>\n",
       "      <td>46.275313</td>\n",
       "      <td>72.686642</td>\n",
       "      <td>11.134294</td>\n",
       "      <td>3.333216</td>\n",
       "      <td>12.104271</td>\n",
       "      <td>3.571351</td>\n",
       "      <td>175.075656</td>\n",
       "      <td>11.013521</td>\n",
       "      <td>7.670000</td>\n",
       "      <td>1.210990</td>\n",
       "      <td>9.809001</td>\n",
       "      <td>11.424971</td>\n",
       "      <td>13.446702</td>\n",
       "      <td>35.048006</td>\n",
       "      <td>18.013975</td>\n",
       "      <td>4.181748</td>\n",
       "      <td>9.548586</td>\n",
       "      <td>4.585705</td>\n",
       "      <td>1.697658e+03</td>\n",
       "      <td>-499.433950</td>\n",
       "      <td>1.699218e+03</td>\n",
       "      <td>-499.373336</td>\n",
       "      <td>1.699483e+03</td>\n",
       "      <td>-498.857643</td>\n",
       "      <td>1.698525e+03</td>\n",
       "      <td>-499.064695</td>\n",
       "      <td>4.816821e+04</td>\n",
       "      <td>3676.769750</td>\n",
       "      <td>3601.998911</td>\n",
       "      <td>2.731794</td>\n",
       "      <td>10.213771</td>\n",
       "      <td>4.244161</td>\n",
       "      <td>550.172183</td>\n",
       "      <td>65.023044</td>\n",
       "      <td>40.039133</td>\n",
       "      <td>9.769917</td>\n",
       "      <td>14.716595</td>\n",
       "      <td>6.798051</td>\n",
       "      <td>14.636766</td>\n",
       "      <td>6.801233</td>\n",
       "      <td>13.736996</td>\n",
       "      <td>8.565199</td>\n",
       "      <td>32.189933</td>\n",
       "      <td>21.717843</td>\n",
       "      <td>90.010670</td>\n",
       "      <td>6.389234</td>\n",
       "      <td>0.778271</td>\n",
       "      <td>20.088151</td>\n",
       "      <td>2.211861</td>\n",
       "      <td>1205.620588</td>\n",
       "      <td>-299.981998</td>\n",
       "      <td>1448.630789</td>\n",
       "      <td>-400.615589</td>\n",
       "      <td>1449.464001</td>\n",
       "      <td>-400.985743</td>\n",
       "      <td>1352.880320</td>\n",
       "      <td>-401.638550</td>\n",
       "      <td>1199.425140</td>\n",
       "      <td>-401.161191</td>\n",
       "      <td>1099.719692</td>\n",
       "      <td>-401.511042</td>\n",
       "      <td>17.358217</td>\n",
       "      <td>7.788467</td>\n",
       "      <td>10.411296</td>\n",
       "      <td>5.063081</td>\n",
       "      <td>33.012536</td>\n",
       "      <td>-499.671261</td>\n",
       "      <td>28.008197</td>\n",
       "      <td>-499.785698</td>\n",
       "      <td>33.002798</td>\n",
       "      <td>-499.325739</td>\n",
       "      <td>25.998206</td>\n",
       "      <td>-499.812834</td>\n",
       "      <td>23.012470</td>\n",
       "      <td>-498.249730</td>\n",
       "      <td>19.034162</td>\n",
       "      <td>-400.118106</td>\n",
       "      <td>18.026190</td>\n",
       "      <td>-498.384187</td>\n",
       "      <td>14.019088</td>\n",
       "      <td>-499.436708</td>\n",
       "      <td>24.003170</td>\n",
       "      <td>-499.495378</td>\n",
       "    </tr>\n",
       "    <tr>\n",
       "      <th>max</th>\n",
       "      <td>16.001945</td>\n",
       "      <td>17.031899</td>\n",
       "      <td>19.615720</td>\n",
       "      <td>52.756638</td>\n",
       "      <td>100.000000</td>\n",
       "      <td>19.552149</td>\n",
       "      <td>5.804178</td>\n",
       "      <td>22.317730</td>\n",
       "      <td>8.245022</td>\n",
       "      <td>265.983123</td>\n",
       "      <td>40.000000</td>\n",
       "      <td>15.500000</td>\n",
       "      <td>4.102454</td>\n",
       "      <td>16.081632</td>\n",
       "      <td>17.081278</td>\n",
       "      <td>22.458114</td>\n",
       "      <td>45.933934</td>\n",
       "      <td>29.459575</td>\n",
       "      <td>9.634565</td>\n",
       "      <td>22.276364</td>\n",
       "      <td>17.788925</td>\n",
       "      <td>2.103104e+03</td>\n",
       "      <td>-57.195404</td>\n",
       "      <td>2.114907e+03</td>\n",
       "      <td>-142.527229</td>\n",
       "      <td>2.013156e+03</td>\n",
       "      <td>-150.937035</td>\n",
       "      <td>2.398904e+03</td>\n",
       "      <td>-30.601828</td>\n",
       "      <td>3.428099e+06</td>\n",
       "      <td>629638.977914</td>\n",
       "      <td>718684.955855</td>\n",
       "      <td>39.379272</td>\n",
       "      <td>14.596026</td>\n",
       "      <td>7.142594</td>\n",
       "      <td>717.508837</td>\n",
       "      <td>484.967466</td>\n",
       "      <td>53.477742</td>\n",
       "      <td>13.731330</td>\n",
       "      <td>36.118275</td>\n",
       "      <td>9.703448</td>\n",
       "      <td>37.980648</td>\n",
       "      <td>9.698407</td>\n",
       "      <td>24.480271</td>\n",
       "      <td>13.617072</td>\n",
       "      <td>38.351193</td>\n",
       "      <td>28.824507</td>\n",
       "      <td>100.000000</td>\n",
       "      <td>12.719177</td>\n",
       "      <td>3.778064</td>\n",
       "      <td>66.117188</td>\n",
       "      <td>9.688980</td>\n",
       "      <td>1521.980372</td>\n",
       "      <td>-273.776101</td>\n",
       "      <td>1809.194008</td>\n",
       "      <td>-296.383080</td>\n",
       "      <td>2499.129174</td>\n",
       "      <td>-292.155509</td>\n",
       "      <td>1817.199290</td>\n",
       "      <td>-76.397327</td>\n",
       "      <td>1922.636637</td>\n",
       "      <td>-139.753025</td>\n",
       "      <td>1706.307502</td>\n",
       "      <td>-191.718480</td>\n",
       "      <td>23.264738</td>\n",
       "      <td>17.042505</td>\n",
       "      <td>26.000772</td>\n",
       "      <td>26.811643</td>\n",
       "      <td>52.651399</td>\n",
       "      <td>-127.875565</td>\n",
       "      <td>35.152122</td>\n",
       "      <td>-211.999273</td>\n",
       "      <td>44.260464</td>\n",
       "      <td>-191.678810</td>\n",
       "      <td>35.072841</td>\n",
       "      <td>-159.742331</td>\n",
       "      <td>30.115735</td>\n",
       "      <td>-245.239184</td>\n",
       "      <td>31.269706</td>\n",
       "      <td>-6.506986</td>\n",
       "      <td>43.709931</td>\n",
       "      <td>-244.483566</td>\n",
       "      <td>27.926001</td>\n",
       "      <td>-137.740004</td>\n",
       "      <td>32.188906</td>\n",
       "      <td>-104.427459</td>\n",
       "    </tr>\n",
       "  </tbody>\n",
       "</table>\n",
       "</div>"
      ],
      "text/plain": [
       "       final.output.concentrate_ag  final.output.concentrate_pb  \\\n",
       "count                 19438.000000                 19438.000000   \n",
       "mean                      5.168470                     9.978895   \n",
       "std                       1.372348                     1.669240   \n",
       "min                       0.000000                     0.000000   \n",
       "25%                       4.251240                     9.137262   \n",
       "50%                       5.066094                    10.102433   \n",
       "75%                       5.895527                    11.035769   \n",
       "max                      16.001945                    17.031899   \n",
       "\n",
       "       final.output.concentrate_sol  final.output.concentrate_au  \\\n",
       "count                  19228.000000                 19439.000000   \n",
       "mean                       9.501224                    44.076513   \n",
       "std                        2.787537                     5.129784   \n",
       "min                        0.000000                     0.000000   \n",
       "25%                        7.722820                    43.402215   \n",
       "50%                        9.218961                    45.011244   \n",
       "75%                       10.947813                    46.275313   \n",
       "max                       19.615720                    52.756638   \n",
       "\n",
       "       final.output.recovery  final.output.tail_ag  final.output.tail_pb  \\\n",
       "count           19439.000000          19438.000000          19338.000000   \n",
       "mean               67.050208              9.688589              2.705795   \n",
       "std                10.125840              2.328642              0.949077   \n",
       "min                 0.000000              0.000000              0.000000   \n",
       "25%                63.299712              8.062878              2.040119   \n",
       "50%                68.172738              9.743623              2.748730   \n",
       "75%                72.686642             11.134294              3.333216   \n",
       "max               100.000000             19.552149              5.804178   \n",
       "\n",
       "       final.output.tail_sol  final.output.tail_au  \\\n",
       "count           19433.000000          19439.000000   \n",
       "mean               10.583728              3.042467   \n",
       "std                 2.868782              0.922808   \n",
       "min                 0.000000              0.000000   \n",
       "25%                 8.938947              2.461138   \n",
       "50%                10.622456              2.984909   \n",
       "75%                12.104271              3.571351   \n",
       "max                22.317730              8.245022   \n",
       "\n",
       "       primary_cleaner.input.sulfate  primary_cleaner.input.depressant  \\\n",
       "count                   19415.000000                      19402.000000   \n",
       "mean                      144.624774                          8.817039   \n",
       "std                        44.464071                          3.286186   \n",
       "min                         0.003112                          0.000000   \n",
       "25%                       114.107029                          6.076909   \n",
       "50%                       143.232103                          8.038311   \n",
       "75%                       175.075656                         11.013521   \n",
       "max                       265.983123                         40.000000   \n",
       "\n",
       "       primary_cleaner.input.feed_size  primary_cleaner.input.xanthate  \\\n",
       "count                     19439.000000                    19335.000000   \n",
       "mean                          7.307078                        1.021795   \n",
       "std                           0.613509                        0.513254   \n",
       "min                           1.080000                        0.000005   \n",
       "25%                           6.940000                        0.697224   \n",
       "50%                           7.280000                        0.940863   \n",
       "75%                           7.670000                        1.210990   \n",
       "max                          15.500000                        4.102454   \n",
       "\n",
       "       primary_cleaner.output.concentrate_ag  \\\n",
       "count                           19439.000000   \n",
       "mean                                8.442408   \n",
       "std                                 2.054465   \n",
       "min                                 0.000000   \n",
       "25%                                 7.263288   \n",
       "50%                                 8.507298   \n",
       "75%                                 9.809001   \n",
       "max                                16.081632   \n",
       "\n",
       "       primary_cleaner.output.concentrate_pb  \\\n",
       "count                           19323.000000   \n",
       "mean                                9.829530   \n",
       "std                                 2.556843   \n",
       "min                                 0.000000   \n",
       "25%                                 8.702328   \n",
       "50%                                10.152433   \n",
       "75%                                11.424971   \n",
       "max                                17.081278   \n",
       "\n",
       "       primary_cleaner.output.concentrate_sol  \\\n",
       "count                            19069.000000   \n",
       "mean                                10.489499   \n",
       "std                                  3.909639   \n",
       "min                                  0.000000   \n",
       "25%                                  7.893893   \n",
       "50%                                 10.314632   \n",
       "75%                                 13.446702   \n",
       "max                                 22.458114   \n",
       "\n",
       "       primary_cleaner.output.concentrate_au  primary_cleaner.output.tail_ag  \\\n",
       "count                           19439.000000                    19435.000000   \n",
       "mean                               32.119400                       16.145826   \n",
       "std                                 5.627611                        3.548598   \n",
       "min                                 0.000000                        0.000000   \n",
       "25%                                30.463140                       14.017742   \n",
       "50%                                32.841295                       15.842836   \n",
       "75%                                35.048006                       18.013975   \n",
       "max                                45.933934                       29.459575   \n",
       "\n",
       "       primary_cleaner.output.tail_pb  primary_cleaner.output.tail_sol  \\\n",
       "count                    19418.000000                     19377.000000   \n",
       "mean                         3.435656                         7.973209   \n",
       "std                          1.392536                         2.212677   \n",
       "min                          0.000000                         0.000000   \n",
       "25%                          2.504365                         6.747483   \n",
       "50%                          3.271153                         8.183673   \n",
       "75%                          4.181748                         9.548586   \n",
       "max                          9.634565                        22.276364   \n",
       "\n",
       "       primary_cleaner.output.tail_au  primary_cleaner.state.floatbank8_a_air  \\\n",
       "count                    19439.000000                            1.943500e+04   \n",
       "mean                         3.914179                            1.589354e+03   \n",
       "std                          1.593034                            1.289968e+02   \n",
       "min                          0.000000                            5.445860e-32   \n",
       "25%                          2.924844                            1.505063e+03   \n",
       "50%                          3.623234                            1.600597e+03   \n",
       "75%                          4.585705                            1.697658e+03   \n",
       "max                         17.788925                            2.103104e+03   \n",
       "\n",
       "       primary_cleaner.state.floatbank8_a_level  \\\n",
       "count                              19438.000000   \n",
       "mean                                -491.195012   \n",
       "std                                   32.431842   \n",
       "min                                 -798.641662   \n",
       "25%                                 -500.308544   \n",
       "50%                                 -499.926134   \n",
       "75%                                 -499.433950   \n",
       "max                                  -57.195404   \n",
       "\n",
       "       primary_cleaner.state.floatbank8_b_air  \\\n",
       "count                            1.943500e+04   \n",
       "mean                             1.591344e+03   \n",
       "std                              1.318109e+02   \n",
       "min                              6.647490e-32   \n",
       "25%                              1.503630e+03   \n",
       "50%                              1.600521e+03   \n",
       "75%                              1.699218e+03   \n",
       "max                              2.114907e+03   \n",
       "\n",
       "       primary_cleaner.state.floatbank8_b_level  \\\n",
       "count                              19438.000000   \n",
       "mean                                -492.192978   \n",
       "std                                   33.794822   \n",
       "min                                 -799.997015   \n",
       "25%                                 -500.437171   \n",
       "50%                                 -499.956767   \n",
       "75%                                 -499.373336   \n",
       "max                                 -142.527229   \n",
       "\n",
       "       primary_cleaner.state.floatbank8_c_air  \\\n",
       "count                            1.943700e+04   \n",
       "mean                             1.586669e+03   \n",
       "std                              1.361114e+02   \n",
       "min                              4.033736e-32   \n",
       "25%                              1.500927e+03   \n",
       "50%                              1.600254e+03   \n",
       "75%                              1.699483e+03   \n",
       "max                              2.013156e+03   \n",
       "\n",
       "       primary_cleaner.state.floatbank8_c_level  \\\n",
       "count                              19438.000000   \n",
       "mean                                -491.980070   \n",
       "std                                   32.711455   \n",
       "min                                 -799.960571   \n",
       "25%                                 -500.703932   \n",
       "50%                                 -499.909524   \n",
       "75%                                 -498.857643   \n",
       "max                                 -150.937035   \n",
       "\n",
       "       primary_cleaner.state.floatbank8_d_air  \\\n",
       "count                            1.943600e+04   \n",
       "mean                             1.542912e+03   \n",
       "std                              2.461996e+02   \n",
       "min                              4.039220e-32   \n",
       "25%                              1.494219e+03   \n",
       "50%                              1.599447e+03   \n",
       "75%                              1.698525e+03   \n",
       "max                              2.398904e+03   \n",
       "\n",
       "       primary_cleaner.state.floatbank8_d_level  \\\n",
       "count                              19438.000000   \n",
       "mean                                -488.017382   \n",
       "std                                   43.959780   \n",
       "min                                 -799.794250   \n",
       "25%                                 -500.458365   \n",
       "50%                                 -499.905974   \n",
       "75%                                 -499.064695   \n",
       "max                                  -30.601828   \n",
       "\n",
       "       rougher.calculation.sulfate_to_au_concentrate  \\\n",
       "count                                   1.943700e+04   \n",
       "mean                                    4.217119e+04   \n",
       "std                                     3.243621e+05   \n",
       "min                                    -4.223520e+07   \n",
       "25%                                     4.070095e+04   \n",
       "50%                                     4.469648e+04   \n",
       "75%                                     4.816821e+04   \n",
       "max                                     3.428099e+06   \n",
       "\n",
       "       rougher.calculation.floatbank10_sulfate_to_au_feed  \\\n",
       "count                                       19437.000000    \n",
       "mean                                         3393.052498    \n",
       "std                                          4943.845943    \n",
       "min                                          -486.598675    \n",
       "25%                                          2611.425833    \n",
       "50%                                          3018.353876    \n",
       "75%                                          3676.769750    \n",
       "max                                        629638.977914    \n",
       "\n",
       "       rougher.calculation.floatbank11_sulfate_to_au_feed  \\\n",
       "count                                       19437.000000    \n",
       "mean                                         3256.854171    \n",
       "std                                          5781.423659    \n",
       "min                                          -264.982785    \n",
       "25%                                          2551.437587    \n",
       "50%                                          2997.218088    \n",
       "75%                                          3601.998911    \n",
       "max                                        718684.955855    \n",
       "\n",
       "       rougher.calculation.au_pb_ratio  rougher.input.feed_ag  \\\n",
       "count                     19439.000000           19439.000000   \n",
       "mean                          2.420119               8.794927   \n",
       "std                           0.814935               1.936847   \n",
       "min                          -0.010548               0.010000   \n",
       "25%                           2.035434               7.237967   \n",
       "50%                           2.309665               8.593574   \n",
       "75%                           2.731794              10.213771   \n",
       "max                          39.379272              14.596026   \n",
       "\n",
       "       rougher.input.feed_pb  rougher.input.feed_rate  \\\n",
       "count           19339.000000             19428.000000   \n",
       "mean                3.598085               478.320042   \n",
       "std                 1.049486               105.373758   \n",
       "min                 0.010000                 0.002986   \n",
       "25%                 2.887280               416.525453   \n",
       "50%                 3.534895               499.416120   \n",
       "75%                 4.244161               550.172183   \n",
       "max                 7.142594               717.508837   \n",
       "\n",
       "       rougher.input.feed_size  rougher.input.feed_sol  rougher.input.feed_au  \\\n",
       "count             19294.000000            19340.000000           19439.000000   \n",
       "mean                 58.970310               36.695114               8.266097   \n",
       "std                  21.634478                5.145445               1.955092   \n",
       "min                   0.046369                0.010000               0.010000   \n",
       "25%                  47.435103               34.207799               6.854384   \n",
       "50%                  54.610197               37.202650               8.125839   \n",
       "75%                  65.023044               40.039133               9.769917   \n",
       "max                 484.967466               53.477742              13.731330   \n",
       "\n",
       "       rougher.input.floatbank10_sulfate  rougher.input.floatbank10_xanthate  \\\n",
       "count                       19405.000000                        19431.000000   \n",
       "mean                           12.334373                            6.021474   \n",
       "std                             3.427317                            1.127263   \n",
       "min                             0.001083                            0.000568   \n",
       "25%                            10.000362                            5.398678   \n",
       "50%                            12.001174                            6.008273   \n",
       "75%                            14.716595                            6.798051   \n",
       "max                            36.118275                            9.703448   \n",
       "\n",
       "       rougher.input.floatbank11_sulfate  rougher.input.floatbank11_xanthate  \\\n",
       "count                       19395.000000                        18986.000000   \n",
       "mean                           12.064140                            6.065533   \n",
       "std                             3.784221                            1.099118   \n",
       "min                             0.000077                            0.000290   \n",
       "25%                             9.998460                            5.402368   \n",
       "50%                            12.000204                            6.098580   \n",
       "75%                            14.636766                            6.801233   \n",
       "max                            37.980648                            9.698407   \n",
       "\n",
       "       rougher.output.concentrate_ag  rougher.output.concentrate_pb  \\\n",
       "count                   19439.000000                   19439.000000   \n",
       "mean                       11.994759                       7.606272   \n",
       "std                         2.733862                       1.796757   \n",
       "min                         0.000000                       0.000000   \n",
       "25%                        10.628337                       6.725987   \n",
       "50%                        12.098115                       7.742580   \n",
       "75%                        13.736996                       8.565199   \n",
       "max                        24.480271                      13.617072   \n",
       "\n",
       "       rougher.output.concentrate_sol  rougher.output.concentrate_au  \\\n",
       "count                    19416.000000                   19439.000000   \n",
       "mean                        28.805571                      19.772000   \n",
       "std                          5.944207                       3.753600   \n",
       "min                          0.000000                       0.000000   \n",
       "25%                         27.224120                      18.802523   \n",
       "50%                         29.835345                      20.280214   \n",
       "75%                         32.189933                      21.717843   \n",
       "max                         38.351193                      28.824507   \n",
       "\n",
       "       rougher.output.recovery  rougher.output.tail_ag  \\\n",
       "count             19439.000000            19438.000000   \n",
       "mean                 83.328587                5.588982   \n",
       "std                  14.148086                1.111288   \n",
       "min                   0.000000                0.594562   \n",
       "25%                  81.037957                4.889892   \n",
       "50%                  86.188892                5.765802   \n",
       "75%                  90.010670                6.389234   \n",
       "max                 100.000000               12.719177   \n",
       "\n",
       "       rougher.output.tail_pb  rougher.output.tail_sol  \\\n",
       "count            19439.000000             19439.000000   \n",
       "mean                 0.645782                18.057106   \n",
       "std                  0.251526                 3.449218   \n",
       "min                  0.007566                10.014648   \n",
       "25%                  0.477728                15.822525   \n",
       "50%                  0.617465                18.106867   \n",
       "75%                  0.778271                20.088151   \n",
       "max                  3.778064                66.117188   \n",
       "\n",
       "       rougher.output.tail_au  rougher.state.floatbank10_a_air  \\\n",
       "count            19439.000000                     19438.000000   \n",
       "mean                 1.816391                      1105.315068   \n",
       "std                  0.680046                       160.826798   \n",
       "min                  0.020676                        -0.042069   \n",
       "25%                  1.404207                       999.661867   \n",
       "50%                  1.808170                      1001.072890   \n",
       "75%                  2.211861                      1205.620588   \n",
       "max                  9.688980                      1521.980372   \n",
       "\n",
       "       rougher.state.floatbank10_a_level  rougher.state.floatbank10_b_air  \\\n",
       "count                       19438.000000                     19438.000000   \n",
       "mean                         -376.610690                      1320.221139   \n",
       "std                            93.909667                       176.287095   \n",
       "min                          -657.949759                        -0.721806   \n",
       "25%                          -499.835165                      1199.626115   \n",
       "50%                          -300.263994                      1301.579988   \n",
       "75%                          -299.981998                      1448.630789   \n",
       "max                          -273.776101                      1809.194008   \n",
       "\n",
       "       rougher.state.floatbank10_b_level  rougher.state.floatbank10_c_air  \\\n",
       "count                       19438.000000                     19438.000000   \n",
       "mean                         -467.247826                      1299.968799   \n",
       "std                            54.673142                       202.804325   \n",
       "min                          -650.260008                        -0.056636   \n",
       "25%                          -500.201130                      1151.076301   \n",
       "50%                          -499.784045                      1300.211537   \n",
       "75%                          -400.615589                      1449.464001   \n",
       "max                          -296.383080                      2499.129174   \n",
       "\n",
       "       rougher.state.floatbank10_c_level  rougher.state.floatbank10_d_air  \\\n",
       "count                       19438.000000                     19439.000000   \n",
       "mean                         -467.716946                      1211.563299   \n",
       "std                            53.534825                       204.019326   \n",
       "min                          -647.544439                        -0.992219   \n",
       "25%                          -500.217218                      1061.051788   \n",
       "50%                          -499.713364                      1201.569141   \n",
       "75%                          -400.985743                      1352.880320   \n",
       "max                          -292.155509                      1817.199290   \n",
       "\n",
       "       rougher.state.floatbank10_d_level  rougher.state.floatbank10_e_air  \\\n",
       "count                       19439.000000                     19003.000000   \n",
       "mean                         -468.239912                      1080.869685   \n",
       "std                            53.921458                       172.149992   \n",
       "min                          -648.390665                        -1.982295   \n",
       "25%                          -500.386386                       998.675263   \n",
       "50%                          -499.532412                      1050.029461   \n",
       "75%                          -401.638550                      1199.425140   \n",
       "max                           -76.397327                      1922.636637   \n",
       "\n",
       "       rougher.state.floatbank10_e_level  rougher.state.floatbank10_f_air  \\\n",
       "count                       19439.000000                     19439.000000   \n",
       "mean                         -466.037742                      1025.274256   \n",
       "std                            57.384424                       164.487837   \n",
       "min                          -649.443911                        -2.593390   \n",
       "25%                          -500.232191                       900.995511   \n",
       "50%                          -499.663089                       999.924821   \n",
       "75%                          -401.161191                      1099.719692   \n",
       "max                          -139.753025                      1706.307502   \n",
       "\n",
       "       rougher.state.floatbank10_f_level  secondary_cleaner.output.tail_ag  \\\n",
       "count                       19439.000000                      19437.000000   \n",
       "mean                         -466.265327                         14.586833   \n",
       "std                            57.850263                          4.265202   \n",
       "min                          -649.949283                          0.000000   \n",
       "25%                          -500.522553                         12.640239   \n",
       "50%                          -499.471777                         15.641902   \n",
       "75%                          -401.511042                         17.358217   \n",
       "max                          -191.718480                         23.264738   \n",
       "\n",
       "       secondary_cleaner.output.tail_pb  secondary_cleaner.output.tail_sol  \\\n",
       "count                      19427.000000                       17691.000000   \n",
       "mean                           5.777703                           7.167247   \n",
       "std                            2.774598                           3.916079   \n",
       "min                            0.000000                           0.000000   \n",
       "25%                            3.864733                           3.845475   \n",
       "50%                            5.344073                           7.685827   \n",
       "75%                            7.788467                          10.411296   \n",
       "max                           17.042505                          26.000772   \n",
       "\n",
       "       secondary_cleaner.output.tail_au  \\\n",
       "count                      19439.000000   \n",
       "mean                           4.339625   \n",
       "std                            2.326751   \n",
       "min                            0.000000   \n",
       "25%                            3.182770   \n",
       "50%                            4.072412   \n",
       "75%                            5.063081   \n",
       "max                           26.811643   \n",
       "\n",
       "       secondary_cleaner.state.floatbank2_a_air  \\\n",
       "count                              19219.000000   \n",
       "mean                                  28.705564   \n",
       "std                                    5.458789   \n",
       "min                                    0.077503   \n",
       "25%                                   25.048462   \n",
       "50%                                   29.099943   \n",
       "75%                                   33.012536   \n",
       "max                                   52.651399   \n",
       "\n",
       "       secondary_cleaner.state.floatbank2_a_level  \\\n",
       "count                                19438.000000   \n",
       "mean                                  -502.367331   \n",
       "std                                     53.571950   \n",
       "min                                   -799.606441   \n",
       "25%                                   -500.233700   \n",
       "50%                                   -499.973250   \n",
       "75%                                   -499.671261   \n",
       "max                                   -127.875565   \n",
       "\n",
       "       secondary_cleaner.state.floatbank2_b_air  \\\n",
       "count                              19416.000000   \n",
       "mean                                  24.106800   \n",
       "std                                    5.749616   \n",
       "min                                    0.000000   \n",
       "25%                                   20.919853   \n",
       "50%                                   25.043289   \n",
       "75%                                   28.008197   \n",
       "max                                   35.152122   \n",
       "\n",
       "       secondary_cleaner.state.floatbank2_b_level  \\\n",
       "count                                19438.000000   \n",
       "mean                                  -503.230712   \n",
       "std                                     56.567724   \n",
       "min                                   -799.873878   \n",
       "25%                                   -500.253794   \n",
       "50%                                   -500.015439   \n",
       "75%                                   -499.785698   \n",
       "max                                   -211.999273   \n",
       "\n",
       "       secondary_cleaner.state.floatbank3_a_air  \\\n",
       "count                              19426.000000   \n",
       "mean                                  28.199338   \n",
       "std                                    6.134908   \n",
       "min                                    0.000000   \n",
       "25%                                   24.949227   \n",
       "50%                                   27.982129   \n",
       "75%                                   33.002798   \n",
       "max                                   44.260464   \n",
       "\n",
       "       secondary_cleaner.state.floatbank3_a_level  \\\n",
       "count                                19438.000000   \n",
       "mean                                  -486.203350   \n",
       "std                                     54.412349   \n",
       "min                                   -799.755798   \n",
       "25%                                   -500.213546   \n",
       "50%                                   -499.930680   \n",
       "75%                                   -499.325739   \n",
       "max                                   -191.678810   \n",
       "\n",
       "       secondary_cleaner.state.floatbank3_b_air  \\\n",
       "count                              19438.000000   \n",
       "mean                                  22.200645   \n",
       "std                                    5.574001   \n",
       "min                                    0.000000   \n",
       "25%                                   18.995924   \n",
       "50%                                   22.011231   \n",
       "75%                                   25.998206   \n",
       "max                                   35.072841   \n",
       "\n",
       "       secondary_cleaner.state.floatbank3_b_level  \\\n",
       "count                                19438.000000   \n",
       "mean                                  -493.742107   \n",
       "std                                     43.372158   \n",
       "min                                   -809.333008   \n",
       "25%                                   -500.123034   \n",
       "50%                                   -499.981902   \n",
       "75%                                   -499.812834   \n",
       "max                                   -159.742331   \n",
       "\n",
       "       secondary_cleaner.state.floatbank4_a_air  \\\n",
       "count                              19433.000000   \n",
       "mean                                  18.987674   \n",
       "std                                    5.411058   \n",
       "min                                    0.000000   \n",
       "25%                                   14.975734   \n",
       "50%                                   18.017481   \n",
       "75%                                   23.012470   \n",
       "max                                   30.115735   \n",
       "\n",
       "       secondary_cleaner.state.floatbank4_a_level  \\\n",
       "count                                19438.000000   \n",
       "mean                                  -485.894516   \n",
       "std                                     47.758570   \n",
       "min                                   -799.798523   \n",
       "25%                                   -500.704892   \n",
       "50%                                   -499.837793   \n",
       "75%                                   -498.249730   \n",
       "max                                   -245.239184   \n",
       "\n",
       "       secondary_cleaner.state.floatbank4_b_air  \\\n",
       "count                              19438.000000   \n",
       "mean                                  15.010366   \n",
       "std                                    4.890228   \n",
       "min                                    0.000000   \n",
       "25%                                   11.940294   \n",
       "50%                                   14.971014   \n",
       "75%                                   19.034162   \n",
       "max                                   31.269706   \n",
       "\n",
       "       secondary_cleaner.state.floatbank4_b_level  \\\n",
       "count                                19438.000000   \n",
       "mean                                  -461.078636   \n",
       "std                                     67.405524   \n",
       "min                                   -800.836914   \n",
       "25%                                   -500.187742   \n",
       "50%                                   -499.459786   \n",
       "75%                                   -400.118106   \n",
       "max                                     -6.506986   \n",
       "\n",
       "       secondary_cleaner.state.floatbank5_a_air  \\\n",
       "count                              19438.000000   \n",
       "mean                                  15.694452   \n",
       "std                                    5.510974   \n",
       "min                                   -0.372054   \n",
       "25%                                   10.988606   \n",
       "50%                                   15.000036   \n",
       "75%                                   18.026190   \n",
       "max                                   43.709931   \n",
       "\n",
       "       secondary_cleaner.state.floatbank5_a_level  \\\n",
       "count                                19438.000000   \n",
       "mean                                  -488.684065   \n",
       "std                                     34.533396   \n",
       "min                                   -797.323986   \n",
       "25%                                   -500.458467   \n",
       "50%                                   -499.802605   \n",
       "75%                                   -498.384187   \n",
       "max                                   -244.483566   \n",
       "\n",
       "       secondary_cleaner.state.floatbank5_b_air  \\\n",
       "count                              19438.000000   \n",
       "mean                                  12.198224   \n",
       "std                                    5.333024   \n",
       "min                                    0.528083   \n",
       "25%                                    8.971105   \n",
       "50%                                   11.019433   \n",
       "75%                                   14.019088   \n",
       "max                                   27.926001   \n",
       "\n",
       "       secondary_cleaner.state.floatbank5_b_level  \\\n",
       "count                                19438.000000   \n",
       "mean                                  -487.149827   \n",
       "std                                     38.347312   \n",
       "min                                   -800.220337   \n",
       "25%                                   -500.129462   \n",
       "50%                                   -499.935317   \n",
       "75%                                   -499.436708   \n",
       "max                                   -137.740004   \n",
       "\n",
       "       secondary_cleaner.state.floatbank6_a_air  \\\n",
       "count                              19437.000000   \n",
       "mean                                  18.959024   \n",
       "std                                    5.550498   \n",
       "min                                   -0.079426   \n",
       "25%                                   14.983037   \n",
       "50%                                   19.960541   \n",
       "75%                                   24.003170   \n",
       "max                                   32.188906   \n",
       "\n",
       "       secondary_cleaner.state.floatbank6_a_level  \n",
       "count                                19438.000000  \n",
       "mean                                  -505.436305  \n",
       "std                                     37.689057  \n",
       "min                                   -809.741464  \n",
       "25%                                   -500.728067  \n",
       "50%                                   -500.048400  \n",
       "75%                                   -499.495378  \n",
       "max                                   -104.427459  "
      ]
     },
     "execution_count": 4,
     "metadata": {},
     "output_type": "execute_result"
    }
   ],
   "source": [
    "data_full.describe()"
   ]
  },
  {
   "cell_type": "code",
   "execution_count": 5,
   "metadata": {},
   "outputs": [
    {
     "name": "stdout",
     "output_type": "stream",
     "text": [
      "<class 'pandas.core.frame.DataFrame'>\n",
      "Index: 19439 entries, 2016-01-15 00:00:00 to 2018-08-18 10:59:59\n",
      "Data columns (total 86 columns):\n",
      " #   Column                                              Non-Null Count  Dtype  \n",
      "---  ------                                              --------------  -----  \n",
      " 0   final.output.concentrate_ag                         19438 non-null  float64\n",
      " 1   final.output.concentrate_pb                         19438 non-null  float64\n",
      " 2   final.output.concentrate_sol                        19228 non-null  float64\n",
      " 3   final.output.concentrate_au                         19439 non-null  float64\n",
      " 4   final.output.recovery                               19439 non-null  float64\n",
      " 5   final.output.tail_ag                                19438 non-null  float64\n",
      " 6   final.output.tail_pb                                19338 non-null  float64\n",
      " 7   final.output.tail_sol                               19433 non-null  float64\n",
      " 8   final.output.tail_au                                19439 non-null  float64\n",
      " 9   primary_cleaner.input.sulfate                       19415 non-null  float64\n",
      " 10  primary_cleaner.input.depressant                    19402 non-null  float64\n",
      " 11  primary_cleaner.input.feed_size                     19439 non-null  float64\n",
      " 12  primary_cleaner.input.xanthate                      19335 non-null  float64\n",
      " 13  primary_cleaner.output.concentrate_ag               19439 non-null  float64\n",
      " 14  primary_cleaner.output.concentrate_pb               19323 non-null  float64\n",
      " 15  primary_cleaner.output.concentrate_sol              19069 non-null  float64\n",
      " 16  primary_cleaner.output.concentrate_au               19439 non-null  float64\n",
      " 17  primary_cleaner.output.tail_ag                      19435 non-null  float64\n",
      " 18  primary_cleaner.output.tail_pb                      19418 non-null  float64\n",
      " 19  primary_cleaner.output.tail_sol                     19377 non-null  float64\n",
      " 20  primary_cleaner.output.tail_au                      19439 non-null  float64\n",
      " 21  primary_cleaner.state.floatbank8_a_air              19435 non-null  float64\n",
      " 22  primary_cleaner.state.floatbank8_a_level            19438 non-null  float64\n",
      " 23  primary_cleaner.state.floatbank8_b_air              19435 non-null  float64\n",
      " 24  primary_cleaner.state.floatbank8_b_level            19438 non-null  float64\n",
      " 25  primary_cleaner.state.floatbank8_c_air              19437 non-null  float64\n",
      " 26  primary_cleaner.state.floatbank8_c_level            19438 non-null  float64\n",
      " 27  primary_cleaner.state.floatbank8_d_air              19436 non-null  float64\n",
      " 28  primary_cleaner.state.floatbank8_d_level            19438 non-null  float64\n",
      " 29  rougher.calculation.sulfate_to_au_concentrate       19437 non-null  float64\n",
      " 30  rougher.calculation.floatbank10_sulfate_to_au_feed  19437 non-null  float64\n",
      " 31  rougher.calculation.floatbank11_sulfate_to_au_feed  19437 non-null  float64\n",
      " 32  rougher.calculation.au_pb_ratio                     19439 non-null  float64\n",
      " 33  rougher.input.feed_ag                               19439 non-null  float64\n",
      " 34  rougher.input.feed_pb                               19339 non-null  float64\n",
      " 35  rougher.input.feed_rate                             19428 non-null  float64\n",
      " 36  rougher.input.feed_size                             19294 non-null  float64\n",
      " 37  rougher.input.feed_sol                              19340 non-null  float64\n",
      " 38  rougher.input.feed_au                               19439 non-null  float64\n",
      " 39  rougher.input.floatbank10_sulfate                   19405 non-null  float64\n",
      " 40  rougher.input.floatbank10_xanthate                  19431 non-null  float64\n",
      " 41  rougher.input.floatbank11_sulfate                   19395 non-null  float64\n",
      " 42  rougher.input.floatbank11_xanthate                  18986 non-null  float64\n",
      " 43  rougher.output.concentrate_ag                       19439 non-null  float64\n",
      " 44  rougher.output.concentrate_pb                       19439 non-null  float64\n",
      " 45  rougher.output.concentrate_sol                      19416 non-null  float64\n",
      " 46  rougher.output.concentrate_au                       19439 non-null  float64\n",
      " 47  rougher.output.recovery                             19439 non-null  float64\n",
      " 48  rougher.output.tail_ag                              19438 non-null  float64\n",
      " 49  rougher.output.tail_pb                              19439 non-null  float64\n",
      " 50  rougher.output.tail_sol                             19439 non-null  float64\n",
      " 51  rougher.output.tail_au                              19439 non-null  float64\n",
      " 52  rougher.state.floatbank10_a_air                     19438 non-null  float64\n",
      " 53  rougher.state.floatbank10_a_level                   19438 non-null  float64\n",
      " 54  rougher.state.floatbank10_b_air                     19438 non-null  float64\n",
      " 55  rougher.state.floatbank10_b_level                   19438 non-null  float64\n",
      " 56  rougher.state.floatbank10_c_air                     19438 non-null  float64\n",
      " 57  rougher.state.floatbank10_c_level                   19438 non-null  float64\n",
      " 58  rougher.state.floatbank10_d_air                     19439 non-null  float64\n",
      " 59  rougher.state.floatbank10_d_level                   19439 non-null  float64\n",
      " 60  rougher.state.floatbank10_e_air                     19003 non-null  float64\n",
      " 61  rougher.state.floatbank10_e_level                   19439 non-null  float64\n",
      " 62  rougher.state.floatbank10_f_air                     19439 non-null  float64\n",
      " 63  rougher.state.floatbank10_f_level                   19439 non-null  float64\n",
      " 64  secondary_cleaner.output.tail_ag                    19437 non-null  float64\n",
      " 65  secondary_cleaner.output.tail_pb                    19427 non-null  float64\n",
      " 66  secondary_cleaner.output.tail_sol                   17691 non-null  float64\n",
      " 67  secondary_cleaner.output.tail_au                    19439 non-null  float64\n",
      " 68  secondary_cleaner.state.floatbank2_a_air            19219 non-null  float64\n",
      " 69  secondary_cleaner.state.floatbank2_a_level          19438 non-null  float64\n",
      " 70  secondary_cleaner.state.floatbank2_b_air            19416 non-null  float64\n",
      " 71  secondary_cleaner.state.floatbank2_b_level          19438 non-null  float64\n",
      " 72  secondary_cleaner.state.floatbank3_a_air            19426 non-null  float64\n",
      " 73  secondary_cleaner.state.floatbank3_a_level          19438 non-null  float64\n",
      " 74  secondary_cleaner.state.floatbank3_b_air            19438 non-null  float64\n",
      " 75  secondary_cleaner.state.floatbank3_b_level          19438 non-null  float64\n",
      " 76  secondary_cleaner.state.floatbank4_a_air            19433 non-null  float64\n",
      " 77  secondary_cleaner.state.floatbank4_a_level          19438 non-null  float64\n",
      " 78  secondary_cleaner.state.floatbank4_b_air            19438 non-null  float64\n",
      " 79  secondary_cleaner.state.floatbank4_b_level          19438 non-null  float64\n",
      " 80  secondary_cleaner.state.floatbank5_a_air            19438 non-null  float64\n",
      " 81  secondary_cleaner.state.floatbank5_a_level          19438 non-null  float64\n",
      " 82  secondary_cleaner.state.floatbank5_b_air            19438 non-null  float64\n",
      " 83  secondary_cleaner.state.floatbank5_b_level          19438 non-null  float64\n",
      " 84  secondary_cleaner.state.floatbank6_a_air            19437 non-null  float64\n",
      " 85  secondary_cleaner.state.floatbank6_a_level          19438 non-null  float64\n",
      "dtypes: float64(86)\n",
      "memory usage: 12.9+ MB\n"
     ]
    }
   ],
   "source": [
    "data_full.info()"
   ]
  },
  {
   "cell_type": "markdown",
   "metadata": {},
   "source": [
    "Все данные (кроме индекса) в типе чисел с плавающей точкой, в некоторых колонках имеются пропуски. "
   ]
  },
  {
   "cell_type": "markdown",
   "metadata": {},
   "source": [
    "Проверка на дубликаты:"
   ]
  },
  {
   "cell_type": "code",
   "execution_count": 6,
   "metadata": {},
   "outputs": [
    {
     "name": "stdout",
     "output_type": "stream",
     "text": [
      "Явных дубликатов строк найдено:\n",
      "train: 0\n",
      "test: 0\n",
      "full: 0\n"
     ]
    }
   ],
   "source": [
    "print('Явных дубликатов строк найдено:')\n",
    "print(f'train: {data_train.duplicated().sum()}')\n",
    "print(f'test: {data_test.duplicated().sum()}')\n",
    "print(f'full: {data_full.duplicated().sum()}')"
   ]
  },
  {
   "cell_type": "markdown",
   "metadata": {},
   "source": [
    "Различия в выборках:"
   ]
  },
  {
   "cell_type": "code",
   "execution_count": 7,
   "metadata": {},
   "outputs": [
    {
     "name": "stdout",
     "output_type": "stream",
     "text": [
      "Признаки в train и full одинаковы: True\n"
     ]
    }
   ],
   "source": [
    "print(f'Признаки в train и full одинаковы: {set(data_train.columns) == set(data_full.columns)}')"
   ]
  },
  {
   "cell_type": "code",
   "execution_count": 8,
   "metadata": {},
   "outputs": [
    {
     "name": "stdout",
     "output_type": "stream",
     "text": [
      "Признаки в train и test одинаковы: False\n",
      "\n",
      "Отличаются следующие признаки:\n"
     ]
    },
    {
     "data": {
      "text/plain": [
       "{'final.output.concentrate_ag',\n",
       " 'final.output.concentrate_au',\n",
       " 'final.output.concentrate_pb',\n",
       " 'final.output.concentrate_sol',\n",
       " 'final.output.recovery',\n",
       " 'final.output.tail_ag',\n",
       " 'final.output.tail_au',\n",
       " 'final.output.tail_pb',\n",
       " 'final.output.tail_sol',\n",
       " 'primary_cleaner.output.concentrate_ag',\n",
       " 'primary_cleaner.output.concentrate_au',\n",
       " 'primary_cleaner.output.concentrate_pb',\n",
       " 'primary_cleaner.output.concentrate_sol',\n",
       " 'primary_cleaner.output.tail_ag',\n",
       " 'primary_cleaner.output.tail_au',\n",
       " 'primary_cleaner.output.tail_pb',\n",
       " 'primary_cleaner.output.tail_sol',\n",
       " 'rougher.calculation.au_pb_ratio',\n",
       " 'rougher.calculation.floatbank10_sulfate_to_au_feed',\n",
       " 'rougher.calculation.floatbank11_sulfate_to_au_feed',\n",
       " 'rougher.calculation.sulfate_to_au_concentrate',\n",
       " 'rougher.output.concentrate_ag',\n",
       " 'rougher.output.concentrate_au',\n",
       " 'rougher.output.concentrate_pb',\n",
       " 'rougher.output.concentrate_sol',\n",
       " 'rougher.output.recovery',\n",
       " 'rougher.output.tail_ag',\n",
       " 'rougher.output.tail_au',\n",
       " 'rougher.output.tail_pb',\n",
       " 'rougher.output.tail_sol',\n",
       " 'secondary_cleaner.output.tail_ag',\n",
       " 'secondary_cleaner.output.tail_au',\n",
       " 'secondary_cleaner.output.tail_pb',\n",
       " 'secondary_cleaner.output.tail_sol'}"
      ]
     },
     "execution_count": 8,
     "metadata": {},
     "output_type": "execute_result"
    }
   ],
   "source": [
    "print(f'Признаки в train и test одинаковы: {set(data_train.columns) == set(data_test.columns)}')\n",
    "print()\n",
    "print('Отличаются следующие признаки:')\n",
    "set(data_train.columns).union(set(data_test.columns)) - set(data_train.columns).intersection(set(data_test.columns))"
   ]
  },
  {
   "cell_type": "markdown",
   "metadata": {},
   "source": [
    "Имеются различия в наборах признаков для тестовой выборки в сравнении с полной и тренировочной выборками. Придется корректировать позже."
   ]
  },
  {
   "cell_type": "markdown",
   "metadata": {},
   "source": [
    "### Проверка корректности расчета recovery"
   ]
  },
  {
   "cell_type": "markdown",
   "metadata": {},
   "source": [
    "Recovery считается так:\n",
    "$$R = {C(F-T) \\over F(C-T)} \\cdot 100\\%$$\n",
    "\n",
    "где:\n",
    "\n",
    "    C ('rougher.output.concentrate_au') — доля золота в концентрате после флотации/очистки;\n",
    "    F ('rougher.input.feed_au') — доля золота в сырье/концентрате до флотации/очистки;\n",
    "    T ('rougher.output.tail_au') — доля золота в отвальных хвостах после флотации/очистки."
   ]
  },
  {
   "cell_type": "code",
   "execution_count": 9,
   "metadata": {},
   "outputs": [],
   "source": [
    "def recovery(data):\n",
    "    C = data['rougher.output.concentrate_au']\n",
    "    F = data['rougher.input.feed_au']\n",
    "    T = data['rougher.output.tail_au']\n",
    "    return (C * (F - T)) / (F * (C - T)) * 100"
   ]
  },
  {
   "cell_type": "markdown",
   "metadata": {},
   "source": [
    "Проверка корректности эффективности обогащения золота:"
   ]
  },
  {
   "cell_type": "code",
   "execution_count": 10,
   "metadata": {
    "scrolled": true
   },
   "outputs": [
    {
     "data": {
      "text/html": [
       "<div>\n",
       "<style scoped>\n",
       "    .dataframe tbody tr th:only-of-type {\n",
       "        vertical-align: middle;\n",
       "    }\n",
       "\n",
       "    .dataframe tbody tr th {\n",
       "        vertical-align: top;\n",
       "    }\n",
       "\n",
       "    .dataframe thead th {\n",
       "        text-align: right;\n",
       "    }\n",
       "</style>\n",
       "<table border=\"1\" class=\"dataframe\">\n",
       "  <thead>\n",
       "    <tr style=\"text-align: right;\">\n",
       "      <th></th>\n",
       "      <th>0</th>\n",
       "      <th>rougher.output.recovery</th>\n",
       "    </tr>\n",
       "    <tr>\n",
       "      <th>date</th>\n",
       "      <th></th>\n",
       "      <th></th>\n",
       "    </tr>\n",
       "  </thead>\n",
       "  <tbody>\n",
       "    <tr>\n",
       "      <th>2016-01-15 00:00:00</th>\n",
       "      <td>87.107763</td>\n",
       "      <td>87.107763</td>\n",
       "    </tr>\n",
       "    <tr>\n",
       "      <th>2016-01-15 01:00:00</th>\n",
       "      <td>86.843261</td>\n",
       "      <td>86.843261</td>\n",
       "    </tr>\n",
       "    <tr>\n",
       "      <th>2016-01-15 02:00:00</th>\n",
       "      <td>86.842308</td>\n",
       "      <td>86.842308</td>\n",
       "    </tr>\n",
       "    <tr>\n",
       "      <th>2016-01-15 03:00:00</th>\n",
       "      <td>87.226430</td>\n",
       "      <td>87.226430</td>\n",
       "    </tr>\n",
       "    <tr>\n",
       "      <th>2016-01-15 04:00:00</th>\n",
       "      <td>86.688794</td>\n",
       "      <td>86.688794</td>\n",
       "    </tr>\n",
       "  </tbody>\n",
       "</table>\n",
       "</div>"
      ],
      "text/plain": [
       "                             0  rougher.output.recovery\n",
       "date                                                   \n",
       "2016-01-15 00:00:00  87.107763                87.107763\n",
       "2016-01-15 01:00:00  86.843261                86.843261\n",
       "2016-01-15 02:00:00  86.842308                86.842308\n",
       "2016-01-15 03:00:00  87.226430                87.226430\n",
       "2016-01-15 04:00:00  86.688794                86.688794"
      ]
     },
     "execution_count": 10,
     "metadata": {},
     "output_type": "execute_result"
    }
   ],
   "source": [
    "calculated_recovery = recovery(data_train)\n",
    "existing_recovery = data_train['rougher.output.recovery']\n",
    "pd.concat([calculated_recovery.head(), existing_recovery.head()], axis=1)"
   ]
  },
  {
   "cell_type": "markdown",
   "metadata": {},
   "source": [
    "Средняя абсолютная ошибка:"
   ]
  },
  {
   "cell_type": "code",
   "execution_count": 11,
   "metadata": {},
   "outputs": [
    {
     "name": "stdout",
     "output_type": "stream",
     "text": [
      "0.00000000000000973512\n"
     ]
    }
   ],
   "source": [
    "recovery_mae = mean_absolute_error(calculated_recovery, existing_recovery)\n",
    "print(f'{recovery_mae:.20f}')"
   ]
  },
  {
   "cell_type": "markdown",
   "metadata": {},
   "source": [
    "MAE равно 0 до 15-го знака после запятой, то есть значения в столбце `rougher.output.recovery` практически идентичны расчетным"
   ]
  },
  {
   "cell_type": "markdown",
   "metadata": {},
   "source": [
    "### Анализ признаков, отсутствующих в тестовой выборке"
   ]
  },
  {
   "cell_type": "code",
   "execution_count": 12,
   "metadata": {},
   "outputs": [
    {
     "name": "stdout",
     "output_type": "stream",
     "text": [
      "<class 'pandas.core.frame.DataFrame'>\n",
      "Index: 14149 entries, 2016-01-15 00:00:00 to 2018-08-18 10:59:59\n",
      "Data columns (total 34 columns):\n",
      " #   Column                                              Non-Null Count  Dtype  \n",
      "---  ------                                              --------------  -----  \n",
      " 0   secondary_cleaner.output.tail_au                    14149 non-null  float64\n",
      " 1   rougher.output.concentrate_au                       14149 non-null  float64\n",
      " 2   rougher.output.tail_sol                             14149 non-null  float64\n",
      " 3   final.output.concentrate_ag                         14148 non-null  float64\n",
      " 4   primary_cleaner.output.tail_ag                      14148 non-null  float64\n",
      " 5   final.output.tail_sol                               14144 non-null  float64\n",
      " 6   rougher.calculation.floatbank10_sulfate_to_au_feed  14148 non-null  float64\n",
      " 7   rougher.calculation.sulfate_to_au_concentrate       14148 non-null  float64\n",
      " 8   primary_cleaner.output.tail_sol                     14103 non-null  float64\n",
      " 9   final.output.tail_ag                                14149 non-null  float64\n",
      " 10  secondary_cleaner.output.tail_ag                    14147 non-null  float64\n",
      " 11  primary_cleaner.output.concentrate_au               14149 non-null  float64\n",
      " 12  rougher.output.concentrate_pb                       14149 non-null  float64\n",
      " 13  primary_cleaner.output.tail_au                      14149 non-null  float64\n",
      " 14  primary_cleaner.output.concentrate_ag               14149 non-null  float64\n",
      " 15  rougher.calculation.floatbank11_sulfate_to_au_feed  14148 non-null  float64\n",
      " 16  rougher.calculation.au_pb_ratio                     14149 non-null  float64\n",
      " 17  rougher.output.concentrate_sol                      14127 non-null  float64\n",
      " 18  final.output.concentrate_au                         14149 non-null  float64\n",
      " 19  rougher.output.tail_pb                              14149 non-null  float64\n",
      " 20  rougher.output.tail_ag                              14148 non-null  float64\n",
      " 21  secondary_cleaner.output.tail_sol                   12544 non-null  float64\n",
      " 22  primary_cleaner.output.tail_pb                      14134 non-null  float64\n",
      " 23  primary_cleaner.output.concentrate_pb               14063 non-null  float64\n",
      " 24  final.output.tail_au                                14149 non-null  float64\n",
      " 25  final.output.tail_pb                                14049 non-null  float64\n",
      " 26  secondary_cleaner.output.tail_pb                    14139 non-null  float64\n",
      " 27  rougher.output.tail_au                              14149 non-null  float64\n",
      " 28  rougher.output.concentrate_ag                       14149 non-null  float64\n",
      " 29  rougher.output.recovery                             14149 non-null  float64\n",
      " 30  primary_cleaner.output.concentrate_sol              13863 non-null  float64\n",
      " 31  final.output.concentrate_pb                         14148 non-null  float64\n",
      " 32  final.output.concentrate_sol                        13938 non-null  float64\n",
      " 33  final.output.recovery                               14149 non-null  float64\n",
      "dtypes: float64(34)\n",
      "memory usage: 4.3+ MB\n"
     ]
    }
   ],
   "source": [
    "nontest_features = list(set(data_train.columns) - set(data_train.columns).intersection(set(data_test.columns)))\n",
    "data_train[nontest_features].info()"
   ]
  },
  {
   "cell_type": "markdown",
   "metadata": {},
   "source": [
    "Все признаки, отсутсвующие в тестовой выборке - это либо \"параметры продукта (output)\", либо \"расчетные характеристики (calculation)\". Все эти признаки имеют тип данных чисел с плавующей точкой.\n",
    "\n",
    "В тестовой выборке эти признаки отсутствуют, вероятно, потому, что они хранят выходные и расчетные данные процессов, которые модель не может \"знать\" до начала процессов очистки, в том числе и целевые переменные `rougher.output.recovery`, `final.output.recovery`, которые модель должна научиться предсказывать. Другими словами, эти признаки уже содержат в себе иформацию о целевых переменных, поэтому их нельзя использовать для формирования и тестирования предсказаний, и поэтому их нет в тестовой выборке. "
   ]
  },
  {
   "cell_type": "markdown",
   "metadata": {},
   "source": [
    "### Предобработка данных (продолжение в п. 4.1 )"
   ]
  },
  {
   "cell_type": "code",
   "execution_count": 13,
   "metadata": {},
   "outputs": [
    {
     "data": {
      "text/html": [
       "<div>\n",
       "<style scoped>\n",
       "    .dataframe tbody tr th:only-of-type {\n",
       "        vertical-align: middle;\n",
       "    }\n",
       "\n",
       "    .dataframe tbody tr th {\n",
       "        vertical-align: top;\n",
       "    }\n",
       "\n",
       "    .dataframe thead th {\n",
       "        text-align: right;\n",
       "    }\n",
       "</style>\n",
       "<table border=\"1\" class=\"dataframe\">\n",
       "  <thead>\n",
       "    <tr style=\"text-align: right;\">\n",
       "      <th></th>\n",
       "      <th>Пропуски</th>\n",
       "      <th>%</th>\n",
       "    </tr>\n",
       "  </thead>\n",
       "  <tbody>\n",
       "    <tr>\n",
       "      <th>secondary_cleaner.output.tail_sol</th>\n",
       "      <td>1748.0</td>\n",
       "      <td>8.99</td>\n",
       "    </tr>\n",
       "    <tr>\n",
       "      <th>rougher.input.floatbank11_xanthate</th>\n",
       "      <td>453.0</td>\n",
       "      <td>2.33</td>\n",
       "    </tr>\n",
       "    <tr>\n",
       "      <th>rougher.state.floatbank10_e_air</th>\n",
       "      <td>436.0</td>\n",
       "      <td>2.24</td>\n",
       "    </tr>\n",
       "    <tr>\n",
       "      <th>primary_cleaner.output.concentrate_sol</th>\n",
       "      <td>370.0</td>\n",
       "      <td>1.90</td>\n",
       "    </tr>\n",
       "    <tr>\n",
       "      <th>secondary_cleaner.state.floatbank2_a_air</th>\n",
       "      <td>220.0</td>\n",
       "      <td>1.13</td>\n",
       "    </tr>\n",
       "    <tr>\n",
       "      <th>final.output.concentrate_sol</th>\n",
       "      <td>211.0</td>\n",
       "      <td>1.09</td>\n",
       "    </tr>\n",
       "    <tr>\n",
       "      <th>rougher.input.feed_size</th>\n",
       "      <td>145.0</td>\n",
       "      <td>0.75</td>\n",
       "    </tr>\n",
       "    <tr>\n",
       "      <th>primary_cleaner.output.concentrate_pb</th>\n",
       "      <td>116.0</td>\n",
       "      <td>0.60</td>\n",
       "    </tr>\n",
       "    <tr>\n",
       "      <th>primary_cleaner.input.xanthate</th>\n",
       "      <td>104.0</td>\n",
       "      <td>0.54</td>\n",
       "    </tr>\n",
       "    <tr>\n",
       "      <th>final.output.tail_pb</th>\n",
       "      <td>101.0</td>\n",
       "      <td>0.52</td>\n",
       "    </tr>\n",
       "    <tr>\n",
       "      <th>rougher.input.feed_pb</th>\n",
       "      <td>100.0</td>\n",
       "      <td>0.51</td>\n",
       "    </tr>\n",
       "    <tr>\n",
       "      <th>rougher.input.feed_sol</th>\n",
       "      <td>99.0</td>\n",
       "      <td>0.51</td>\n",
       "    </tr>\n",
       "    <tr>\n",
       "      <th>primary_cleaner.output.tail_sol</th>\n",
       "      <td>62.0</td>\n",
       "      <td>0.32</td>\n",
       "    </tr>\n",
       "    <tr>\n",
       "      <th>rougher.input.floatbank11_sulfate</th>\n",
       "      <td>44.0</td>\n",
       "      <td>0.23</td>\n",
       "    </tr>\n",
       "    <tr>\n",
       "      <th>primary_cleaner.input.depressant</th>\n",
       "      <td>37.0</td>\n",
       "      <td>0.19</td>\n",
       "    </tr>\n",
       "    <tr>\n",
       "      <th>rougher.input.floatbank10_sulfate</th>\n",
       "      <td>34.0</td>\n",
       "      <td>0.17</td>\n",
       "    </tr>\n",
       "    <tr>\n",
       "      <th>rougher.output.concentrate_sol</th>\n",
       "      <td>23.0</td>\n",
       "      <td>0.12</td>\n",
       "    </tr>\n",
       "    <tr>\n",
       "      <th>primary_cleaner.input.sulfate</th>\n",
       "      <td>24.0</td>\n",
       "      <td>0.12</td>\n",
       "    </tr>\n",
       "    <tr>\n",
       "      <th>secondary_cleaner.state.floatbank2_b_air</th>\n",
       "      <td>23.0</td>\n",
       "      <td>0.12</td>\n",
       "    </tr>\n",
       "    <tr>\n",
       "      <th>primary_cleaner.output.tail_pb</th>\n",
       "      <td>21.0</td>\n",
       "      <td>0.11</td>\n",
       "    </tr>\n",
       "    <tr>\n",
       "      <th>secondary_cleaner.state.floatbank3_a_air</th>\n",
       "      <td>13.0</td>\n",
       "      <td>0.07</td>\n",
       "    </tr>\n",
       "    <tr>\n",
       "      <th>secondary_cleaner.output.tail_pb</th>\n",
       "      <td>12.0</td>\n",
       "      <td>0.06</td>\n",
       "    </tr>\n",
       "    <tr>\n",
       "      <th>rougher.input.feed_rate</th>\n",
       "      <td>11.0</td>\n",
       "      <td>0.06</td>\n",
       "    </tr>\n",
       "    <tr>\n",
       "      <th>rougher.input.floatbank10_xanthate</th>\n",
       "      <td>8.0</td>\n",
       "      <td>0.04</td>\n",
       "    </tr>\n",
       "    <tr>\n",
       "      <th>secondary_cleaner.state.floatbank4_a_air</th>\n",
       "      <td>6.0</td>\n",
       "      <td>0.03</td>\n",
       "    </tr>\n",
       "    <tr>\n",
       "      <th>final.output.tail_sol</th>\n",
       "      <td>6.0</td>\n",
       "      <td>0.03</td>\n",
       "    </tr>\n",
       "    <tr>\n",
       "      <th>primary_cleaner.state.floatbank8_b_air</th>\n",
       "      <td>4.0</td>\n",
       "      <td>0.02</td>\n",
       "    </tr>\n",
       "    <tr>\n",
       "      <th>primary_cleaner.state.floatbank8_a_air</th>\n",
       "      <td>4.0</td>\n",
       "      <td>0.02</td>\n",
       "    </tr>\n",
       "    <tr>\n",
       "      <th>primary_cleaner.state.floatbank8_d_air</th>\n",
       "      <td>3.0</td>\n",
       "      <td>0.02</td>\n",
       "    </tr>\n",
       "    <tr>\n",
       "      <th>primary_cleaner.output.tail_ag</th>\n",
       "      <td>4.0</td>\n",
       "      <td>0.02</td>\n",
       "    </tr>\n",
       "    <tr>\n",
       "      <th>secondary_cleaner.output.tail_ag</th>\n",
       "      <td>2.0</td>\n",
       "      <td>0.01</td>\n",
       "    </tr>\n",
       "    <tr>\n",
       "      <th>rougher.state.floatbank10_c_level</th>\n",
       "      <td>1.0</td>\n",
       "      <td>0.01</td>\n",
       "    </tr>\n",
       "    <tr>\n",
       "      <th>rougher.state.floatbank10_c_air</th>\n",
       "      <td>1.0</td>\n",
       "      <td>0.01</td>\n",
       "    </tr>\n",
       "    <tr>\n",
       "      <th>rougher.state.floatbank10_b_level</th>\n",
       "      <td>1.0</td>\n",
       "      <td>0.01</td>\n",
       "    </tr>\n",
       "    <tr>\n",
       "      <th>rougher.state.floatbank10_b_air</th>\n",
       "      <td>1.0</td>\n",
       "      <td>0.01</td>\n",
       "    </tr>\n",
       "    <tr>\n",
       "      <th>final.output.concentrate_ag</th>\n",
       "      <td>1.0</td>\n",
       "      <td>0.01</td>\n",
       "    </tr>\n",
       "    <tr>\n",
       "      <th>secondary_cleaner.state.floatbank3_b_air</th>\n",
       "      <td>1.0</td>\n",
       "      <td>0.01</td>\n",
       "    </tr>\n",
       "    <tr>\n",
       "      <th>secondary_cleaner.state.floatbank2_a_level</th>\n",
       "      <td>1.0</td>\n",
       "      <td>0.01</td>\n",
       "    </tr>\n",
       "    <tr>\n",
       "      <th>secondary_cleaner.state.floatbank2_b_level</th>\n",
       "      <td>1.0</td>\n",
       "      <td>0.01</td>\n",
       "    </tr>\n",
       "    <tr>\n",
       "      <th>secondary_cleaner.state.floatbank3_a_level</th>\n",
       "      <td>1.0</td>\n",
       "      <td>0.01</td>\n",
       "    </tr>\n",
       "    <tr>\n",
       "      <th>rougher.state.floatbank10_a_air</th>\n",
       "      <td>1.0</td>\n",
       "      <td>0.01</td>\n",
       "    </tr>\n",
       "    <tr>\n",
       "      <th>secondary_cleaner.state.floatbank3_b_level</th>\n",
       "      <td>1.0</td>\n",
       "      <td>0.01</td>\n",
       "    </tr>\n",
       "    <tr>\n",
       "      <th>secondary_cleaner.state.floatbank4_a_level</th>\n",
       "      <td>1.0</td>\n",
       "      <td>0.01</td>\n",
       "    </tr>\n",
       "    <tr>\n",
       "      <th>secondary_cleaner.state.floatbank4_b_air</th>\n",
       "      <td>1.0</td>\n",
       "      <td>0.01</td>\n",
       "    </tr>\n",
       "    <tr>\n",
       "      <th>secondary_cleaner.state.floatbank4_b_level</th>\n",
       "      <td>1.0</td>\n",
       "      <td>0.01</td>\n",
       "    </tr>\n",
       "    <tr>\n",
       "      <th>secondary_cleaner.state.floatbank5_a_air</th>\n",
       "      <td>1.0</td>\n",
       "      <td>0.01</td>\n",
       "    </tr>\n",
       "    <tr>\n",
       "      <th>secondary_cleaner.state.floatbank5_a_level</th>\n",
       "      <td>1.0</td>\n",
       "      <td>0.01</td>\n",
       "    </tr>\n",
       "    <tr>\n",
       "      <th>secondary_cleaner.state.floatbank5_b_air</th>\n",
       "      <td>1.0</td>\n",
       "      <td>0.01</td>\n",
       "    </tr>\n",
       "    <tr>\n",
       "      <th>secondary_cleaner.state.floatbank5_b_level</th>\n",
       "      <td>1.0</td>\n",
       "      <td>0.01</td>\n",
       "    </tr>\n",
       "    <tr>\n",
       "      <th>secondary_cleaner.state.floatbank6_a_air</th>\n",
       "      <td>2.0</td>\n",
       "      <td>0.01</td>\n",
       "    </tr>\n",
       "    <tr>\n",
       "      <th>rougher.state.floatbank10_a_level</th>\n",
       "      <td>1.0</td>\n",
       "      <td>0.01</td>\n",
       "    </tr>\n",
       "    <tr>\n",
       "      <th>secondary_cleaner.state.floatbank6_a_level</th>\n",
       "      <td>1.0</td>\n",
       "      <td>0.01</td>\n",
       "    </tr>\n",
       "    <tr>\n",
       "      <th>rougher.calculation.floatbank11_sulfate_to_au_feed</th>\n",
       "      <td>2.0</td>\n",
       "      <td>0.01</td>\n",
       "    </tr>\n",
       "    <tr>\n",
       "      <th>rougher.calculation.floatbank10_sulfate_to_au_feed</th>\n",
       "      <td>2.0</td>\n",
       "      <td>0.01</td>\n",
       "    </tr>\n",
       "    <tr>\n",
       "      <th>primary_cleaner.state.floatbank8_d_level</th>\n",
       "      <td>1.0</td>\n",
       "      <td>0.01</td>\n",
       "    </tr>\n",
       "    <tr>\n",
       "      <th>primary_cleaner.state.floatbank8_c_level</th>\n",
       "      <td>1.0</td>\n",
       "      <td>0.01</td>\n",
       "    </tr>\n",
       "    <tr>\n",
       "      <th>primary_cleaner.state.floatbank8_c_air</th>\n",
       "      <td>2.0</td>\n",
       "      <td>0.01</td>\n",
       "    </tr>\n",
       "    <tr>\n",
       "      <th>primary_cleaner.state.floatbank8_b_level</th>\n",
       "      <td>1.0</td>\n",
       "      <td>0.01</td>\n",
       "    </tr>\n",
       "    <tr>\n",
       "      <th>final.output.concentrate_pb</th>\n",
       "      <td>1.0</td>\n",
       "      <td>0.01</td>\n",
       "    </tr>\n",
       "    <tr>\n",
       "      <th>primary_cleaner.state.floatbank8_a_level</th>\n",
       "      <td>1.0</td>\n",
       "      <td>0.01</td>\n",
       "    </tr>\n",
       "    <tr>\n",
       "      <th>rougher.calculation.sulfate_to_au_concentrate</th>\n",
       "      <td>2.0</td>\n",
       "      <td>0.01</td>\n",
       "    </tr>\n",
       "    <tr>\n",
       "      <th>final.output.tail_ag</th>\n",
       "      <td>1.0</td>\n",
       "      <td>0.01</td>\n",
       "    </tr>\n",
       "    <tr>\n",
       "      <th>rougher.output.tail_ag</th>\n",
       "      <td>1.0</td>\n",
       "      <td>0.01</td>\n",
       "    </tr>\n",
       "    <tr>\n",
       "      <th>primary_cleaner.output.concentrate_ag</th>\n",
       "      <td>0.0</td>\n",
       "      <td>0.00</td>\n",
       "    </tr>\n",
       "    <tr>\n",
       "      <th>primary_cleaner.output.tail_au</th>\n",
       "      <td>0.0</td>\n",
       "      <td>0.00</td>\n",
       "    </tr>\n",
       "    <tr>\n",
       "      <th>primary_cleaner.input.feed_size</th>\n",
       "      <td>0.0</td>\n",
       "      <td>0.00</td>\n",
       "    </tr>\n",
       "    <tr>\n",
       "      <th>final.output.tail_au</th>\n",
       "      <td>0.0</td>\n",
       "      <td>0.00</td>\n",
       "    </tr>\n",
       "    <tr>\n",
       "      <th>final.output.recovery</th>\n",
       "      <td>0.0</td>\n",
       "      <td>0.00</td>\n",
       "    </tr>\n",
       "    <tr>\n",
       "      <th>final.output.concentrate_au</th>\n",
       "      <td>0.0</td>\n",
       "      <td>0.00</td>\n",
       "    </tr>\n",
       "    <tr>\n",
       "      <th>primary_cleaner.output.concentrate_au</th>\n",
       "      <td>0.0</td>\n",
       "      <td>0.00</td>\n",
       "    </tr>\n",
       "    <tr>\n",
       "      <th>rougher.output.tail_au</th>\n",
       "      <td>0.0</td>\n",
       "      <td>0.00</td>\n",
       "    </tr>\n",
       "    <tr>\n",
       "      <th>rougher.output.tail_sol</th>\n",
       "      <td>0.0</td>\n",
       "      <td>0.00</td>\n",
       "    </tr>\n",
       "    <tr>\n",
       "      <th>rougher.calculation.au_pb_ratio</th>\n",
       "      <td>0.0</td>\n",
       "      <td>0.00</td>\n",
       "    </tr>\n",
       "    <tr>\n",
       "      <th>secondary_cleaner.output.tail_au</th>\n",
       "      <td>0.0</td>\n",
       "      <td>0.00</td>\n",
       "    </tr>\n",
       "    <tr>\n",
       "      <th>rougher.input.feed_ag</th>\n",
       "      <td>0.0</td>\n",
       "      <td>0.00</td>\n",
       "    </tr>\n",
       "    <tr>\n",
       "      <th>rougher.input.feed_au</th>\n",
       "      <td>0.0</td>\n",
       "      <td>0.00</td>\n",
       "    </tr>\n",
       "    <tr>\n",
       "      <th>rougher.state.floatbank10_f_level</th>\n",
       "      <td>0.0</td>\n",
       "      <td>0.00</td>\n",
       "    </tr>\n",
       "    <tr>\n",
       "      <th>rougher.state.floatbank10_f_air</th>\n",
       "      <td>0.0</td>\n",
       "      <td>0.00</td>\n",
       "    </tr>\n",
       "    <tr>\n",
       "      <th>rougher.state.floatbank10_e_level</th>\n",
       "      <td>0.0</td>\n",
       "      <td>0.00</td>\n",
       "    </tr>\n",
       "    <tr>\n",
       "      <th>rougher.output.concentrate_pb</th>\n",
       "      <td>0.0</td>\n",
       "      <td>0.00</td>\n",
       "    </tr>\n",
       "    <tr>\n",
       "      <th>rougher.state.floatbank10_d_level</th>\n",
       "      <td>0.0</td>\n",
       "      <td>0.00</td>\n",
       "    </tr>\n",
       "    <tr>\n",
       "      <th>rougher.state.floatbank10_d_air</th>\n",
       "      <td>0.0</td>\n",
       "      <td>0.00</td>\n",
       "    </tr>\n",
       "    <tr>\n",
       "      <th>rougher.output.concentrate_au</th>\n",
       "      <td>0.0</td>\n",
       "      <td>0.00</td>\n",
       "    </tr>\n",
       "    <tr>\n",
       "      <th>rougher.output.recovery</th>\n",
       "      <td>0.0</td>\n",
       "      <td>0.00</td>\n",
       "    </tr>\n",
       "    <tr>\n",
       "      <th>rougher.output.tail_pb</th>\n",
       "      <td>0.0</td>\n",
       "      <td>0.00</td>\n",
       "    </tr>\n",
       "    <tr>\n",
       "      <th>rougher.output.concentrate_ag</th>\n",
       "      <td>0.0</td>\n",
       "      <td>0.00</td>\n",
       "    </tr>\n",
       "  </tbody>\n",
       "</table>\n",
       "</div>"
      ],
      "text/plain": [
       "                                                    Пропуски     %\n",
       "secondary_cleaner.output.tail_sol                     1748.0  8.99\n",
       "rougher.input.floatbank11_xanthate                     453.0  2.33\n",
       "rougher.state.floatbank10_e_air                        436.0  2.24\n",
       "primary_cleaner.output.concentrate_sol                 370.0  1.90\n",
       "secondary_cleaner.state.floatbank2_a_air               220.0  1.13\n",
       "final.output.concentrate_sol                           211.0  1.09\n",
       "rougher.input.feed_size                                145.0  0.75\n",
       "primary_cleaner.output.concentrate_pb                  116.0  0.60\n",
       "primary_cleaner.input.xanthate                         104.0  0.54\n",
       "final.output.tail_pb                                   101.0  0.52\n",
       "rougher.input.feed_pb                                  100.0  0.51\n",
       "rougher.input.feed_sol                                  99.0  0.51\n",
       "primary_cleaner.output.tail_sol                         62.0  0.32\n",
       "rougher.input.floatbank11_sulfate                       44.0  0.23\n",
       "primary_cleaner.input.depressant                        37.0  0.19\n",
       "rougher.input.floatbank10_sulfate                       34.0  0.17\n",
       "rougher.output.concentrate_sol                          23.0  0.12\n",
       "primary_cleaner.input.sulfate                           24.0  0.12\n",
       "secondary_cleaner.state.floatbank2_b_air                23.0  0.12\n",
       "primary_cleaner.output.tail_pb                          21.0  0.11\n",
       "secondary_cleaner.state.floatbank3_a_air                13.0  0.07\n",
       "secondary_cleaner.output.tail_pb                        12.0  0.06\n",
       "rougher.input.feed_rate                                 11.0  0.06\n",
       "rougher.input.floatbank10_xanthate                       8.0  0.04\n",
       "secondary_cleaner.state.floatbank4_a_air                 6.0  0.03\n",
       "final.output.tail_sol                                    6.0  0.03\n",
       "primary_cleaner.state.floatbank8_b_air                   4.0  0.02\n",
       "primary_cleaner.state.floatbank8_a_air                   4.0  0.02\n",
       "primary_cleaner.state.floatbank8_d_air                   3.0  0.02\n",
       "primary_cleaner.output.tail_ag                           4.0  0.02\n",
       "secondary_cleaner.output.tail_ag                         2.0  0.01\n",
       "rougher.state.floatbank10_c_level                        1.0  0.01\n",
       "rougher.state.floatbank10_c_air                          1.0  0.01\n",
       "rougher.state.floatbank10_b_level                        1.0  0.01\n",
       "rougher.state.floatbank10_b_air                          1.0  0.01\n",
       "final.output.concentrate_ag                              1.0  0.01\n",
       "secondary_cleaner.state.floatbank3_b_air                 1.0  0.01\n",
       "secondary_cleaner.state.floatbank2_a_level               1.0  0.01\n",
       "secondary_cleaner.state.floatbank2_b_level               1.0  0.01\n",
       "secondary_cleaner.state.floatbank3_a_level               1.0  0.01\n",
       "rougher.state.floatbank10_a_air                          1.0  0.01\n",
       "secondary_cleaner.state.floatbank3_b_level               1.0  0.01\n",
       "secondary_cleaner.state.floatbank4_a_level               1.0  0.01\n",
       "secondary_cleaner.state.floatbank4_b_air                 1.0  0.01\n",
       "secondary_cleaner.state.floatbank4_b_level               1.0  0.01\n",
       "secondary_cleaner.state.floatbank5_a_air                 1.0  0.01\n",
       "secondary_cleaner.state.floatbank5_a_level               1.0  0.01\n",
       "secondary_cleaner.state.floatbank5_b_air                 1.0  0.01\n",
       "secondary_cleaner.state.floatbank5_b_level               1.0  0.01\n",
       "secondary_cleaner.state.floatbank6_a_air                 2.0  0.01\n",
       "rougher.state.floatbank10_a_level                        1.0  0.01\n",
       "secondary_cleaner.state.floatbank6_a_level               1.0  0.01\n",
       "rougher.calculation.floatbank11_sulfate_to_au_feed       2.0  0.01\n",
       "rougher.calculation.floatbank10_sulfate_to_au_feed       2.0  0.01\n",
       "primary_cleaner.state.floatbank8_d_level                 1.0  0.01\n",
       "primary_cleaner.state.floatbank8_c_level                 1.0  0.01\n",
       "primary_cleaner.state.floatbank8_c_air                   2.0  0.01\n",
       "primary_cleaner.state.floatbank8_b_level                 1.0  0.01\n",
       "final.output.concentrate_pb                              1.0  0.01\n",
       "primary_cleaner.state.floatbank8_a_level                 1.0  0.01\n",
       "rougher.calculation.sulfate_to_au_concentrate            2.0  0.01\n",
       "final.output.tail_ag                                     1.0  0.01\n",
       "rougher.output.tail_ag                                   1.0  0.01\n",
       "primary_cleaner.output.concentrate_ag                    0.0  0.00\n",
       "primary_cleaner.output.tail_au                           0.0  0.00\n",
       "primary_cleaner.input.feed_size                          0.0  0.00\n",
       "final.output.tail_au                                     0.0  0.00\n",
       "final.output.recovery                                    0.0  0.00\n",
       "final.output.concentrate_au                              0.0  0.00\n",
       "primary_cleaner.output.concentrate_au                    0.0  0.00\n",
       "rougher.output.tail_au                                   0.0  0.00\n",
       "rougher.output.tail_sol                                  0.0  0.00\n",
       "rougher.calculation.au_pb_ratio                          0.0  0.00\n",
       "secondary_cleaner.output.tail_au                         0.0  0.00\n",
       "rougher.input.feed_ag                                    0.0  0.00\n",
       "rougher.input.feed_au                                    0.0  0.00\n",
       "rougher.state.floatbank10_f_level                        0.0  0.00\n",
       "rougher.state.floatbank10_f_air                          0.0  0.00\n",
       "rougher.state.floatbank10_e_level                        0.0  0.00\n",
       "rougher.output.concentrate_pb                            0.0  0.00\n",
       "rougher.state.floatbank10_d_level                        0.0  0.00\n",
       "rougher.state.floatbank10_d_air                          0.0  0.00\n",
       "rougher.output.concentrate_au                            0.0  0.00\n",
       "rougher.output.recovery                                  0.0  0.00\n",
       "rougher.output.tail_pb                                   0.0  0.00\n",
       "rougher.output.concentrate_ag                            0.0  0.00"
      ]
     },
     "execution_count": 13,
     "metadata": {},
     "output_type": "execute_result"
    }
   ],
   "source": [
    "nans = data_full.apply([lambda x: x.isna().sum(), lambda x: x.isna().mean().round(4) * 100]).transpose()\n",
    "nans.columns = ['Пропуски', '%']\n",
    "nans.sort_values(by='%', ascending=False)"
   ]
  },
  {
   "cell_type": "markdown",
   "metadata": {},
   "source": [
    "Удаляю строки с пропусками:"
   ]
  },
  {
   "cell_type": "code",
   "execution_count": 14,
   "metadata": {},
   "outputs": [],
   "source": [
    "data_train = data_train.dropna()\n",
    "data_test = data_test.dropna()"
   ]
  },
  {
   "cell_type": "code",
   "execution_count": 15,
   "metadata": {},
   "outputs": [],
   "source": [
    "# for col in data_train.columns:\n",
    "#     data_train[col] = data_train[col].fillna(data_train[col].mean())\n",
    "    \n",
    "# for col in data_test.columns:\n",
    "#     data_test[col] = data_test[col].fillna(data_test[col].mean())\n",
    "\n",
    "\n",
    "# data_train = data_train.dropna()\n",
    "# data_test = data_test.dropna()"
   ]
  },
  {
   "cell_type": "markdown",
   "metadata": {},
   "source": [
    "При тестировании моделей было опробовано 5 способов работы с пропусками: удаление, заполнение пробелов методом forward fill, заполнение методом backward fill, заполнение медианой, заполнение средним значением. Метод с удалением показал лучший результат на метриках качества моделей."
   ]
  },
  {
   "cell_type": "markdown",
   "metadata": {},
   "source": [
    "### Выводы, подготовка данных\n",
    "- При открытии файла было выяснено, что данные имеют пропуски, что все данные, кроме столбца date (который выбран индексным) имеют тип чисел с плавающей точкой, а также, что тестовая выборка отличается от полной и тренировочной по набору признаков.\n",
    "\n",
    "- При проверке корректности расчета recovery установлено, что MAE равно 0 до 15-го знака после запятой, то есть значения в столбце `rougher.output.recovery` практически идентичны расчетным, что означает, что recovery был рассчитан корректно.\n",
    " \n",
    "- Все признаки, отсутсвующие в тестовой выборке, сохранены в переменной `nontest_features` - это либо \"параметры продукта (output)\", либо \"расчетные характеристики (calculation)\". Среди отсутствующих признаков также обе целевые переменные: `rougher.output.recovery` и `final.output.recovery`, в дальнейшем их значения будут перенесены из полной выборки в тестовую. Все эти признаки имеют тип данных чисел с плавующей точкой.\n",
    " \n",
    "- Пробелы в данных были заполнены соседними значениями (метод bfill)"
   ]
  },
  {
   "cell_type": "markdown",
   "metadata": {},
   "source": [
    "## Анализ данных"
   ]
  },
  {
   "cell_type": "markdown",
   "metadata": {},
   "source": [
    "### Изменение концентраций металлов (Au, Ag, Pb) на различных этапах очистки"
   ]
  },
  {
   "cell_type": "code",
   "execution_count": 18,
   "metadata": {},
   "outputs": [],
   "source": [
    "def plot_data(rows, cols, means=False):\n",
    "    _, axes = plt.subplots(nrows=rows, ncols=cols, figsize=(12, 10))\n",
    "    axes = axes.flatten()\n",
    "    for i, metal in enumerate(metals):\n",
    "        features = [f'{x}_{metal}' for x in feed_features]\n",
    "        sns.histplot(data_full[features], fill=True, ax=axes[i], element=\"poly\", alpha=0.3)\n",
    "        axes[i].set_title(f'Поэтапное распределение концентрации металла {metal}')\n",
    "        axes[i].set_xlabel(f'Концентрация'); axes[i].set_ylabel(f'Частота')\n",
    "\n",
    "        means = [data_full[f'{x}_{metal}'].mean() for x in feed_features]\n",
    "        all_means.append(means)\n",
    "        for m in means:         # вертикальные линии для средних\n",
    "            axes[i].axvline(m, color='k', linestyle='dashed', linewidth=.5)\n",
    "            axes[i].text(m+0.1, 100+means.index(m)*100, f'$\\mu$ ({m:.2f})')\n",
    "    plt.subplots_adjust(left=0, bottom=0, right=1, top=1, wspace=.15, hspace=.4);"
   ]
  },
  {
   "cell_type": "code",
   "execution_count": 19,
   "metadata": {},
   "outputs": [
    {
     "data": {
      "image/png": "[encoded data removed]",
      "text/plain": [
       "<Figure size 1200x1000 with 3 Axes>"
      ]
     },
     "metadata": {},
     "output_type": "display_data"
    }
   ],
   "source": [
    "all_means = [] # список средних для сравнения динамики\n",
    "\n",
    "_, axes = plt.subplots(nrows=3, ncols=1, figsize=(12, 10))\n",
    "axes = axes.flatten()\n",
    "for i, metal in enumerate(metals):\n",
    "    features = [f'{x}_{metal}' for x in feed_features]\n",
    "    sns.histplot(data_full[features], fill=True, ax=axes[i], element=\"poly\", alpha=0.3)\n",
    "    axes[i].set_title(f'Поэтапное распределение концентрации металла {metal}')\n",
    "    axes[i].set_xlabel(f'Концентрация'); axes[i].set_ylabel(f'Частота')\n",
    "    \n",
    "    means = [data_full[f'{x}_{metal}'].mean() for x in feed_features]\n",
    "    all_means.append(means)\n",
    "    for m in means:         # вертикальные линии для средних\n",
    "        axes[i].axvline(m, color='k', linestyle='dashed', linewidth=.5)\n",
    "        axes[i].text(m+0.1, 100+means.index(m)*100, f'$\\mu$ ({m:.2f})')\n",
    "plt.subplots_adjust(left=0, bottom=0, right=1, top=1, wspace=.15, hspace=.4);"
   ]
  },
  {
   "cell_type": "code",
   "execution_count": 20,
   "metadata": {},
   "outputs": [
    {
     "data": {
      "text/html": [
       "<div>\n",
       "<style scoped>\n",
       "    .dataframe tbody tr th:only-of-type {\n",
       "        vertical-align: middle;\n",
       "    }\n",
       "\n",
       "    .dataframe tbody tr th {\n",
       "        vertical-align: top;\n",
       "    }\n",
       "\n",
       "    .dataframe thead th {\n",
       "        text-align: right;\n",
       "    }\n",
       "</style>\n",
       "<table border=\"1\" class=\"dataframe\">\n",
       "  <thead>\n",
       "    <tr style=\"text-align: right;\">\n",
       "      <th></th>\n",
       "      <th>флотация</th>\n",
       "      <th>первичная</th>\n",
       "      <th>вторичная</th>\n",
       "      <th>финальная</th>\n",
       "    </tr>\n",
       "  </thead>\n",
       "  <tbody>\n",
       "    <tr>\n",
       "      <th>au</th>\n",
       "      <td>8.266097</td>\n",
       "      <td>19.772000</td>\n",
       "      <td>32.119400</td>\n",
       "      <td>44.076513</td>\n",
       "    </tr>\n",
       "    <tr>\n",
       "      <th>ag</th>\n",
       "      <td>8.794927</td>\n",
       "      <td>11.994759</td>\n",
       "      <td>8.442408</td>\n",
       "      <td>5.168470</td>\n",
       "    </tr>\n",
       "    <tr>\n",
       "      <th>pb</th>\n",
       "      <td>3.598085</td>\n",
       "      <td>7.606272</td>\n",
       "      <td>9.829530</td>\n",
       "      <td>9.978895</td>\n",
       "    </tr>\n",
       "  </tbody>\n",
       "</table>\n",
       "</div>"
      ],
      "text/plain": [
       "    флотация  первичная  вторичная  финальная\n",
       "au  8.266097  19.772000  32.119400  44.076513\n",
       "ag  8.794927  11.994759   8.442408   5.168470\n",
       "pb  3.598085   7.606272   9.829530   9.978895"
      ]
     },
     "execution_count": 20,
     "metadata": {},
     "output_type": "execute_result"
    }
   ],
   "source": [
    "means_table = pd.DataFrame(all_means).rename(index={0:'au', 1:'ag', 2:'pb'},\n",
    "                  columns={0:'флотация', 1:'первичная', 2:'вторичная', 3:'финальная'})\n",
    "means_table"
   ]
  },
  {
   "cell_type": "markdown",
   "metadata": {},
   "source": [
    "После первого этапа очистки (флотации) концентрация повышается для всех металлов, однако после следующего этапа (первичной очистки) концентрация свинца (pb) начинает и продолжает падать. Концентрация серебра (ag) растет после второго этапа, но падает после третьего (вторичной очистки)\n",
    "\n",
    "На графиках, аппроксимирующих плотность распределения, видны описанные выше процессы с соответствующим каждому этапу разбросом значений концентрации.\n",
    "\n",
    "Также на этих графиках заметны непонятные флуктуации концентрации (около нуля), похожие на выбросы."
   ]
  },
  {
   "cell_type": "markdown",
   "metadata": {},
   "source": [
    "### Сравнение распределения размеров гранул сырья на обучающей и тестовой выборках."
   ]
  },
  {
   "cell_type": "code",
   "execution_count": null,
   "metadata": {},
   "outputs": [],
   "source": [
    "grain_features = ['rougher.input.feed_size', 'primary_cleaner.input.feed_size']\n",
    "_, axes = plt.subplots(nrows=2, ncols=1, figsize=(12, 6))\n",
    "axes = axes.flatten()\n",
    "\n",
    "for i, feature in enumerate(grain_features):\n",
    "    sns.kdeplot(data_train[feature], ax=axes[i], fill=True, alpha=0.1)\n",
    "    sns.kdeplot(data_test[feature], ax=axes[i], fill=True, alpha=0.1)\n",
    "    axes[i].set_title(f'Плотность распределение параметра {feature} (размер гранул) на выборках train и test')\n",
    "    axes[i].set_xlabel(f'Размер гранул ({feature})'); axes[i].set_ylabel(f'Плотность')\n",
    "    axes[i].legend(['Train', 'Test'])\n",
    "plt.subplots_adjust(left=0, bottom=0, right=1, top=1, wspace=.15, hspace=.4);"
   ]
  },
  {
   "cell_type": "markdown",
   "metadata": {},
   "source": [
    "Стандартные статистики распределения этих признаков:"
   ]
  },
  {
   "cell_type": "code",
   "execution_count": null,
   "metadata": {},
   "outputs": [],
   "source": [
    "for feature in grain_features:\n",
    "    grain_stats = pd.concat([data_train[feature].describe(), data_test[feature].describe()], axis=1)\n",
    "    grain_stats.columns = ['train', 'test']\n",
    "    print(f'Статистики по признаку {feature}:')\n",
    "    display(grain_stats)\n",
    "    print('\\n\\n')"
   ]
  },
  {
   "cell_type": "markdown",
   "metadata": {},
   "source": [
    "Видно, что распределения на выборках `data_test` и `data_train` и по виду и по ключевым статистикам очень похожи, что позволяет использовать выборку `data_test` для валидации моделей, полученных при обучении на выборке `data_train`"
   ]
  },
  {
   "cell_type": "markdown",
   "metadata": {},
   "source": [
    "### Анализ суммарных концентраций на разных стадиях"
   ]
  },
  {
   "cell_type": "code",
   "execution_count": null,
   "metadata": {},
   "outputs": [],
   "source": [
    "# построение датафрейма с суммарными показателями концентраций\n",
    "\n",
    "conc_sum_data = pd.DataFrame(0, index=data_train.index, columns=feed_features)\n",
    "for feature in feed_features:\n",
    "    for element in elements:\n",
    "        conc_sum_data[feature] += data_train[f'{feature}_{element}']"
   ]
  },
  {
   "cell_type": "code",
   "execution_count": null,
   "metadata": {},
   "outputs": [],
   "source": [
    "plt.figure(figsize=(12, 6))\n",
    "s_c = sns.histplot(conc_sum_data, fill=True, element=\"poly\", alpha=0.3)\n",
    "\n",
    "means = conc_sum_data[feed_features].mean().tolist()\n",
    "for m in means:\n",
    "    plt.axvline(m, color='k', linestyle='dashed', linewidth=.5)\n",
    "    plt.text(m+0.1, 300+means.index(m)*50, f'$\\mu$ ({m:.2f})')\n",
    "    \n",
    "plt.title('Распределение суммарной концентрации элементов на каждом из этапов')\n",
    "plt.xlabel('Концентрация'); plt.ylabel('Частота')\n",
    "plt.subplots_adjust(left=0, bottom=0, right=1, top=1, wspace=.15, hspace=.4);"
   ]
  },
  {
   "cell_type": "code",
   "execution_count": null,
   "metadata": {
    "scrolled": true
   },
   "outputs": [],
   "source": [
    "conc_sum_data[feed_features].describe().loc[['mean', 'std'], :]"
   ]
  },
  {
   "cell_type": "markdown",
   "metadata": {},
   "source": [
    "Как и на графиках концентраций по отдельным металлам, заметно разнонаправленное движение концентрации в зависимости от этапа:\n",
    "\n",
    "После флотации и первичной очистки (1-го и 2-го этапов) средняя величина концентрации заметно растет, но также существенно (в $ \\approx1,75$ ) раза растет и среднеквадратичное отклонение (СКО), на последующих этапах концентрация сначала резко падает (зато падает и СКО), но на финальном этапе и суммарная концентрация элементов достигает максимальных значений, и СКО существенно снижается. \n",
    "\n",
    "Также имеет место флуктуация в данных в **около** 0, что может быть выбросом."
   ]
  },
  {
   "cell_type": "markdown",
   "metadata": {},
   "source": [
    "Удаляю подозрительные строки из выборки (где эти параметры меньше 1):"
   ]
  },
  {
   "cell_type": "code",
   "execution_count": null,
   "metadata": {},
   "outputs": [],
   "source": [
    "for feature in feed_features:\n",
    "    for element in elements:\n",
    "        data_train = data_train[data_train[f'{feature}_{element}'] > 1 ]"
   ]
  },
  {
   "cell_type": "markdown",
   "metadata": {},
   "source": [
    "Проверка (этот же график до обработки в пункте 3.1 на третьем графике оранжевого цвета, rougher.output.concentrate_pb):"
   ]
  },
  {
   "cell_type": "code",
   "execution_count": 18,
   "metadata": {
    "scrolled": true
   },
   "outputs": [
    {
     "data": {
      "image/png": "[encoded data removed]",
      "text/plain": [
       "<Figure size 1200x300 with 1 Axes>"
      ]
     },
     "metadata": {},
     "output_type": "display_data"
    }
   ],
   "source": [
    "plt.figure(figsize=(12, 3))\n",
    "sns.histplot(data_train['rougher.output.concentrate_pb'], fill=True, color='orange', element=\"poly\", alpha=0.2);\n",
    "plt.xlabel('Концентрация'); plt.ylabel('Частота')\n",
    "plt.title('Распределение признака rougher.output.concentrate_pb');"
   ]
  },
  {
   "cell_type": "markdown",
   "metadata": {},
   "source": [
    "### Выводы, анализ данных\n",
    "\n",
    "- После первого этапа очистки (флотации) концентрация повышается для всех металлов, однако после следующего этапа (первичной очистки) концентрация свинца (pb) начинает и продолжает падать. Концентрация серебра (ag) растет после второго этапа, но падает после третьего (вторичной очистки)\n",
    "\n",
    "- Распределения на выборках `data_test` и `data_train` и по виду и по ключевым статистикам очень похожи, что позволяет использовать выборку `data_test` для валидации моделей, полученных при обучении на выборке `data_train`\n",
    "\n",
    "- После флотации и первичной очистки (1-го и 2-го этапов) средняя величина суммарной концентрации заметно растет, но также существенно (в $ \\approx1,75$ ) раза растет и среднеквадратичное отклонение (СКО), на последующих этапах концентрация сначала резко падает (зато падает и СКО), но на финальном этапе и суммарная концентрация элементов достигает максимальных значений, и СКО существенно снижается. \n",
    "\n",
    "- Флуктуации концентраций (около нуля), похожие на выбросы, были скорректированы, близкие к 0 значения были удалены."
   ]
  },
  {
   "cell_type": "markdown",
   "metadata": {},
   "source": [
    "## Построение моделей"
   ]
  },
  {
   "cell_type": "markdown",
   "metadata": {},
   "source": [
    "### Предобработка данных (продолжение)"
   ]
  },
  {
   "cell_type": "markdown",
   "metadata": {},
   "source": [
    "Добавляю в тестовую выборку отсутствующие признаки:"
   ]
  },
  {
   "cell_type": "code",
   "execution_count": 25,
   "metadata": {},
   "outputs": [],
   "source": [
    "data_test[target_features] = data_full.loc[data_test.index, target_features]"
   ]
  },
  {
   "cell_type": "code",
   "execution_count": 26,
   "metadata": {},
   "outputs": [
    {
     "name": "stdout",
     "output_type": "stream",
     "text": [
      "Размерность признакового пространства выборок:\n",
      "Тестовой: 54 \n",
      "Тренировочной:  86\n"
     ]
    }
   ],
   "source": [
    "print(f'Размерность признакового пространства выборок:')\n",
    "print(f'Тестовой: {data_test.shape[1]} \\nТренировочной:  {data_train.shape[1]}')"
   ]
  },
  {
   "cell_type": "markdown",
   "metadata": {},
   "source": [
    "Избавляюсь от признаков в тренировочной выборке, которых нет в тестовой выборке (**ВАЖНО**: в тестовой выборке не было столбцов целевых признаков, чтобы их не удалить из тренировочной, надо из `nontest_features` убрать `target_features`)"
   ]
  },
  {
   "cell_type": "code",
   "execution_count": 27,
   "metadata": {},
   "outputs": [],
   "source": [
    "for f in target_features:\n",
    "    nontest_features.remove(f) \n",
    "    \n",
    "data_train = data_train.drop(nontest_features, axis=1)"
   ]
  },
  {
   "cell_type": "code",
   "execution_count": 28,
   "metadata": {
    "scrolled": true
   },
   "outputs": [
    {
     "name": "stdout",
     "output_type": "stream",
     "text": [
      "Размерность признакового пространства выборок:\n",
      "Тестовой: 54 \n",
      "Тренировочной:  54\n"
     ]
    }
   ],
   "source": [
    "print(f'Размерность признакового пространства выборок:')\n",
    "print(f'Тестовой: {data_test.shape[1]} \\nТренировочной:  {data_train.shape[1]}')"
   ]
  },
  {
   "cell_type": "markdown",
   "metadata": {},
   "source": [
    "Убирание выбросов отсечением 1% наиболее отстоящих значений:"
   ]
  },
  {
   "cell_type": "code",
   "execution_count": 29,
   "metadata": {},
   "outputs": [],
   "source": [
    "for col in data_train.columns:\n",
    "    cint_l = np.percentile(data_train[col], 0.5); cint_r = np.percentile(data_train[col], 99.5)\n",
    "    new_data_train = data_train[(data_train[col] > cint_l) & (data_train[col] < cint_r)]"
   ]
  },
  {
   "cell_type": "markdown",
   "metadata": {},
   "source": [
    "Удаляю нулевые значения целевых признаков:"
   ]
  },
  {
   "cell_type": "code",
   "execution_count": 30,
   "metadata": {},
   "outputs": [],
   "source": [
    "for i in [0, 1]:\n",
    "    data_train = data_train[data_train[target_features[i]] != 0]\n",
    "    data_test = data_test[data_test[target_features[i]] != 0]"
   ]
  },
  {
   "cell_type": "markdown",
   "metadata": {},
   "source": [
    "Разделение признаков и целевой переменной:"
   ]
  },
  {
   "cell_type": "code",
   "execution_count": 31,
   "metadata": {},
   "outputs": [],
   "source": [
    "features_train = new_data_train.drop(target_features, axis=1)\n",
    "target_train = new_data_train[target_features]\n",
    "\n",
    "features_test = data_test.drop(target_features, axis=1)\n",
    "target_test = data_test[target_features]"
   ]
  },
  {
   "cell_type": "markdown",
   "metadata": {},
   "source": [
    "### Написание функций для вычисления sMAPE"
   ]
  },
  {
   "cell_type": "markdown",
   "metadata": {},
   "source": [
    "$$ {\\mathrm{sMAPE}} = {1 \\over N}  \\sum_{i=1}^{N} {|y_i - \\hat{y_i}| \\over (|y_i| +|\\hat{y_i}|)/2} \\cdot 100\\% $$\n",
    "\n",
    "Обозначения:\n",
    " - $y_i$ - значение целевого признака для объекта с порядковым номером i в выборке, на которой измеряется качество.\n",
    " - $\\hat{y_i}$ - значение предсказания для объекта с порядковым номером i, например, в тестовой выборке.\n",
    " - $N$ - количество объектов в выборке.\n",
    " - $\\sum_{i=1}^{N}$ - суммирование по всем объектам выборки (i меняется от 1 до N)."
   ]
  },
  {
   "cell_type": "markdown",
   "metadata": {},
   "source": [
    "$${\\mathrm{final\\_sMAPE}} = 25\\% \\cdot {\\mathrm{sMAPE(rougher)}} +75\\% \\cdot {\\mathrm{sMAPE(final)}}$$"
   ]
  },
  {
   "cell_type": "code",
   "execution_count": 32,
   "metadata": {},
   "outputs": [],
   "source": [
    "def smape(target_real, target_pred):\n",
    "    error = np.divide(np.abs(target_real - target_pred), ((np.abs(target_real) + np.abs(target_pred)) / 2))\n",
    "    return np.mean(error) * 100 \n",
    "\n",
    "   \n",
    "    \n",
    "def final_smape(target_real, target_pred):   \n",
    "    return 0.25 * smape(target_real['rougher.output.recovery'], target_pred[:, 0]) + \\\n",
    "           0.75 * smape(target_real['final.output.recovery'], target_pred[:, 1])"
   ]
  },
  {
   "cell_type": "code",
   "execution_count": 33,
   "metadata": {},
   "outputs": [],
   "source": [
    "smape_score = make_scorer(final_smape, greater_is_better=False)"
   ]
  },
  {
   "cell_type": "markdown",
   "metadata": {},
   "source": [
    "### Обучение моделей"
   ]
  },
  {
   "cell_type": "markdown",
   "metadata": {},
   "source": [
    "Функция для подбора гиперпараметров и обучения методом Cross Validation:"
   ]
  },
  {
   "cell_type": "code",
   "execution_count": 34,
   "metadata": {},
   "outputs": [],
   "source": [
    "def finetune(model_name, parameters, verbose=10, jobs=-1, **kwargs):\n",
    "    cv = RandomizedSearchCV(model_name(**kwargs), param_distributions=parameters,\n",
    "                      scoring=smape_score, cv=3, refit=True, verbose=verbose, n_jobs=jobs)\n",
    "    cv.fit(features_train, target_train)  \n",
    "    return [cv.best_estimator_, cv.best_params_, -cv.best_score_]"
   ]
  },
  {
   "cell_type": "markdown",
   "metadata": {},
   "source": [
    "#### Тупой регрессор (Baseline)"
   ]
  },
  {
   "cell_type": "code",
   "execution_count": 35,
   "metadata": {
    "scrolled": true
   },
   "outputs": [
    {
     "name": "stdout",
     "output_type": "stream",
     "text": [
      "(test) Итоговое sMAPE: 7.64%\n"
     ]
    }
   ],
   "source": [
    "dummy_r = DummyRegressor(strategy='mean').fit(features_train, target_train)\n",
    "target_test_pred = dummy_r.predict(features_test)\n",
    "dummy_r_test_score = final_smape(target_test, target_test_pred)\n",
    "print(f'(test) Итоговое sMAPE: {dummy_r_test_score:.2f}%')"
   ]
  },
  {
   "cell_type": "markdown",
   "metadata": {},
   "source": [
    "#### Линейная модель"
   ]
  },
  {
   "cell_type": "code",
   "execution_count": 36,
   "metadata": {
    "scrolled": true
   },
   "outputs": [
    {
     "name": "stdout",
     "output_type": "stream",
     "text": [
      "Fitting 3 folds for each of 1 candidates, totalling 3 fits\n",
      "[CV 1/3; 1/1] START ............................................................\n",
      "[CV 1/3; 1/1] END ........................................... total time=   0.1s\n",
      "[CV 2/3; 1/1] START ............................................................\n"
     ]
    },
    {
     "name": "stderr",
     "output_type": "stream",
     "text": [
      "/opt/conda/lib/python3.9/site-packages/sklearn/model_selection/_search.py:285: UserWarning: The total space of parameters 1 is smaller than n_iter=10. Running 1 iterations. For exhaustive searches, use GridSearchCV.\n",
      "  warnings.warn(\n"
     ]
    },
    {
     "name": "stdout",
     "output_type": "stream",
     "text": [
      "[CV 2/3; 1/1] END ........................................... total time=   0.3s\n",
      "[CV 3/3; 1/1] START ............................................................\n",
      "[CV 3/3; 1/1] END ........................................... total time=   0.2s\n",
      "лучшие параметры модели: {}\n",
      "(train, CV) лучшее итоговое sMAPE: 10.36%\n"
     ]
    }
   ],
   "source": [
    "params = {}\n",
    "\n",
    "lr_best_model, lr_best_params, lr_best_score = finetune(LinearRegression, params)\n",
    "print(f'лучшие параметры модели: {lr_best_params}')\n",
    "print(f'(train, CV) лучшее итоговое sMAPE: {lr_best_score:.2f}%')"
   ]
  },
  {
   "cell_type": "markdown",
   "metadata": {},
   "source": [
    "#### Решающее дерево"
   ]
  },
  {
   "cell_type": "code",
   "execution_count": 37,
   "metadata": {
    "scrolled": true
   },
   "outputs": [
    {
     "name": "stdout",
     "output_type": "stream",
     "text": [
      "Fitting 3 folds for each of 10 candidates, totalling 30 fits\n",
      "[CV 1/3; 1/10] START max_depth=2, min_samples_leaf=6, min_samples_split=6.......\n",
      "[CV 1/3; 1/10] END max_depth=2, min_samples_leaf=6, min_samples_split=6; total time=   0.2s\n",
      "[CV 2/3; 1/10] START max_depth=2, min_samples_leaf=6, min_samples_split=6.......\n",
      "[CV 2/3; 1/10] END max_depth=2, min_samples_leaf=6, min_samples_split=6; total time=   0.1s\n",
      "[CV 3/3; 1/10] START max_depth=2, min_samples_leaf=6, min_samples_split=6.......\n",
      "[CV 3/3; 1/10] END max_depth=2, min_samples_leaf=6, min_samples_split=6; total time=   0.1s\n",
      "[CV 1/3; 2/10] START max_depth=4, min_samples_leaf=4, min_samples_split=4.......\n",
      "[CV 1/3; 2/10] END max_depth=4, min_samples_leaf=4, min_samples_split=4; total time=   0.2s\n",
      "[CV 2/3; 2/10] START max_depth=4, min_samples_leaf=4, min_samples_split=4.......\n",
      "[CV 2/3; 2/10] END max_depth=4, min_samples_leaf=4, min_samples_split=4; total time=   0.2s\n",
      "[CV 3/3; 2/10] START max_depth=4, min_samples_leaf=4, min_samples_split=4.......\n",
      "[CV 3/3; 2/10] END max_depth=4, min_samples_leaf=4, min_samples_split=4; total time=   0.2s\n",
      "[CV 1/3; 3/10] START max_depth=4, min_samples_leaf=2, min_samples_split=2.......\n",
      "[CV 1/3; 3/10] END max_depth=4, min_samples_leaf=2, min_samples_split=2; total time=   0.2s\n",
      "[CV 2/3; 3/10] START max_depth=4, min_samples_leaf=2, min_samples_split=2.......\n",
      "[CV 2/3; 3/10] END max_depth=4, min_samples_leaf=2, min_samples_split=2; total time=   0.2s\n",
      "[CV 3/3; 3/10] START max_depth=4, min_samples_leaf=2, min_samples_split=2.......\n",
      "[CV 3/3; 3/10] END max_depth=4, min_samples_leaf=2, min_samples_split=2; total time=   0.2s\n",
      "[CV 1/3; 4/10] START max_depth=6, min_samples_leaf=4, min_samples_split=2.......\n",
      "[CV 1/3; 4/10] END max_depth=6, min_samples_leaf=4, min_samples_split=2; total time=   0.2s\n",
      "[CV 2/3; 4/10] START max_depth=6, min_samples_leaf=4, min_samples_split=2.......\n",
      "[CV 2/3; 4/10] END max_depth=6, min_samples_leaf=4, min_samples_split=2; total time=   0.2s\n",
      "[CV 3/3; 4/10] START max_depth=6, min_samples_leaf=4, min_samples_split=2.......\n",
      "[CV 3/3; 4/10] END max_depth=6, min_samples_leaf=4, min_samples_split=2; total time=   0.2s\n",
      "[CV 1/3; 5/10] START max_depth=2, min_samples_leaf=2, min_samples_split=2.......\n",
      "[CV 1/3; 5/10] END max_depth=2, min_samples_leaf=2, min_samples_split=2; total time=   0.1s\n",
      "[CV 2/3; 5/10] START max_depth=2, min_samples_leaf=2, min_samples_split=2.......\n",
      "[CV 2/3; 5/10] END max_depth=2, min_samples_leaf=2, min_samples_split=2; total time=   0.1s\n",
      "[CV 3/3; 5/10] START max_depth=2, min_samples_leaf=2, min_samples_split=2.......\n",
      "[CV 3/3; 5/10] END max_depth=2, min_samples_leaf=2, min_samples_split=2; total time=   0.1s\n",
      "[CV 1/3; 6/10] START max_depth=4, min_samples_leaf=2, min_samples_split=6.......\n",
      "[CV 1/3; 6/10] END max_depth=4, min_samples_leaf=2, min_samples_split=6; total time=   0.2s\n",
      "[CV 2/3; 6/10] START max_depth=4, min_samples_leaf=2, min_samples_split=6.......\n",
      "[CV 2/3; 6/10] END max_depth=4, min_samples_leaf=2, min_samples_split=6; total time=   0.2s\n",
      "[CV 3/3; 6/10] START max_depth=4, min_samples_leaf=2, min_samples_split=6.......\n",
      "[CV 3/3; 6/10] END max_depth=4, min_samples_leaf=2, min_samples_split=6; total time=   0.2s\n",
      "[CV 1/3; 7/10] START max_depth=4, min_samples_leaf=6, min_samples_split=4.......\n",
      "[CV 1/3; 7/10] END max_depth=4, min_samples_leaf=6, min_samples_split=4; total time=   0.2s\n",
      "[CV 2/3; 7/10] START max_depth=4, min_samples_leaf=6, min_samples_split=4.......\n",
      "[CV 2/3; 7/10] END max_depth=4, min_samples_leaf=6, min_samples_split=4; total time=   0.2s\n",
      "[CV 3/3; 7/10] START max_depth=4, min_samples_leaf=6, min_samples_split=4.......\n",
      "[CV 3/3; 7/10] END max_depth=4, min_samples_leaf=6, min_samples_split=4; total time=   0.2s\n",
      "[CV 1/3; 8/10] START max_depth=4, min_samples_leaf=6, min_samples_split=6.......\n",
      "[CV 1/3; 8/10] END max_depth=4, min_samples_leaf=6, min_samples_split=6; total time=   0.2s\n",
      "[CV 2/3; 8/10] START max_depth=4, min_samples_leaf=6, min_samples_split=6.......\n",
      "[CV 2/3; 8/10] END max_depth=4, min_samples_leaf=6, min_samples_split=6; total time=   0.2s\n",
      "[CV 3/3; 8/10] START max_depth=4, min_samples_leaf=6, min_samples_split=6.......\n",
      "[CV 3/3; 8/10] END max_depth=4, min_samples_leaf=6, min_samples_split=6; total time=   0.2s\n",
      "[CV 1/3; 9/10] START max_depth=4, min_samples_leaf=4, min_samples_split=2.......\n",
      "[CV 1/3; 9/10] END max_depth=4, min_samples_leaf=4, min_samples_split=2; total time=   0.2s\n",
      "[CV 2/3; 9/10] START max_depth=4, min_samples_leaf=4, min_samples_split=2.......\n",
      "[CV 2/3; 9/10] END max_depth=4, min_samples_leaf=4, min_samples_split=2; total time=   0.2s\n",
      "[CV 3/3; 9/10] START max_depth=4, min_samples_leaf=4, min_samples_split=2.......\n",
      "[CV 3/3; 9/10] END max_depth=4, min_samples_leaf=4, min_samples_split=2; total time=   0.2s\n",
      "[CV 1/3; 10/10] START max_depth=6, min_samples_leaf=6, min_samples_split=2......\n",
      "[CV 1/3; 10/10] END max_depth=6, min_samples_leaf=6, min_samples_split=2; total time=   0.2s\n",
      "[CV 2/3; 10/10] START max_depth=6, min_samples_leaf=6, min_samples_split=2......\n",
      "[CV 2/3; 10/10] END max_depth=6, min_samples_leaf=6, min_samples_split=2; total time=   0.2s\n",
      "[CV 3/3; 10/10] START max_depth=6, min_samples_leaf=6, min_samples_split=2......\n",
      "[CV 3/3; 10/10] END max_depth=6, min_samples_leaf=6, min_samples_split=2; total time=   0.2s\n",
      "лучшие параметры модели: {'min_samples_split': 4, 'min_samples_leaf': 6, 'max_depth': 4}\n",
      "(train, CV) лучшее итоговое sMAPE: 8.71%\n",
      "\n",
      "CPU times: user 5.13 s, sys: 51.4 ms, total: 5.18 s\n",
      "Wall time: 5.27 s\n"
     ]
    }
   ],
   "source": [
    "%%time\n",
    "\n",
    "params = {'min_samples_split': range(2, 8, 2),\n",
    "          'min_samples_leaf': range(2, 8, 2),\n",
    "          'max_depth': range(2, 8, 2)}\n",
    "\n",
    "dt_best_model, dt_best_params, dt_best_score = finetune(DecisionTreeRegressor, params, random_state=random_state)\n",
    "print(f'лучшие параметры модели: {dt_best_params}')\n",
    "print(f'(train, CV) лучшее итоговое sMAPE: {dt_best_score:.2f}%')\n",
    "print()"
   ]
  },
  {
   "cell_type": "markdown",
   "metadata": {},
   "source": [
    "#### Случайный лес"
   ]
  },
  {
   "cell_type": "code",
   "execution_count": 38,
   "metadata": {},
   "outputs": [
    {
     "name": "stdout",
     "output_type": "stream",
     "text": [
      "Fitting 3 folds for each of 8 candidates, totalling 24 fits\n",
      "[CV 1/3; 1/8] START min_samples_leaf=4, min_samples_split=4, n_estimators=2.....\n"
     ]
    },
    {
     "name": "stderr",
     "output_type": "stream",
     "text": [
      "/opt/conda/lib/python3.9/site-packages/sklearn/model_selection/_search.py:285: UserWarning: The total space of parameters 8 is smaller than n_iter=10. Running 8 iterations. For exhaustive searches, use GridSearchCV.\n",
      "  warnings.warn(\n"
     ]
    },
    {
     "name": "stdout",
     "output_type": "stream",
     "text": [
      "[CV 1/3; 1/8] END min_samples_leaf=4, min_samples_split=4, n_estimators=2; total time=   0.5s\n",
      "[CV 2/3; 1/8] START min_samples_leaf=4, min_samples_split=4, n_estimators=2.....\n",
      "[CV 2/3; 1/8] END min_samples_leaf=4, min_samples_split=4, n_estimators=2; total time=   0.5s\n",
      "[CV 3/3; 1/8] START min_samples_leaf=4, min_samples_split=4, n_estimators=2.....\n",
      "[CV 3/3; 1/8] END min_samples_leaf=4, min_samples_split=4, n_estimators=2; total time=   0.5s\n",
      "[CV 1/3; 2/8] START min_samples_leaf=4, min_samples_split=4, n_estimators=80....\n",
      "[CV 1/3; 2/8] END min_samples_leaf=4, min_samples_split=4, n_estimators=80; total time=  21.1s\n",
      "[CV 2/3; 2/8] START min_samples_leaf=4, min_samples_split=4, n_estimators=80....\n",
      "[CV 2/3; 2/8] END min_samples_leaf=4, min_samples_split=4, n_estimators=80; total time=  19.4s\n",
      "[CV 3/3; 2/8] START min_samples_leaf=4, min_samples_split=4, n_estimators=80....\n",
      "[CV 3/3; 2/8] END min_samples_leaf=4, min_samples_split=4, n_estimators=80; total time=  19.2s\n",
      "[CV 1/3; 3/8] START min_samples_leaf=4, min_samples_split=6, n_estimators=2.....\n",
      "[CV 1/3; 3/8] END min_samples_leaf=4, min_samples_split=6, n_estimators=2; total time=   0.5s\n",
      "[CV 2/3; 3/8] START min_samples_leaf=4, min_samples_split=6, n_estimators=2.....\n",
      "[CV 2/3; 3/8] END min_samples_leaf=4, min_samples_split=6, n_estimators=2; total time=   0.5s\n",
      "[CV 3/3; 3/8] START min_samples_leaf=4, min_samples_split=6, n_estimators=2.....\n",
      "[CV 3/3; 3/8] END min_samples_leaf=4, min_samples_split=6, n_estimators=2; total time=   0.5s\n",
      "[CV 1/3; 4/8] START min_samples_leaf=4, min_samples_split=6, n_estimators=80....\n",
      "[CV 1/3; 4/8] END min_samples_leaf=4, min_samples_split=6, n_estimators=80; total time=  20.3s\n",
      "[CV 2/3; 4/8] START min_samples_leaf=4, min_samples_split=6, n_estimators=80....\n",
      "[CV 2/3; 4/8] END min_samples_leaf=4, min_samples_split=6, n_estimators=80; total time=  18.6s\n",
      "[CV 3/3; 4/8] START min_samples_leaf=4, min_samples_split=6, n_estimators=80....\n",
      "[CV 3/3; 4/8] END min_samples_leaf=4, min_samples_split=6, n_estimators=80; total time=  18.9s\n",
      "[CV 1/3; 5/8] START min_samples_leaf=6, min_samples_split=4, n_estimators=2.....\n",
      "[CV 1/3; 5/8] END min_samples_leaf=6, min_samples_split=4, n_estimators=2; total time=   0.5s\n",
      "[CV 2/3; 5/8] START min_samples_leaf=6, min_samples_split=4, n_estimators=2.....\n",
      "[CV 2/3; 5/8] END min_samples_leaf=6, min_samples_split=4, n_estimators=2; total time=   0.5s\n",
      "[CV 3/3; 5/8] START min_samples_leaf=6, min_samples_split=4, n_estimators=2.....\n",
      "[CV 3/3; 5/8] END min_samples_leaf=6, min_samples_split=4, n_estimators=2; total time=   0.4s\n",
      "[CV 1/3; 6/8] START min_samples_leaf=6, min_samples_split=4, n_estimators=80....\n",
      "[CV 1/3; 6/8] END min_samples_leaf=6, min_samples_split=4, n_estimators=80; total time=  19.3s\n",
      "[CV 2/3; 6/8] START min_samples_leaf=6, min_samples_split=4, n_estimators=80....\n",
      "[CV 2/3; 6/8] END min_samples_leaf=6, min_samples_split=4, n_estimators=80; total time=  17.8s\n",
      "[CV 3/3; 6/8] START min_samples_leaf=6, min_samples_split=4, n_estimators=80....\n",
      "[CV 3/3; 6/8] END min_samples_leaf=6, min_samples_split=4, n_estimators=80; total time=  18.3s\n",
      "[CV 1/3; 7/8] START min_samples_leaf=6, min_samples_split=6, n_estimators=2.....\n",
      "[CV 1/3; 7/8] END min_samples_leaf=6, min_samples_split=6, n_estimators=2; total time=   0.6s\n",
      "[CV 2/3; 7/8] START min_samples_leaf=6, min_samples_split=6, n_estimators=2.....\n",
      "[CV 2/3; 7/8] END min_samples_leaf=6, min_samples_split=6, n_estimators=2; total time=   0.5s\n",
      "[CV 3/3; 7/8] START min_samples_leaf=6, min_samples_split=6, n_estimators=2.....\n",
      "[CV 3/3; 7/8] END min_samples_leaf=6, min_samples_split=6, n_estimators=2; total time=   0.5s\n",
      "[CV 1/3; 8/8] START min_samples_leaf=6, min_samples_split=6, n_estimators=80....\n",
      "[CV 1/3; 8/8] END min_samples_leaf=6, min_samples_split=6, n_estimators=80; total time=  19.2s\n",
      "[CV 2/3; 8/8] START min_samples_leaf=6, min_samples_split=6, n_estimators=80....\n",
      "[CV 2/3; 8/8] END min_samples_leaf=6, min_samples_split=6, n_estimators=80; total time=  18.2s\n",
      "[CV 3/3; 8/8] START min_samples_leaf=6, min_samples_split=6, n_estimators=80....\n",
      "[CV 3/3; 8/8] END min_samples_leaf=6, min_samples_split=6, n_estimators=80; total time=  19.3s\n",
      "лучшие параметры модели: {'n_estimators': 80, 'min_samples_split': 4, 'min_samples_leaf': 6}\n",
      "(train, CV) лучшее итоговое sMAPE: 8.53%\n",
      "\n",
      "CPU times: user 4min 26s, sys: 760 ms, total: 4min 27s\n",
      "Wall time: 4min 28s\n"
     ]
    }
   ],
   "source": [
    "%%time\n",
    "\n",
    "params = {\n",
    "    'n_estimators' : [2, 80],\n",
    "    'min_samples_leaf': [4, 6],\n",
    "    'min_samples_split': [4, 6]\n",
    "}\n",
    "\n",
    "rf_best_model, rf_best_params, rf_best_score = finetune(RandomForestRegressor, params, random_state=random_state)\n",
    "print(f'лучшие параметры модели: {rf_best_params}')\n",
    "print(f'(train, CV) лучшее итоговое sMAPE: {rf_best_score:.2f}%')\n",
    "print()"
   ]
  },
  {
   "cell_type": "markdown",
   "metadata": {},
   "source": [
    "Лучшей моделью по метрике sMAPE оказалась модель случайного леса. Проверяю её на тестовых данных:"
   ]
  },
  {
   "cell_type": "code",
   "execution_count": 39,
   "metadata": {
    "scrolled": true
   },
   "outputs": [
    {
     "name": "stdout",
     "output_type": "stream",
     "text": [
      "(test) итоговое sMAPE для модели Random Forest: 7.61%\n",
      "(test) итоговое sMAPE для baseline модели (Dummy Regressor): 7.64%\n"
     ]
    }
   ],
   "source": [
    "target_pred = rf_best_model.predict(features_test)\n",
    "rf_test_score = final_smape(target_test, target_pred)\n",
    "print(f'(test) итоговое sMAPE для модели Random Forest: {rf_test_score:.2f}%')\n",
    "print(f'(test) итоговое sMAPE для baseline модели (Dummy Regressor): {dummy_r_test_score:.2f}%')"
   ]
  },
  {
   "cell_type": "markdown",
   "metadata": {},
   "source": [
    "Итоговая таблица (для вывода):"
   ]
  },
  {
   "cell_type": "code",
   "execution_count": 40,
   "metadata": {},
   "outputs": [],
   "source": [
    "results_table = pd.DataFrame({'Модель':['Линейная модель', 'Решающее дерево', 'Случайный лес'],\n",
    "'train sMAPE (%)': [round(i, 2) for i in [lr_best_score, dt_best_score, rf_best_score]]}\n",
    ").set_index('Модель')"
   ]
  },
  {
   "cell_type": "markdown",
   "metadata": {},
   "source": [
    "## Итоговый вывод\n",
    "\n",
    "В ходе работы были проанализированы и обработаны предоставленные данные и подготовлена модель машинного обучения, способная на обучающей выборке выдавать прогноз лучше baseline (Dummy Regressor).\n",
    "\n",
    "Получены следующие результаты:\n"
   ]
  },
  {
   "cell_type": "code",
   "execution_count": 41,
   "metadata": {},
   "outputs": [
    {
     "data": {
      "text/html": [
       "<div>\n",
       "<style scoped>\n",
       "    .dataframe tbody tr th:only-of-type {\n",
       "        vertical-align: middle;\n",
       "    }\n",
       "\n",
       "    .dataframe tbody tr th {\n",
       "        vertical-align: top;\n",
       "    }\n",
       "\n",
       "    .dataframe thead th {\n",
       "        text-align: right;\n",
       "    }\n",
       "</style>\n",
       "<table border=\"1\" class=\"dataframe\">\n",
       "  <thead>\n",
       "    <tr style=\"text-align: right;\">\n",
       "      <th></th>\n",
       "      <th>train sMAPE (%)</th>\n",
       "    </tr>\n",
       "    <tr>\n",
       "      <th>Модель</th>\n",
       "      <th></th>\n",
       "    </tr>\n",
       "  </thead>\n",
       "  <tbody>\n",
       "    <tr>\n",
       "      <th>Случайный лес</th>\n",
       "      <td>8.53</td>\n",
       "    </tr>\n",
       "    <tr>\n",
       "      <th>Решающее дерево</th>\n",
       "      <td>8.71</td>\n",
       "    </tr>\n",
       "    <tr>\n",
       "      <th>Линейная модель</th>\n",
       "      <td>10.36</td>\n",
       "    </tr>\n",
       "  </tbody>\n",
       "</table>\n",
       "</div>"
      ],
      "text/plain": [
       "                 train sMAPE (%)\n",
       "Модель                          \n",
       "Случайный лес               8.53\n",
       "Решающее дерево             8.71\n",
       "Линейная модель            10.36"
      ]
     },
     "execution_count": 41,
     "metadata": {},
     "output_type": "execute_result"
    }
   ],
   "source": [
    "results_table.sort_values(by='train sMAPE (%)')"
   ]
  },
  {
   "cell_type": "markdown",
   "metadata": {},
   "source": [
    "На тестовой выборке с помощью лучшей из обученных моделей (Random Forest/Случайный лес) получено значение метрики итогового $sMAPE\\approx$ 7,61%, что лучше baseline решения на 0,03% (константная baseline модель - Dummy Regressor - показывает на тестовой выборке результат: $\\approx$ 7,64%)\n",
    "\n",
    "В итоге, удалось обучить модель машинного обучения, которая по метрике sMAPE лучше альтернатив, включая константную baseline модель.\n"
   ]
  }
 ],
 "metadata": {
  "ExecuteTimeLog": [
   {
    "duration": 1016,
    "start_time": "2022-12-28T02:56:53.859Z"
   },
   {
    "duration": 743,
    "start_time": "2022-12-28T02:57:21.302Z"
   },
   {
    "duration": 16,
    "start_time": "2022-12-28T02:57:28.260Z"
   },
   {
    "duration": 8,
    "start_time": "2022-12-28T02:57:41.306Z"
   },
   {
    "duration": 8,
    "start_time": "2022-12-28T02:57:49.616Z"
   },
   {
    "duration": 11,
    "start_time": "2022-12-28T02:58:18.992Z"
   },
   {
    "duration": 11,
    "start_time": "2022-12-28T02:58:24.662Z"
   },
   {
    "duration": 10,
    "start_time": "2022-12-28T02:58:29.747Z"
   },
   {
    "duration": 3,
    "start_time": "2022-12-28T03:00:19.522Z"
   },
   {
    "duration": 360,
    "start_time": "2022-12-28T03:00:20.805Z"
   },
   {
    "duration": 11,
    "start_time": "2022-12-28T03:00:22.794Z"
   },
   {
    "duration": 11,
    "start_time": "2022-12-28T03:00:23.502Z"
   },
   {
    "duration": 11,
    "start_time": "2022-12-28T03:00:24.308Z"
   },
   {
    "duration": 9,
    "start_time": "2022-12-28T03:01:02.424Z"
   },
   {
    "duration": 8,
    "start_time": "2022-12-28T03:01:05.657Z"
   },
   {
    "duration": 9,
    "start_time": "2022-12-28T03:01:08.772Z"
   },
   {
    "duration": 144,
    "start_time": "2022-12-28T03:03:33.096Z"
   },
   {
    "duration": 14,
    "start_time": "2022-12-28T03:03:40.590Z"
   },
   {
    "duration": 35,
    "start_time": "2022-12-28T03:03:50.729Z"
   },
   {
    "duration": 13,
    "start_time": "2022-12-28T03:04:24.590Z"
   },
   {
    "duration": 35,
    "start_time": "2022-12-28T03:04:30.292Z"
   },
   {
    "duration": 19,
    "start_time": "2022-12-28T03:04:37.114Z"
   },
   {
    "duration": 32,
    "start_time": "2022-12-28T03:04:42.725Z"
   },
   {
    "duration": 42,
    "start_time": "2022-12-28T03:06:14.414Z"
   },
   {
    "duration": 40,
    "start_time": "2022-12-28T03:08:21.701Z"
   },
   {
    "duration": 44,
    "start_time": "2022-12-28T03:08:33.048Z"
   },
   {
    "duration": 419,
    "start_time": "2022-12-28T03:09:19.231Z"
   },
   {
    "duration": 362,
    "start_time": "2022-12-28T03:09:30.924Z"
   },
   {
    "duration": 359,
    "start_time": "2022-12-28T03:09:41.427Z"
   },
   {
    "duration": 479,
    "start_time": "2022-12-28T03:09:55.810Z"
   },
   {
    "duration": 4,
    "start_time": "2022-12-28T03:17:33.251Z"
   },
   {
    "duration": 127,
    "start_time": "2022-12-28T03:23:01.449Z"
   },
   {
    "duration": 5,
    "start_time": "2022-12-28T03:23:51.417Z"
   },
   {
    "duration": 500,
    "start_time": "2022-12-28T03:23:52.916Z"
   },
   {
    "duration": 4,
    "start_time": "2022-12-28T03:23:56.476Z"
   },
   {
    "duration": 8,
    "start_time": "2022-12-28T06:24:21.688Z"
   },
   {
    "duration": 1493,
    "start_time": "2022-12-28T06:24:34.696Z"
   },
   {
    "duration": 387,
    "start_time": "2022-12-28T06:24:36.191Z"
   },
   {
    "duration": 15,
    "start_time": "2022-12-28T06:24:36.580Z"
   },
   {
    "duration": 38,
    "start_time": "2022-12-28T06:24:36.597Z"
   },
   {
    "duration": 45,
    "start_time": "2022-12-28T06:24:36.637Z"
   },
   {
    "duration": 359,
    "start_time": "2022-12-28T06:24:36.683Z"
   },
   {
    "duration": 198,
    "start_time": "2022-12-28T06:24:37.044Z"
   },
   {
    "duration": 15,
    "start_time": "2022-12-28T06:24:37.244Z"
   },
   {
    "duration": 34,
    "start_time": "2022-12-28T06:24:37.260Z"
   },
   {
    "duration": 43,
    "start_time": "2022-12-28T06:24:37.297Z"
   },
   {
    "duration": 351,
    "start_time": "2022-12-28T06:24:37.341Z"
   },
   {
    "duration": 209,
    "start_time": "2022-12-28T06:24:37.694Z"
   },
   {
    "duration": 13,
    "start_time": "2022-12-28T06:24:37.904Z"
   },
   {
    "duration": 33,
    "start_time": "2022-12-28T06:24:37.919Z"
   },
   {
    "duration": 40,
    "start_time": "2022-12-28T06:24:37.953Z"
   },
   {
    "duration": 329,
    "start_time": "2022-12-28T06:24:37.995Z"
   },
   {
    "duration": 4,
    "start_time": "2022-12-28T06:24:38.325Z"
   },
   {
    "duration": 498,
    "start_time": "2022-12-28T06:24:38.330Z"
   },
   {
    "duration": 87,
    "start_time": "2022-12-28T06:24:38.831Z"
   },
   {
    "duration": 103,
    "start_time": "2022-12-28T06:24:38.920Z"
   },
   {
    "duration": 2,
    "start_time": "2022-12-28T06:25:58.752Z"
   },
   {
    "duration": 4,
    "start_time": "2022-12-28T07:09:48.948Z"
   },
   {
    "duration": 2,
    "start_time": "2022-12-28T07:14:24.040Z"
   },
   {
    "duration": 3,
    "start_time": "2022-12-28T07:14:25.714Z"
   },
   {
    "duration": 2,
    "start_time": "2022-12-28T07:14:59.675Z"
   },
   {
    "duration": 3,
    "start_time": "2022-12-28T07:15:02.216Z"
   },
   {
    "duration": 3,
    "start_time": "2022-12-28T07:21:32.723Z"
   },
   {
    "duration": 3,
    "start_time": "2022-12-28T07:30:35.216Z"
   },
   {
    "duration": 4,
    "start_time": "2022-12-28T07:30:37.300Z"
   },
   {
    "duration": 58,
    "start_time": "2022-12-28T07:31:32.707Z"
   },
   {
    "duration": 3,
    "start_time": "2022-12-28T07:31:37.531Z"
   },
   {
    "duration": 1568,
    "start_time": "2022-12-28T16:35:18.650Z"
   },
   {
    "duration": 587,
    "start_time": "2022-12-28T16:35:20.221Z"
   },
   {
    "duration": 15,
    "start_time": "2022-12-28T16:35:20.810Z"
   },
   {
    "duration": 38,
    "start_time": "2022-12-28T16:35:20.828Z"
   },
   {
    "duration": 99,
    "start_time": "2022-12-28T16:35:20.868Z"
   },
   {
    "duration": 474,
    "start_time": "2022-12-28T16:35:20.970Z"
   },
   {
    "duration": 224,
    "start_time": "2022-12-28T16:35:21.446Z"
   },
   {
    "duration": 16,
    "start_time": "2022-12-28T16:35:21.672Z"
   },
   {
    "duration": 39,
    "start_time": "2022-12-28T16:35:21.690Z"
   },
   {
    "duration": 66,
    "start_time": "2022-12-28T16:35:21.732Z"
   },
   {
    "duration": 391,
    "start_time": "2022-12-28T16:35:21.799Z"
   },
   {
    "duration": 225,
    "start_time": "2022-12-28T16:35:22.192Z"
   },
   {
    "duration": 20,
    "start_time": "2022-12-28T16:35:22.420Z"
   },
   {
    "duration": 35,
    "start_time": "2022-12-28T16:35:22.441Z"
   },
   {
    "duration": 61,
    "start_time": "2022-12-28T16:35:22.479Z"
   },
   {
    "duration": 417,
    "start_time": "2022-12-28T16:35:22.542Z"
   },
   {
    "duration": 4,
    "start_time": "2022-12-28T16:35:22.961Z"
   },
   {
    "duration": 435,
    "start_time": "2022-12-28T16:35:22.967Z"
   },
   {
    "duration": 10,
    "start_time": "2022-12-28T16:35:23.404Z"
   },
   {
    "duration": 122,
    "start_time": "2022-12-28T16:35:23.416Z"
   },
   {
    "duration": 10,
    "start_time": "2022-12-28T16:35:23.541Z"
   },
   {
    "duration": 10,
    "start_time": "2022-12-28T16:35:23.554Z"
   },
   {
    "duration": 334,
    "start_time": "2022-12-28T16:35:23.566Z"
   },
   {
    "duration": 5,
    "start_time": "2022-12-28T16:35:59.035Z"
   },
   {
    "duration": 36,
    "start_time": "2022-12-28T16:36:17.149Z"
   },
   {
    "duration": 30,
    "start_time": "2022-12-28T16:40:21.174Z"
   },
   {
    "duration": 4,
    "start_time": "2022-12-28T16:44:55.266Z"
   },
   {
    "duration": 12,
    "start_time": "2022-12-28T16:45:04.738Z"
   },
   {
    "duration": 9,
    "start_time": "2022-12-28T16:46:33.973Z"
   },
   {
    "duration": 17,
    "start_time": "2022-12-28T16:46:37.794Z"
   },
   {
    "duration": 4,
    "start_time": "2022-12-28T16:46:45.317Z"
   },
   {
    "duration": 5,
    "start_time": "2022-12-28T16:47:17.526Z"
   },
   {
    "duration": 15,
    "start_time": "2022-12-28T16:47:29.913Z"
   },
   {
    "duration": 9,
    "start_time": "2022-12-28T16:47:59.414Z"
   },
   {
    "duration": 4,
    "start_time": "2022-12-28T16:49:02.639Z"
   },
   {
    "duration": 11,
    "start_time": "2022-12-28T16:49:03.446Z"
   },
   {
    "duration": 5,
    "start_time": "2022-12-28T16:49:43.149Z"
   },
   {
    "duration": 11,
    "start_time": "2022-12-28T16:49:44.483Z"
   },
   {
    "duration": 12,
    "start_time": "2022-12-28T16:50:11.689Z"
   },
   {
    "duration": 3,
    "start_time": "2022-12-28T16:50:22.374Z"
   },
   {
    "duration": 10,
    "start_time": "2022-12-28T16:50:22.817Z"
   },
   {
    "duration": 3,
    "start_time": "2022-12-28T16:51:31.655Z"
   },
   {
    "duration": 9,
    "start_time": "2022-12-28T16:51:32.651Z"
   },
   {
    "duration": 4,
    "start_time": "2022-12-28T16:53:33.330Z"
   },
   {
    "duration": 10,
    "start_time": "2022-12-28T16:53:34.776Z"
   },
   {
    "duration": 13,
    "start_time": "2022-12-28T16:53:44.339Z"
   },
   {
    "duration": 22,
    "start_time": "2022-12-28T16:54:01.709Z"
   },
   {
    "duration": 1738,
    "start_time": "2022-12-29T05:55:58.166Z"
   },
   {
    "duration": 598,
    "start_time": "2022-12-29T05:55:59.906Z"
   },
   {
    "duration": 18,
    "start_time": "2022-12-29T05:56:00.506Z"
   },
   {
    "duration": 43,
    "start_time": "2022-12-29T05:56:00.526Z"
   },
   {
    "duration": 74,
    "start_time": "2022-12-29T05:56:00.571Z"
   },
   {
    "duration": 417,
    "start_time": "2022-12-29T05:56:00.651Z"
   },
   {
    "duration": 633,
    "start_time": "2022-12-29T05:56:01.070Z"
   },
   {
    "duration": 16,
    "start_time": "2022-12-29T05:56:01.705Z"
   },
   {
    "duration": 62,
    "start_time": "2022-12-29T05:56:01.723Z"
   },
   {
    "duration": 82,
    "start_time": "2022-12-29T05:56:01.787Z"
   },
   {
    "duration": 416,
    "start_time": "2022-12-29T05:56:01.876Z"
   },
   {
    "duration": 598,
    "start_time": "2022-12-29T05:56:02.295Z"
   },
   {
    "duration": 16,
    "start_time": "2022-12-29T05:56:02.895Z"
   },
   {
    "duration": 62,
    "start_time": "2022-12-29T05:56:02.912Z"
   },
   {
    "duration": 51,
    "start_time": "2022-12-29T05:56:02.977Z"
   },
   {
    "duration": 387,
    "start_time": "2022-12-29T05:56:03.029Z"
   },
   {
    "duration": 4,
    "start_time": "2022-12-29T05:56:03.418Z"
   },
   {
    "duration": 438,
    "start_time": "2022-12-29T05:56:03.424Z"
   },
   {
    "duration": 6,
    "start_time": "2022-12-29T05:56:03.864Z"
   },
   {
    "duration": 201,
    "start_time": "2022-12-29T05:56:03.872Z"
   },
   {
    "duration": 9,
    "start_time": "2022-12-29T05:56:04.075Z"
   },
   {
    "duration": 10,
    "start_time": "2022-12-29T05:56:04.086Z"
   },
   {
    "duration": 113,
    "start_time": "2022-12-29T05:56:04.097Z"
   },
   {
    "duration": 5,
    "start_time": "2022-12-29T05:56:04.212Z"
   },
   {
    "duration": 150,
    "start_time": "2022-12-29T05:56:04.219Z"
   },
   {
    "duration": 4,
    "start_time": "2022-12-29T06:03:04.410Z"
   },
   {
    "duration": 20,
    "start_time": "2022-12-29T06:03:06.020Z"
   },
   {
    "duration": 6,
    "start_time": "2022-12-29T06:08:07.981Z"
   },
   {
    "duration": 35,
    "start_time": "2022-12-29T06:08:09.119Z"
   },
   {
    "duration": 9,
    "start_time": "2022-12-29T06:12:00.163Z"
   },
   {
    "duration": 35,
    "start_time": "2022-12-29T06:12:02.977Z"
   },
   {
    "duration": 1452,
    "start_time": "2022-12-29T06:13:51.206Z"
   },
   {
    "duration": 163,
    "start_time": "2022-12-29T06:13:52.661Z"
   },
   {
    "duration": 31,
    "start_time": "2022-12-29T06:13:52.826Z"
   },
   {
    "duration": 42,
    "start_time": "2022-12-29T06:13:52.860Z"
   },
   {
    "duration": 96,
    "start_time": "2022-12-29T06:13:52.904Z"
   },
   {
    "duration": 379,
    "start_time": "2022-12-29T06:13:53.002Z"
   },
   {
    "duration": 190,
    "start_time": "2022-12-29T06:13:53.383Z"
   },
   {
    "duration": 22,
    "start_time": "2022-12-29T06:13:53.576Z"
   },
   {
    "duration": 68,
    "start_time": "2022-12-29T06:13:53.600Z"
   },
   {
    "duration": 64,
    "start_time": "2022-12-29T06:13:53.672Z"
   },
   {
    "duration": 388,
    "start_time": "2022-12-29T06:13:53.751Z"
   },
   {
    "duration": 158,
    "start_time": "2022-12-29T06:13:54.141Z"
   },
   {
    "duration": 22,
    "start_time": "2022-12-29T06:13:54.301Z"
   },
   {
    "duration": 65,
    "start_time": "2022-12-29T06:13:54.326Z"
   },
   {
    "duration": 62,
    "start_time": "2022-12-29T06:13:54.393Z"
   },
   {
    "duration": 421,
    "start_time": "2022-12-29T06:13:54.458Z"
   },
   {
    "duration": 6,
    "start_time": "2022-12-29T06:13:54.881Z"
   },
   {
    "duration": 391,
    "start_time": "2022-12-29T06:13:54.889Z"
   },
   {
    "duration": 71,
    "start_time": "2022-12-29T06:13:55.283Z"
   },
   {
    "duration": 103,
    "start_time": "2022-12-29T06:13:55.357Z"
   },
   {
    "duration": 18,
    "start_time": "2022-12-29T06:13:55.463Z"
   },
   {
    "duration": 9,
    "start_time": "2022-12-29T06:13:55.484Z"
   },
   {
    "duration": 154,
    "start_time": "2022-12-29T06:13:55.498Z"
   },
   {
    "duration": 8,
    "start_time": "2022-12-29T06:13:55.655Z"
   },
   {
    "duration": 202,
    "start_time": "2022-12-29T06:13:55.667Z"
   },
   {
    "duration": 5,
    "start_time": "2022-12-29T06:17:17.579Z"
   },
   {
    "duration": 24,
    "start_time": "2022-12-29T06:17:18.865Z"
   },
   {
    "duration": 29,
    "start_time": "2022-12-29T06:17:42.152Z"
   },
   {
    "duration": 1408,
    "start_time": "2022-12-29T19:29:32.109Z"
   },
   {
    "duration": 518,
    "start_time": "2022-12-29T19:29:33.520Z"
   },
   {
    "duration": 14,
    "start_time": "2022-12-29T19:29:34.040Z"
   },
   {
    "duration": 34,
    "start_time": "2022-12-29T19:29:34.055Z"
   },
   {
    "duration": 39,
    "start_time": "2022-12-29T19:29:34.096Z"
   },
   {
    "duration": 319,
    "start_time": "2022-12-29T19:29:34.136Z"
   },
   {
    "duration": 177,
    "start_time": "2022-12-29T19:29:34.457Z"
   },
   {
    "duration": 13,
    "start_time": "2022-12-29T19:29:34.636Z"
   },
   {
    "duration": 41,
    "start_time": "2022-12-29T19:29:34.651Z"
   },
   {
    "duration": 36,
    "start_time": "2022-12-29T19:29:34.694Z"
   },
   {
    "duration": 324,
    "start_time": "2022-12-29T19:29:34.732Z"
   },
   {
    "duration": 200,
    "start_time": "2022-12-29T19:29:35.057Z"
   },
   {
    "duration": 14,
    "start_time": "2022-12-29T19:29:35.258Z"
   },
   {
    "duration": 61,
    "start_time": "2022-12-29T19:29:35.275Z"
   },
   {
    "duration": 42,
    "start_time": "2022-12-29T19:29:35.338Z"
   },
   {
    "duration": 316,
    "start_time": "2022-12-29T19:29:35.382Z"
   },
   {
    "duration": 4,
    "start_time": "2022-12-29T19:29:35.700Z"
   },
   {
    "duration": 495,
    "start_time": "2022-12-29T19:29:35.706Z"
   },
   {
    "duration": 94,
    "start_time": "2022-12-29T19:29:36.203Z"
   },
   {
    "duration": 99,
    "start_time": "2022-12-29T19:29:36.299Z"
   },
   {
    "duration": 7,
    "start_time": "2022-12-29T19:29:36.399Z"
   },
   {
    "duration": 6,
    "start_time": "2022-12-29T19:29:36.408Z"
   },
   {
    "duration": 96,
    "start_time": "2022-12-29T19:29:36.415Z"
   },
   {
    "duration": 4,
    "start_time": "2022-12-29T19:29:36.513Z"
   },
   {
    "duration": 121,
    "start_time": "2022-12-29T19:29:36.519Z"
   },
   {
    "duration": 6,
    "start_time": "2022-12-29T19:32:02.880Z"
   },
   {
    "duration": 8,
    "start_time": "2022-12-29T19:32:20.073Z"
   },
   {
    "duration": 8,
    "start_time": "2022-12-29T19:32:28.796Z"
   },
   {
    "duration": 3,
    "start_time": "2022-12-29T19:36:31.709Z"
   },
   {
    "duration": 1414,
    "start_time": "2022-12-29T21:15:44.255Z"
   },
   {
    "duration": 527,
    "start_time": "2022-12-29T21:15:45.671Z"
   },
   {
    "duration": 14,
    "start_time": "2022-12-29T21:15:46.199Z"
   },
   {
    "duration": 37,
    "start_time": "2022-12-29T21:15:46.214Z"
   },
   {
    "duration": 62,
    "start_time": "2022-12-29T21:15:46.253Z"
   },
   {
    "duration": 323,
    "start_time": "2022-12-29T21:15:46.317Z"
   },
   {
    "duration": 188,
    "start_time": "2022-12-29T21:15:46.642Z"
   },
   {
    "duration": 14,
    "start_time": "2022-12-29T21:15:46.831Z"
   },
   {
    "duration": 33,
    "start_time": "2022-12-29T21:15:46.847Z"
   },
   {
    "duration": 48,
    "start_time": "2022-12-29T21:15:46.882Z"
   },
   {
    "duration": 333,
    "start_time": "2022-12-29T21:15:46.932Z"
   },
   {
    "duration": 197,
    "start_time": "2022-12-29T21:15:47.266Z"
   },
   {
    "duration": 12,
    "start_time": "2022-12-29T21:15:47.465Z"
   },
   {
    "duration": 49,
    "start_time": "2022-12-29T21:15:47.480Z"
   },
   {
    "duration": 45,
    "start_time": "2022-12-29T21:15:47.531Z"
   },
   {
    "duration": 324,
    "start_time": "2022-12-29T21:15:47.577Z"
   },
   {
    "duration": 4,
    "start_time": "2022-12-29T21:15:47.903Z"
   },
   {
    "duration": 393,
    "start_time": "2022-12-29T21:15:47.909Z"
   },
   {
    "duration": 93,
    "start_time": "2022-12-29T21:15:48.304Z"
   },
   {
    "duration": 95,
    "start_time": "2022-12-29T21:15:48.402Z"
   },
   {
    "duration": 10,
    "start_time": "2022-12-29T21:15:48.498Z"
   },
   {
    "duration": 5,
    "start_time": "2022-12-29T21:15:48.509Z"
   },
   {
    "duration": 98,
    "start_time": "2022-12-29T21:15:48.516Z"
   },
   {
    "duration": 5,
    "start_time": "2022-12-29T21:15:48.615Z"
   },
   {
    "duration": 121,
    "start_time": "2022-12-29T21:15:48.622Z"
   },
   {
    "duration": 0,
    "start_time": "2022-12-29T21:15:48.745Z"
   },
   {
    "duration": 0,
    "start_time": "2022-12-29T21:15:48.747Z"
   },
   {
    "duration": 9,
    "start_time": "2022-12-29T21:15:58.660Z"
   },
   {
    "duration": 9,
    "start_time": "2022-12-29T21:15:59.927Z"
   },
   {
    "duration": 958,
    "start_time": "2022-12-29T21:17:23.738Z"
   },
   {
    "duration": 7,
    "start_time": "2022-12-29T21:17:42.804Z"
   },
   {
    "duration": 5,
    "start_time": "2022-12-29T21:19:07.483Z"
   },
   {
    "duration": 13,
    "start_time": "2022-12-29T21:19:37.214Z"
   },
   {
    "duration": 6,
    "start_time": "2022-12-29T21:19:54.741Z"
   },
   {
    "duration": 22,
    "start_time": "2022-12-29T21:20:14.277Z"
   },
   {
    "duration": 9,
    "start_time": "2022-12-29T21:20:42.514Z"
   },
   {
    "duration": 13,
    "start_time": "2022-12-29T21:21:51.109Z"
   },
   {
    "duration": 12,
    "start_time": "2022-12-29T21:22:03.814Z"
   },
   {
    "duration": 6,
    "start_time": "2022-12-29T21:22:08.310Z"
   },
   {
    "duration": 7,
    "start_time": "2022-12-29T21:22:26.493Z"
   },
   {
    "duration": 549,
    "start_time": "2022-12-29T21:22:58.144Z"
   },
   {
    "duration": 6,
    "start_time": "2022-12-29T21:23:06.776Z"
   },
   {
    "duration": 11,
    "start_time": "2022-12-29T21:23:11.152Z"
   },
   {
    "duration": 7,
    "start_time": "2022-12-29T21:23:13.757Z"
   },
   {
    "duration": 26,
    "start_time": "2022-12-29T21:23:31.433Z"
   },
   {
    "duration": 22,
    "start_time": "2022-12-29T21:23:44.051Z"
   },
   {
    "duration": 16,
    "start_time": "2022-12-29T21:26:16.366Z"
   },
   {
    "duration": 15,
    "start_time": "2022-12-29T21:26:42.572Z"
   },
   {
    "duration": 11,
    "start_time": "2022-12-29T21:27:35.423Z"
   },
   {
    "duration": 9,
    "start_time": "2022-12-29T21:28:43.429Z"
   },
   {
    "duration": 10,
    "start_time": "2022-12-29T21:28:53.425Z"
   },
   {
    "duration": 1260,
    "start_time": "2022-12-29T21:29:22.750Z"
   },
   {
    "duration": 138,
    "start_time": "2022-12-29T21:29:24.012Z"
   },
   {
    "duration": 12,
    "start_time": "2022-12-29T21:29:24.152Z"
   },
   {
    "duration": 44,
    "start_time": "2022-12-29T21:29:24.166Z"
   },
   {
    "duration": 41,
    "start_time": "2022-12-29T21:29:24.212Z"
   },
   {
    "duration": 339,
    "start_time": "2022-12-29T21:29:24.254Z"
   },
   {
    "duration": 115,
    "start_time": "2022-12-29T21:29:24.597Z"
   },
   {
    "duration": 13,
    "start_time": "2022-12-29T21:29:24.713Z"
   },
   {
    "duration": 32,
    "start_time": "2022-12-29T21:29:24.728Z"
   },
   {
    "duration": 55,
    "start_time": "2022-12-29T21:29:24.761Z"
   },
   {
    "duration": 332,
    "start_time": "2022-12-29T21:29:24.818Z"
   },
   {
    "duration": 136,
    "start_time": "2022-12-29T21:29:25.152Z"
   },
   {
    "duration": 13,
    "start_time": "2022-12-29T21:29:25.290Z"
   },
   {
    "duration": 33,
    "start_time": "2022-12-29T21:29:25.306Z"
   },
   {
    "duration": 58,
    "start_time": "2022-12-29T21:29:25.341Z"
   },
   {
    "duration": 321,
    "start_time": "2022-12-29T21:29:25.401Z"
   },
   {
    "duration": 4,
    "start_time": "2022-12-29T21:29:25.724Z"
   },
   {
    "duration": 372,
    "start_time": "2022-12-29T21:29:25.730Z"
   },
   {
    "duration": 93,
    "start_time": "2022-12-29T21:29:26.106Z"
   },
   {
    "duration": 14,
    "start_time": "2022-12-29T21:29:26.201Z"
   },
   {
    "duration": 13,
    "start_time": "2022-12-29T21:29:26.218Z"
   },
   {
    "duration": 66,
    "start_time": "2022-12-29T21:29:26.232Z"
   },
   {
    "duration": 109,
    "start_time": "2022-12-29T21:29:26.300Z"
   },
   {
    "duration": 5,
    "start_time": "2022-12-29T21:29:26.410Z"
   },
   {
    "duration": 122,
    "start_time": "2022-12-29T21:29:26.416Z"
   },
   {
    "duration": 0,
    "start_time": "2022-12-29T21:29:26.540Z"
   },
   {
    "duration": 8,
    "start_time": "2022-12-29T21:29:45.688Z"
   },
   {
    "duration": 14,
    "start_time": "2022-12-29T21:30:54.312Z"
   },
   {
    "duration": 9,
    "start_time": "2022-12-29T21:32:03.351Z"
   },
   {
    "duration": 23,
    "start_time": "2022-12-29T21:33:52.466Z"
   },
   {
    "duration": 5,
    "start_time": "2022-12-29T21:36:21.200Z"
   },
   {
    "duration": 25,
    "start_time": "2022-12-29T21:36:24.401Z"
   },
   {
    "duration": 6,
    "start_time": "2022-12-29T21:36:29.753Z"
   },
   {
    "duration": 23,
    "start_time": "2022-12-29T21:36:32.473Z"
   },
   {
    "duration": 11,
    "start_time": "2022-12-29T21:37:11.561Z"
   },
   {
    "duration": 10,
    "start_time": "2022-12-29T21:37:18.024Z"
   },
   {
    "duration": 50,
    "start_time": "2022-12-30T05:12:47.163Z"
   },
   {
    "duration": 1472,
    "start_time": "2022-12-30T05:12:56.620Z"
   },
   {
    "duration": 482,
    "start_time": "2022-12-30T05:12:58.094Z"
   },
   {
    "duration": 15,
    "start_time": "2022-12-30T05:12:58.578Z"
   },
   {
    "duration": 43,
    "start_time": "2022-12-30T05:12:58.595Z"
   },
   {
    "duration": 42,
    "start_time": "2022-12-30T05:12:58.640Z"
   },
   {
    "duration": 359,
    "start_time": "2022-12-30T05:12:58.684Z"
   },
   {
    "duration": 541,
    "start_time": "2022-12-30T05:12:59.045Z"
   },
   {
    "duration": 15,
    "start_time": "2022-12-30T05:12:59.588Z"
   },
   {
    "duration": 44,
    "start_time": "2022-12-30T05:12:59.605Z"
   },
   {
    "duration": 43,
    "start_time": "2022-12-30T05:12:59.652Z"
   },
   {
    "duration": 372,
    "start_time": "2022-12-30T05:12:59.696Z"
   },
   {
    "duration": 523,
    "start_time": "2022-12-30T05:13:00.070Z"
   },
   {
    "duration": 14,
    "start_time": "2022-12-30T05:13:00.595Z"
   },
   {
    "duration": 52,
    "start_time": "2022-12-30T05:13:00.611Z"
   },
   {
    "duration": 50,
    "start_time": "2022-12-30T05:13:00.664Z"
   },
   {
    "duration": 349,
    "start_time": "2022-12-30T05:13:00.716Z"
   },
   {
    "duration": 4,
    "start_time": "2022-12-30T05:13:01.067Z"
   },
   {
    "duration": 454,
    "start_time": "2022-12-30T05:13:01.073Z"
   },
   {
    "duration": 94,
    "start_time": "2022-12-30T05:13:01.529Z"
   },
   {
    "duration": 113,
    "start_time": "2022-12-30T05:13:01.625Z"
   },
   {
    "duration": 12,
    "start_time": "2022-12-30T05:13:01.740Z"
   },
   {
    "duration": 8,
    "start_time": "2022-12-30T05:13:01.753Z"
   },
   {
    "duration": 107,
    "start_time": "2022-12-30T05:13:01.763Z"
   },
   {
    "duration": 6,
    "start_time": "2022-12-30T05:13:01.872Z"
   },
   {
    "duration": 113,
    "start_time": "2022-12-30T05:13:01.879Z"
   },
   {
    "duration": 0,
    "start_time": "2022-12-30T05:13:01.993Z"
   },
   {
    "duration": 24,
    "start_time": "2022-12-30T05:13:21.469Z"
   },
   {
    "duration": 23,
    "start_time": "2022-12-30T05:13:51.713Z"
   },
   {
    "duration": 22,
    "start_time": "2022-12-30T05:15:05.564Z"
   },
   {
    "duration": 39,
    "start_time": "2022-12-30T05:17:03.019Z"
   },
   {
    "duration": 20,
    "start_time": "2022-12-30T05:17:18.425Z"
   },
   {
    "duration": 19,
    "start_time": "2022-12-30T05:17:36.221Z"
   },
   {
    "duration": 8,
    "start_time": "2022-12-30T05:17:58.954Z"
   },
   {
    "duration": 7,
    "start_time": "2022-12-30T05:18:20.460Z"
   },
   {
    "duration": 5,
    "start_time": "2022-12-30T05:18:39.800Z"
   },
   {
    "duration": 6,
    "start_time": "2022-12-30T05:18:56.507Z"
   },
   {
    "duration": 6,
    "start_time": "2022-12-30T05:19:00.352Z"
   },
   {
    "duration": 6,
    "start_time": "2022-12-30T05:19:07.961Z"
   },
   {
    "duration": 1112,
    "start_time": "2022-12-30T05:19:27.002Z"
   },
   {
    "duration": 945,
    "start_time": "2022-12-30T05:19:31.102Z"
   },
   {
    "duration": 9,
    "start_time": "2022-12-30T05:19:42.272Z"
   },
   {
    "duration": 7,
    "start_time": "2022-12-30T05:19:47.296Z"
   },
   {
    "duration": 6,
    "start_time": "2022-12-30T05:20:03.650Z"
   },
   {
    "duration": 18,
    "start_time": "2022-12-30T05:20:19.064Z"
   },
   {
    "duration": 10,
    "start_time": "2022-12-30T05:20:37.584Z"
   },
   {
    "duration": 11,
    "start_time": "2022-12-30T05:20:59.670Z"
   },
   {
    "duration": 7,
    "start_time": "2022-12-30T05:21:04.481Z"
   },
   {
    "duration": 9,
    "start_time": "2022-12-30T05:21:09.675Z"
   },
   {
    "duration": 8,
    "start_time": "2022-12-30T05:21:30.672Z"
   },
   {
    "duration": 21,
    "start_time": "2022-12-30T05:21:44.216Z"
   },
   {
    "duration": 33,
    "start_time": "2022-12-30T05:24:12.728Z"
   },
   {
    "duration": 11,
    "start_time": "2022-12-30T05:24:27.870Z"
   },
   {
    "duration": 9,
    "start_time": "2022-12-30T05:24:32.936Z"
   },
   {
    "duration": 44,
    "start_time": "2022-12-30T22:19:41.677Z"
   },
   {
    "duration": 1425,
    "start_time": "2022-12-30T22:19:46.799Z"
   },
   {
    "duration": 509,
    "start_time": "2022-12-30T22:19:48.226Z"
   },
   {
    "duration": 14,
    "start_time": "2022-12-30T22:19:48.736Z"
   },
   {
    "duration": 34,
    "start_time": "2022-12-30T22:19:48.751Z"
   },
   {
    "duration": 42,
    "start_time": "2022-12-30T22:19:48.787Z"
   },
   {
    "duration": 332,
    "start_time": "2022-12-30T22:19:48.831Z"
   },
   {
    "duration": 578,
    "start_time": "2022-12-30T22:19:49.164Z"
   },
   {
    "duration": 14,
    "start_time": "2022-12-30T22:19:49.744Z"
   },
   {
    "duration": 32,
    "start_time": "2022-12-30T22:19:49.759Z"
   },
   {
    "duration": 43,
    "start_time": "2022-12-30T22:19:49.793Z"
   },
   {
    "duration": 341,
    "start_time": "2022-12-30T22:19:49.837Z"
   },
   {
    "duration": 554,
    "start_time": "2022-12-30T22:19:50.180Z"
   },
   {
    "duration": 12,
    "start_time": "2022-12-30T22:19:50.736Z"
   },
   {
    "duration": 34,
    "start_time": "2022-12-30T22:19:50.750Z"
   },
   {
    "duration": 43,
    "start_time": "2022-12-30T22:19:50.786Z"
   },
   {
    "duration": 327,
    "start_time": "2022-12-30T22:19:50.831Z"
   },
   {
    "duration": 4,
    "start_time": "2022-12-30T22:19:51.160Z"
   },
   {
    "duration": 423,
    "start_time": "2022-12-30T22:19:51.165Z"
   },
   {
    "duration": 88,
    "start_time": "2022-12-30T22:19:51.590Z"
   },
   {
    "duration": 99,
    "start_time": "2022-12-30T22:19:51.680Z"
   },
   {
    "duration": 22,
    "start_time": "2022-12-30T22:19:51.781Z"
   },
   {
    "duration": 36,
    "start_time": "2022-12-30T22:19:51.805Z"
   },
   {
    "duration": 105,
    "start_time": "2022-12-30T22:19:51.843Z"
   },
   {
    "duration": 6,
    "start_time": "2022-12-30T22:19:51.950Z"
   },
   {
    "duration": 155,
    "start_time": "2022-12-30T22:19:51.958Z"
   },
   {
    "duration": 0,
    "start_time": "2022-12-30T22:19:52.115Z"
   },
   {
    "duration": 0,
    "start_time": "2022-12-30T22:19:52.116Z"
   },
   {
    "duration": 9,
    "start_time": "2022-12-30T22:20:04.219Z"
   },
   {
    "duration": 7,
    "start_time": "2022-12-30T22:20:10.615Z"
   },
   {
    "duration": 6,
    "start_time": "2022-12-30T22:21:04.219Z"
   },
   {
    "duration": 7,
    "start_time": "2022-12-30T22:21:12.578Z"
   },
   {
    "duration": 9,
    "start_time": "2022-12-30T22:21:56.167Z"
   },
   {
    "duration": 11,
    "start_time": "2022-12-30T22:22:10.718Z"
   },
   {
    "duration": 5,
    "start_time": "2022-12-30T22:23:04.678Z"
   },
   {
    "duration": 24,
    "start_time": "2022-12-30T22:23:09.219Z"
   },
   {
    "duration": 6,
    "start_time": "2022-12-30T22:23:33.698Z"
   },
   {
    "duration": 17,
    "start_time": "2022-12-30T22:23:38.630Z"
   },
   {
    "duration": 16,
    "start_time": "2022-12-30T22:23:53.458Z"
   },
   {
    "duration": 13,
    "start_time": "2022-12-30T22:24:52.418Z"
   },
   {
    "duration": 7,
    "start_time": "2022-12-30T22:25:00.146Z"
   },
   {
    "duration": 5,
    "start_time": "2022-12-30T22:32:17.498Z"
   },
   {
    "duration": 15,
    "start_time": "2022-12-30T22:32:19.078Z"
   },
   {
    "duration": 7,
    "start_time": "2022-12-30T22:32:33.878Z"
   },
   {
    "duration": 27,
    "start_time": "2022-12-30T22:32:36.922Z"
   },
   {
    "duration": 7,
    "start_time": "2022-12-30T22:33:33.326Z"
   },
   {
    "duration": 24,
    "start_time": "2022-12-30T22:33:36.306Z"
   },
   {
    "duration": 5,
    "start_time": "2022-12-30T22:34:11.481Z"
   },
   {
    "duration": 24,
    "start_time": "2022-12-30T22:34:12.424Z"
   },
   {
    "duration": 6,
    "start_time": "2022-12-30T22:34:20.581Z"
   },
   {
    "duration": 24,
    "start_time": "2022-12-30T22:34:22.554Z"
   },
   {
    "duration": 6,
    "start_time": "2022-12-30T22:34:31.177Z"
   },
   {
    "duration": 25,
    "start_time": "2022-12-30T22:34:32.660Z"
   },
   {
    "duration": 5,
    "start_time": "2022-12-30T22:34:37.589Z"
   },
   {
    "duration": 24,
    "start_time": "2022-12-30T22:34:38.560Z"
   },
   {
    "duration": 6,
    "start_time": "2022-12-30T22:34:44.508Z"
   },
   {
    "duration": 25,
    "start_time": "2022-12-30T22:34:47.440Z"
   },
   {
    "duration": 5,
    "start_time": "2022-12-30T22:40:03.199Z"
   },
   {
    "duration": 6,
    "start_time": "2022-12-30T22:40:05.991Z"
   },
   {
    "duration": 28,
    "start_time": "2022-12-30T22:40:09.150Z"
   },
   {
    "duration": 4,
    "start_time": "2022-12-30T22:41:20.998Z"
   },
   {
    "duration": 78,
    "start_time": "2022-12-30T22:41:21.742Z"
   },
   {
    "duration": 6,
    "start_time": "2022-12-30T22:41:22.541Z"
   },
   {
    "duration": 26,
    "start_time": "2022-12-30T22:41:25.118Z"
   },
   {
    "duration": 6,
    "start_time": "2022-12-30T22:44:14.991Z"
   },
   {
    "duration": 4,
    "start_time": "2022-12-30T22:44:23.302Z"
   },
   {
    "duration": 25,
    "start_time": "2022-12-30T22:44:26.410Z"
   },
   {
    "duration": 6,
    "start_time": "2022-12-30T22:45:47.191Z"
   },
   {
    "duration": 24,
    "start_time": "2022-12-30T22:45:48.508Z"
   },
   {
    "duration": 4,
    "start_time": "2022-12-30T22:48:06.614Z"
   },
   {
    "duration": 6,
    "start_time": "2022-12-30T22:48:09.047Z"
   },
   {
    "duration": 24,
    "start_time": "2022-12-30T22:48:11.890Z"
   },
   {
    "duration": 23,
    "start_time": "2022-12-30T22:48:52.327Z"
   },
   {
    "duration": 1422,
    "start_time": "2022-12-31T05:55:10.143Z"
   },
   {
    "duration": 371,
    "start_time": "2022-12-31T05:55:11.567Z"
   },
   {
    "duration": 13,
    "start_time": "2022-12-31T05:55:11.940Z"
   },
   {
    "duration": 35,
    "start_time": "2022-12-31T05:55:11.955Z"
   },
   {
    "duration": 57,
    "start_time": "2022-12-31T05:55:11.992Z"
   },
   {
    "duration": 313,
    "start_time": "2022-12-31T05:55:12.050Z"
   },
   {
    "duration": 196,
    "start_time": "2022-12-31T05:55:12.364Z"
   },
   {
    "duration": 17,
    "start_time": "2022-12-31T05:55:12.561Z"
   },
   {
    "duration": 47,
    "start_time": "2022-12-31T05:55:12.579Z"
   },
   {
    "duration": 42,
    "start_time": "2022-12-31T05:55:12.629Z"
   },
   {
    "duration": 336,
    "start_time": "2022-12-31T05:55:12.672Z"
   },
   {
    "duration": 205,
    "start_time": "2022-12-31T05:55:13.009Z"
   },
   {
    "duration": 13,
    "start_time": "2022-12-31T05:55:13.215Z"
   },
   {
    "duration": 33,
    "start_time": "2022-12-31T05:55:13.229Z"
   },
   {
    "duration": 42,
    "start_time": "2022-12-31T05:55:13.264Z"
   },
   {
    "duration": 313,
    "start_time": "2022-12-31T05:55:13.308Z"
   },
   {
    "duration": 4,
    "start_time": "2022-12-31T05:55:13.622Z"
   },
   {
    "duration": 504,
    "start_time": "2022-12-31T05:55:13.627Z"
   },
   {
    "duration": 92,
    "start_time": "2022-12-31T05:55:14.133Z"
   },
   {
    "duration": 104,
    "start_time": "2022-12-31T05:55:14.227Z"
   },
   {
    "duration": 6,
    "start_time": "2022-12-31T05:55:14.332Z"
   },
   {
    "duration": 78,
    "start_time": "2022-12-31T05:55:14.339Z"
   },
   {
    "duration": 34,
    "start_time": "2022-12-31T05:55:14.421Z"
   },
   {
    "duration": 6,
    "start_time": "2022-12-31T05:55:14.457Z"
   },
   {
    "duration": 13,
    "start_time": "2022-12-31T05:55:14.464Z"
   },
   {
    "duration": 139,
    "start_time": "2022-12-31T05:55:14.479Z"
   },
   {
    "duration": 52,
    "start_time": "2022-12-31T05:59:48.763Z"
   },
   {
    "duration": 3,
    "start_time": "2022-12-31T06:00:17.396Z"
   },
   {
    "duration": 5,
    "start_time": "2022-12-31T06:00:41.111Z"
   },
   {
    "duration": 1201,
    "start_time": "2022-12-31T06:00:53.067Z"
   },
   {
    "duration": 140,
    "start_time": "2022-12-31T06:00:54.270Z"
   },
   {
    "duration": 18,
    "start_time": "2022-12-31T06:00:54.412Z"
   },
   {
    "duration": 36,
    "start_time": "2022-12-31T06:00:54.432Z"
   },
   {
    "duration": 62,
    "start_time": "2022-12-31T06:00:54.470Z"
   },
   {
    "duration": 339,
    "start_time": "2022-12-31T06:00:54.534Z"
   },
   {
    "duration": 121,
    "start_time": "2022-12-31T06:00:54.875Z"
   },
   {
    "duration": 23,
    "start_time": "2022-12-31T06:00:54.998Z"
   },
   {
    "duration": 34,
    "start_time": "2022-12-31T06:00:55.022Z"
   },
   {
    "duration": 41,
    "start_time": "2022-12-31T06:00:55.059Z"
   },
   {
    "duration": 373,
    "start_time": "2022-12-31T06:00:55.102Z"
   },
   {
    "duration": 144,
    "start_time": "2022-12-31T06:00:55.477Z"
   },
   {
    "duration": 14,
    "start_time": "2022-12-31T06:00:55.623Z"
   },
   {
    "duration": 35,
    "start_time": "2022-12-31T06:00:55.639Z"
   },
   {
    "duration": 66,
    "start_time": "2022-12-31T06:00:55.675Z"
   },
   {
    "duration": 302,
    "start_time": "2022-12-31T06:00:55.743Z"
   },
   {
    "duration": 4,
    "start_time": "2022-12-31T06:00:56.047Z"
   },
   {
    "duration": 375,
    "start_time": "2022-12-31T06:00:56.053Z"
   },
   {
    "duration": 92,
    "start_time": "2022-12-31T06:00:56.431Z"
   },
   {
    "duration": 108,
    "start_time": "2022-12-31T06:00:56.525Z"
   },
   {
    "duration": 9,
    "start_time": "2022-12-31T06:00:56.634Z"
   },
   {
    "duration": 74,
    "start_time": "2022-12-31T06:00:56.644Z"
   },
   {
    "duration": 30,
    "start_time": "2022-12-31T06:00:56.720Z"
   },
   {
    "duration": 6,
    "start_time": "2022-12-31T06:00:56.752Z"
   },
   {
    "duration": 22,
    "start_time": "2022-12-31T06:00:56.760Z"
   },
   {
    "duration": 119,
    "start_time": "2022-12-31T06:00:56.784Z"
   },
   {
    "duration": 4,
    "start_time": "2022-12-31T06:05:25.580Z"
   },
   {
    "duration": 1230,
    "start_time": "2022-12-31T06:05:36.431Z"
   },
   {
    "duration": 137,
    "start_time": "2022-12-31T06:05:37.663Z"
   },
   {
    "duration": 15,
    "start_time": "2022-12-31T06:05:37.802Z"
   },
   {
    "duration": 35,
    "start_time": "2022-12-31T06:05:37.820Z"
   },
   {
    "duration": 40,
    "start_time": "2022-12-31T06:05:37.856Z"
   },
   {
    "duration": 324,
    "start_time": "2022-12-31T06:05:37.897Z"
   },
   {
    "duration": 120,
    "start_time": "2022-12-31T06:05:38.222Z"
   },
   {
    "duration": 13,
    "start_time": "2022-12-31T06:05:38.343Z"
   },
   {
    "duration": 38,
    "start_time": "2022-12-31T06:05:38.358Z"
   },
   {
    "duration": 49,
    "start_time": "2022-12-31T06:05:38.398Z"
   },
   {
    "duration": 312,
    "start_time": "2022-12-31T06:05:38.449Z"
   },
   {
    "duration": 131,
    "start_time": "2022-12-31T06:05:38.763Z"
   },
   {
    "duration": 13,
    "start_time": "2022-12-31T06:05:38.895Z"
   },
   {
    "duration": 42,
    "start_time": "2022-12-31T06:05:38.910Z"
   },
   {
    "duration": 40,
    "start_time": "2022-12-31T06:05:38.953Z"
   },
   {
    "duration": 320,
    "start_time": "2022-12-31T06:05:38.995Z"
   },
   {
    "duration": 6,
    "start_time": "2022-12-31T06:05:39.316Z"
   },
   {
    "duration": 408,
    "start_time": "2022-12-31T06:05:39.323Z"
   },
   {
    "duration": 92,
    "start_time": "2022-12-31T06:05:39.733Z"
   },
   {
    "duration": 101,
    "start_time": "2022-12-31T06:05:39.827Z"
   },
   {
    "duration": 7,
    "start_time": "2022-12-31T06:05:39.930Z"
   },
   {
    "duration": 88,
    "start_time": "2022-12-31T06:05:39.938Z"
   },
   {
    "duration": 136,
    "start_time": "2022-12-31T06:05:40.028Z"
   },
   {
    "duration": 0,
    "start_time": "2022-12-31T06:05:40.166Z"
   },
   {
    "duration": 0,
    "start_time": "2022-12-31T06:05:40.167Z"
   },
   {
    "duration": 0,
    "start_time": "2022-12-31T06:05:40.167Z"
   },
   {
    "duration": 4,
    "start_time": "2022-12-31T06:06:47.182Z"
   },
   {
    "duration": 1252,
    "start_time": "2022-12-31T06:07:53.122Z"
   },
   {
    "duration": 138,
    "start_time": "2022-12-31T06:07:54.376Z"
   },
   {
    "duration": 16,
    "start_time": "2022-12-31T06:07:54.515Z"
   },
   {
    "duration": 35,
    "start_time": "2022-12-31T06:07:54.533Z"
   },
   {
    "duration": 59,
    "start_time": "2022-12-31T06:07:54.569Z"
   },
   {
    "duration": 311,
    "start_time": "2022-12-31T06:07:54.630Z"
   },
   {
    "duration": 122,
    "start_time": "2022-12-31T06:07:54.943Z"
   },
   {
    "duration": 16,
    "start_time": "2022-12-31T06:07:55.067Z"
   },
   {
    "duration": 51,
    "start_time": "2022-12-31T06:07:55.085Z"
   },
   {
    "duration": 48,
    "start_time": "2022-12-31T06:07:55.138Z"
   },
   {
    "duration": 348,
    "start_time": "2022-12-31T06:07:55.188Z"
   },
   {
    "duration": 131,
    "start_time": "2022-12-31T06:07:55.538Z"
   },
   {
    "duration": 15,
    "start_time": "2022-12-31T06:07:55.671Z"
   },
   {
    "duration": 48,
    "start_time": "2022-12-31T06:07:55.688Z"
   },
   {
    "duration": 42,
    "start_time": "2022-12-31T06:07:55.738Z"
   },
   {
    "duration": 312,
    "start_time": "2022-12-31T06:07:55.782Z"
   },
   {
    "duration": 4,
    "start_time": "2022-12-31T06:07:56.096Z"
   },
   {
    "duration": 429,
    "start_time": "2022-12-31T06:07:56.102Z"
   },
   {
    "duration": 89,
    "start_time": "2022-12-31T06:07:56.533Z"
   },
   {
    "duration": 107,
    "start_time": "2022-12-31T06:07:56.624Z"
   },
   {
    "duration": 8,
    "start_time": "2022-12-31T06:07:56.732Z"
   },
   {
    "duration": 75,
    "start_time": "2022-12-31T06:07:56.741Z"
   },
   {
    "duration": 27,
    "start_time": "2022-12-31T06:07:56.818Z"
   },
   {
    "duration": 6,
    "start_time": "2022-12-31T06:07:56.846Z"
   },
   {
    "duration": 15,
    "start_time": "2022-12-31T06:07:56.853Z"
   },
   {
    "duration": 119,
    "start_time": "2022-12-31T06:07:56.870Z"
   },
   {
    "duration": 4,
    "start_time": "2022-12-31T06:08:32.073Z"
   },
   {
    "duration": 5,
    "start_time": "2022-12-31T06:19:24.574Z"
   },
   {
    "duration": 1241,
    "start_time": "2022-12-31T06:20:24.665Z"
   },
   {
    "duration": 141,
    "start_time": "2022-12-31T06:20:25.908Z"
   },
   {
    "duration": 14,
    "start_time": "2022-12-31T06:20:26.050Z"
   },
   {
    "duration": 35,
    "start_time": "2022-12-31T06:20:26.066Z"
   },
   {
    "duration": 59,
    "start_time": "2022-12-31T06:20:26.103Z"
   },
   {
    "duration": 315,
    "start_time": "2022-12-31T06:20:26.164Z"
   },
   {
    "duration": 121,
    "start_time": "2022-12-31T06:20:26.481Z"
   },
   {
    "duration": 17,
    "start_time": "2022-12-31T06:20:26.604Z"
   },
   {
    "duration": 33,
    "start_time": "2022-12-31T06:20:26.623Z"
   },
   {
    "duration": 38,
    "start_time": "2022-12-31T06:20:26.659Z"
   },
   {
    "duration": 332,
    "start_time": "2022-12-31T06:20:26.699Z"
   },
   {
    "duration": 133,
    "start_time": "2022-12-31T06:20:27.033Z"
   },
   {
    "duration": 13,
    "start_time": "2022-12-31T06:20:27.168Z"
   },
   {
    "duration": 43,
    "start_time": "2022-12-31T06:20:27.183Z"
   },
   {
    "duration": 41,
    "start_time": "2022-12-31T06:20:27.228Z"
   },
   {
    "duration": 316,
    "start_time": "2022-12-31T06:20:27.271Z"
   },
   {
    "duration": 4,
    "start_time": "2022-12-31T06:20:27.588Z"
   },
   {
    "duration": 442,
    "start_time": "2022-12-31T06:20:27.594Z"
   },
   {
    "duration": 89,
    "start_time": "2022-12-31T06:20:28.039Z"
   },
   {
    "duration": 94,
    "start_time": "2022-12-31T06:20:28.131Z"
   },
   {
    "duration": 8,
    "start_time": "2022-12-31T06:20:28.227Z"
   },
   {
    "duration": 7,
    "start_time": "2022-12-31T06:20:28.236Z"
   },
   {
    "duration": 204,
    "start_time": "2022-12-31T06:20:28.244Z"
   },
   {
    "duration": 0,
    "start_time": "2022-12-31T06:20:28.449Z"
   },
   {
    "duration": 0,
    "start_time": "2022-12-31T06:20:28.450Z"
   },
   {
    "duration": 0,
    "start_time": "2022-12-31T06:20:28.451Z"
   },
   {
    "duration": 1234,
    "start_time": "2022-12-31T06:21:19.152Z"
   },
   {
    "duration": 144,
    "start_time": "2022-12-31T06:21:20.388Z"
   },
   {
    "duration": 15,
    "start_time": "2022-12-31T06:21:20.533Z"
   },
   {
    "duration": 48,
    "start_time": "2022-12-31T06:21:20.550Z"
   },
   {
    "duration": 53,
    "start_time": "2022-12-31T06:21:20.600Z"
   },
   {
    "duration": 306,
    "start_time": "2022-12-31T06:21:20.655Z"
   },
   {
    "duration": 117,
    "start_time": "2022-12-31T06:21:20.963Z"
   },
   {
    "duration": 13,
    "start_time": "2022-12-31T06:21:21.082Z"
   },
   {
    "duration": 46,
    "start_time": "2022-12-31T06:21:21.096Z"
   },
   {
    "duration": 39,
    "start_time": "2022-12-31T06:21:21.144Z"
   },
   {
    "duration": 327,
    "start_time": "2022-12-31T06:21:21.184Z"
   },
   {
    "duration": 129,
    "start_time": "2022-12-31T06:21:21.513Z"
   },
   {
    "duration": 13,
    "start_time": "2022-12-31T06:21:21.643Z"
   },
   {
    "duration": 33,
    "start_time": "2022-12-31T06:21:21.658Z"
   },
   {
    "duration": 56,
    "start_time": "2022-12-31T06:21:21.692Z"
   },
   {
    "duration": 306,
    "start_time": "2022-12-31T06:21:21.750Z"
   },
   {
    "duration": 4,
    "start_time": "2022-12-31T06:21:22.057Z"
   },
   {
    "duration": 359,
    "start_time": "2022-12-31T06:21:22.062Z"
   },
   {
    "duration": 6,
    "start_time": "2022-12-31T06:21:22.424Z"
   },
   {
    "duration": 96,
    "start_time": "2022-12-31T06:21:22.432Z"
   },
   {
    "duration": 6,
    "start_time": "2022-12-31T06:21:22.530Z"
   },
   {
    "duration": 11,
    "start_time": "2022-12-31T06:21:22.537Z"
   },
   {
    "duration": 201,
    "start_time": "2022-12-31T06:21:22.550Z"
   },
   {
    "duration": 0,
    "start_time": "2022-12-31T06:21:22.753Z"
   },
   {
    "duration": 0,
    "start_time": "2022-12-31T06:21:22.754Z"
   },
   {
    "duration": 0,
    "start_time": "2022-12-31T06:21:22.755Z"
   },
   {
    "duration": 1344,
    "start_time": "2022-12-31T06:21:59.791Z"
   },
   {
    "duration": 155,
    "start_time": "2022-12-31T06:22:01.137Z"
   },
   {
    "duration": 14,
    "start_time": "2022-12-31T06:22:01.293Z"
   },
   {
    "duration": 63,
    "start_time": "2022-12-31T06:22:01.309Z"
   },
   {
    "duration": 57,
    "start_time": "2022-12-31T06:22:01.374Z"
   },
   {
    "duration": 338,
    "start_time": "2022-12-31T06:22:01.433Z"
   },
   {
    "duration": 127,
    "start_time": "2022-12-31T06:22:01.773Z"
   },
   {
    "duration": 20,
    "start_time": "2022-12-31T06:22:01.901Z"
   },
   {
    "duration": 68,
    "start_time": "2022-12-31T06:22:01.923Z"
   },
   {
    "duration": 44,
    "start_time": "2022-12-31T06:22:01.993Z"
   },
   {
    "duration": 320,
    "start_time": "2022-12-31T06:22:02.039Z"
   },
   {
    "duration": 134,
    "start_time": "2022-12-31T06:22:02.361Z"
   },
   {
    "duration": 12,
    "start_time": "2022-12-31T06:22:02.497Z"
   },
   {
    "duration": 40,
    "start_time": "2022-12-31T06:22:02.511Z"
   },
   {
    "duration": 50,
    "start_time": "2022-12-31T06:22:02.552Z"
   },
   {
    "duration": 341,
    "start_time": "2022-12-31T06:22:02.604Z"
   },
   {
    "duration": 5,
    "start_time": "2022-12-31T06:22:02.947Z"
   },
   {
    "duration": 383,
    "start_time": "2022-12-31T06:22:02.954Z"
   },
   {
    "duration": 6,
    "start_time": "2022-12-31T06:22:03.420Z"
   },
   {
    "duration": 112,
    "start_time": "2022-12-31T06:22:03.428Z"
   },
   {
    "duration": 7,
    "start_time": "2022-12-31T06:22:03.542Z"
   },
   {
    "duration": 17,
    "start_time": "2022-12-31T06:22:03.551Z"
   },
   {
    "duration": 238,
    "start_time": "2022-12-31T06:22:03.570Z"
   },
   {
    "duration": 0,
    "start_time": "2022-12-31T06:22:03.809Z"
   },
   {
    "duration": 0,
    "start_time": "2022-12-31T06:22:03.810Z"
   },
   {
    "duration": 0,
    "start_time": "2022-12-31T06:22:03.812Z"
   },
   {
    "duration": 1273,
    "start_time": "2022-12-31T06:23:44.226Z"
   },
   {
    "duration": 148,
    "start_time": "2022-12-31T06:23:45.500Z"
   },
   {
    "duration": 14,
    "start_time": "2022-12-31T06:23:45.650Z"
   },
   {
    "duration": 34,
    "start_time": "2022-12-31T06:23:45.667Z"
   },
   {
    "duration": 54,
    "start_time": "2022-12-31T06:23:45.703Z"
   },
   {
    "duration": 316,
    "start_time": "2022-12-31T06:23:45.758Z"
   },
   {
    "duration": 129,
    "start_time": "2022-12-31T06:23:46.075Z"
   },
   {
    "duration": 16,
    "start_time": "2022-12-31T06:23:46.205Z"
   },
   {
    "duration": 32,
    "start_time": "2022-12-31T06:23:46.222Z"
   },
   {
    "duration": 38,
    "start_time": "2022-12-31T06:23:46.256Z"
   },
   {
    "duration": 319,
    "start_time": "2022-12-31T06:23:46.295Z"
   },
   {
    "duration": 142,
    "start_time": "2022-12-31T06:23:46.620Z"
   },
   {
    "duration": 15,
    "start_time": "2022-12-31T06:23:46.764Z"
   },
   {
    "duration": 51,
    "start_time": "2022-12-31T06:23:46.780Z"
   },
   {
    "duration": 43,
    "start_time": "2022-12-31T06:23:46.833Z"
   },
   {
    "duration": 318,
    "start_time": "2022-12-31T06:23:46.877Z"
   },
   {
    "duration": 5,
    "start_time": "2022-12-31T06:23:47.196Z"
   },
   {
    "duration": 433,
    "start_time": "2022-12-31T06:23:47.202Z"
   },
   {
    "duration": 85,
    "start_time": "2022-12-31T06:23:47.638Z"
   },
   {
    "duration": 102,
    "start_time": "2022-12-31T06:23:47.725Z"
   },
   {
    "duration": 10,
    "start_time": "2022-12-31T06:23:47.828Z"
   },
   {
    "duration": 85,
    "start_time": "2022-12-31T06:23:47.839Z"
   },
   {
    "duration": 25,
    "start_time": "2022-12-31T06:23:47.925Z"
   },
   {
    "duration": 6,
    "start_time": "2022-12-31T06:23:47.952Z"
   },
   {
    "duration": 14,
    "start_time": "2022-12-31T06:23:47.959Z"
   },
   {
    "duration": 138,
    "start_time": "2022-12-31T06:23:47.974Z"
   },
   {
    "duration": 1221,
    "start_time": "2022-12-31T06:26:34.841Z"
   },
   {
    "duration": 148,
    "start_time": "2022-12-31T06:26:36.064Z"
   },
   {
    "duration": 16,
    "start_time": "2022-12-31T06:26:36.214Z"
   },
   {
    "duration": 34,
    "start_time": "2022-12-31T06:26:36.232Z"
   },
   {
    "duration": 60,
    "start_time": "2022-12-31T06:26:36.268Z"
   },
   {
    "duration": 319,
    "start_time": "2022-12-31T06:26:36.330Z"
   },
   {
    "duration": 119,
    "start_time": "2022-12-31T06:26:36.651Z"
   },
   {
    "duration": 13,
    "start_time": "2022-12-31T06:26:36.771Z"
   },
   {
    "duration": 45,
    "start_time": "2022-12-31T06:26:36.786Z"
   },
   {
    "duration": 38,
    "start_time": "2022-12-31T06:26:36.832Z"
   },
   {
    "duration": 306,
    "start_time": "2022-12-31T06:26:36.872Z"
   },
   {
    "duration": 132,
    "start_time": "2022-12-31T06:26:37.180Z"
   },
   {
    "duration": 13,
    "start_time": "2022-12-31T06:26:37.314Z"
   },
   {
    "duration": 32,
    "start_time": "2022-12-31T06:26:37.330Z"
   },
   {
    "duration": 59,
    "start_time": "2022-12-31T06:26:37.363Z"
   },
   {
    "duration": 305,
    "start_time": "2022-12-31T06:26:37.423Z"
   },
   {
    "duration": 3,
    "start_time": "2022-12-31T06:26:37.731Z"
   },
   {
    "duration": 394,
    "start_time": "2022-12-31T06:26:37.736Z"
   },
   {
    "duration": 90,
    "start_time": "2022-12-31T06:26:38.133Z"
   },
   {
    "duration": 106,
    "start_time": "2022-12-31T06:26:38.225Z"
   },
   {
    "duration": 9,
    "start_time": "2022-12-31T06:26:38.332Z"
   },
   {
    "duration": 6,
    "start_time": "2022-12-31T06:26:38.343Z"
   },
   {
    "duration": 104,
    "start_time": "2022-12-31T06:26:38.350Z"
   },
   {
    "duration": 6,
    "start_time": "2022-12-31T06:26:38.456Z"
   },
   {
    "duration": 18,
    "start_time": "2022-12-31T06:26:38.464Z"
   },
   {
    "duration": 133,
    "start_time": "2022-12-31T06:26:38.483Z"
   },
   {
    "duration": 1234,
    "start_time": "2022-12-31T06:28:30.745Z"
   },
   {
    "duration": 145,
    "start_time": "2022-12-31T06:28:31.981Z"
   },
   {
    "duration": 14,
    "start_time": "2022-12-31T06:28:32.128Z"
   },
   {
    "duration": 35,
    "start_time": "2022-12-31T06:28:32.144Z"
   },
   {
    "duration": 59,
    "start_time": "2022-12-31T06:28:32.181Z"
   },
   {
    "duration": 312,
    "start_time": "2022-12-31T06:28:32.241Z"
   },
   {
    "duration": 128,
    "start_time": "2022-12-31T06:28:32.554Z"
   },
   {
    "duration": 13,
    "start_time": "2022-12-31T06:28:32.684Z"
   },
   {
    "duration": 40,
    "start_time": "2022-12-31T06:28:32.698Z"
   },
   {
    "duration": 36,
    "start_time": "2022-12-31T06:28:32.740Z"
   },
   {
    "duration": 334,
    "start_time": "2022-12-31T06:28:32.778Z"
   },
   {
    "duration": 126,
    "start_time": "2022-12-31T06:28:33.114Z"
   },
   {
    "duration": 12,
    "start_time": "2022-12-31T06:28:33.242Z"
   },
   {
    "duration": 32,
    "start_time": "2022-12-31T06:28:33.256Z"
   },
   {
    "duration": 55,
    "start_time": "2022-12-31T06:28:33.289Z"
   },
   {
    "duration": 310,
    "start_time": "2022-12-31T06:28:33.345Z"
   },
   {
    "duration": 3,
    "start_time": "2022-12-31T06:28:33.657Z"
   },
   {
    "duration": 461,
    "start_time": "2022-12-31T06:28:33.662Z"
   },
   {
    "duration": 4,
    "start_time": "2022-12-31T06:28:34.125Z"
   },
   {
    "duration": 91,
    "start_time": "2022-12-31T06:28:34.131Z"
   },
   {
    "duration": 7,
    "start_time": "2022-12-31T06:28:34.224Z"
   },
   {
    "duration": 91,
    "start_time": "2022-12-31T06:28:34.233Z"
   },
   {
    "duration": 24,
    "start_time": "2022-12-31T06:28:34.326Z"
   },
   {
    "duration": 6,
    "start_time": "2022-12-31T06:28:34.351Z"
   },
   {
    "duration": 12,
    "start_time": "2022-12-31T06:28:34.359Z"
   },
   {
    "duration": 7029,
    "start_time": "2022-12-31T06:28:34.373Z"
   },
   {
    "duration": 0,
    "start_time": "2022-12-31T06:29:35.658Z"
   },
   {
    "duration": 0,
    "start_time": "2022-12-31T06:29:35.659Z"
   },
   {
    "duration": 0,
    "start_time": "2022-12-31T06:29:35.660Z"
   },
   {
    "duration": 0,
    "start_time": "2022-12-31T06:29:35.661Z"
   },
   {
    "duration": 0,
    "start_time": "2022-12-31T06:29:35.662Z"
   },
   {
    "duration": 0,
    "start_time": "2022-12-31T06:29:35.663Z"
   },
   {
    "duration": 0,
    "start_time": "2022-12-31T06:29:35.664Z"
   },
   {
    "duration": 0,
    "start_time": "2022-12-31T06:29:35.665Z"
   },
   {
    "duration": 0,
    "start_time": "2022-12-31T06:29:35.666Z"
   },
   {
    "duration": 0,
    "start_time": "2022-12-31T06:29:35.667Z"
   },
   {
    "duration": 0,
    "start_time": "2022-12-31T06:29:35.668Z"
   },
   {
    "duration": 0,
    "start_time": "2022-12-31T06:29:35.669Z"
   },
   {
    "duration": 0,
    "start_time": "2022-12-31T06:29:35.670Z"
   },
   {
    "duration": 0,
    "start_time": "2022-12-31T06:29:35.671Z"
   },
   {
    "duration": 0,
    "start_time": "2022-12-31T06:29:35.672Z"
   },
   {
    "duration": 0,
    "start_time": "2022-12-31T06:29:35.674Z"
   },
   {
    "duration": 0,
    "start_time": "2022-12-31T06:29:35.675Z"
   },
   {
    "duration": 0,
    "start_time": "2022-12-31T06:29:35.676Z"
   },
   {
    "duration": 0,
    "start_time": "2022-12-31T06:29:35.677Z"
   },
   {
    "duration": 0,
    "start_time": "2022-12-31T06:29:35.678Z"
   },
   {
    "duration": 0,
    "start_time": "2022-12-31T06:29:35.679Z"
   },
   {
    "duration": 0,
    "start_time": "2022-12-31T06:29:35.679Z"
   },
   {
    "duration": 0,
    "start_time": "2022-12-31T06:29:35.680Z"
   },
   {
    "duration": 0,
    "start_time": "2022-12-31T06:29:35.722Z"
   },
   {
    "duration": 0,
    "start_time": "2022-12-31T06:29:35.723Z"
   },
   {
    "duration": 0,
    "start_time": "2022-12-31T06:29:35.724Z"
   },
   {
    "duration": 1246,
    "start_time": "2022-12-31T06:29:55.123Z"
   },
   {
    "duration": 138,
    "start_time": "2022-12-31T06:29:56.371Z"
   },
   {
    "duration": 17,
    "start_time": "2022-12-31T06:29:56.511Z"
   },
   {
    "duration": 47,
    "start_time": "2022-12-31T06:29:56.529Z"
   },
   {
    "duration": 45,
    "start_time": "2022-12-31T06:29:56.578Z"
   },
   {
    "duration": 304,
    "start_time": "2022-12-31T06:29:56.624Z"
   },
   {
    "duration": 124,
    "start_time": "2022-12-31T06:29:56.930Z"
   },
   {
    "duration": 16,
    "start_time": "2022-12-31T06:29:57.056Z"
   },
   {
    "duration": 48,
    "start_time": "2022-12-31T06:29:57.074Z"
   },
   {
    "duration": 41,
    "start_time": "2022-12-31T06:29:57.125Z"
   },
   {
    "duration": 322,
    "start_time": "2022-12-31T06:29:57.168Z"
   },
   {
    "duration": 131,
    "start_time": "2022-12-31T06:29:57.492Z"
   },
   {
    "duration": 13,
    "start_time": "2022-12-31T06:29:57.624Z"
   },
   {
    "duration": 32,
    "start_time": "2022-12-31T06:29:57.638Z"
   },
   {
    "duration": 55,
    "start_time": "2022-12-31T06:29:57.672Z"
   },
   {
    "duration": 295,
    "start_time": "2022-12-31T06:29:57.729Z"
   },
   {
    "duration": 4,
    "start_time": "2022-12-31T06:29:58.026Z"
   },
   {
    "duration": 397,
    "start_time": "2022-12-31T06:29:58.031Z"
   },
   {
    "duration": 92,
    "start_time": "2022-12-31T06:29:58.431Z"
   },
   {
    "duration": 108,
    "start_time": "2022-12-31T06:29:58.525Z"
   },
   {
    "duration": 6,
    "start_time": "2022-12-31T06:29:58.634Z"
   },
   {
    "duration": 80,
    "start_time": "2022-12-31T06:29:58.641Z"
   },
   {
    "duration": 25,
    "start_time": "2022-12-31T06:29:58.723Z"
   },
   {
    "duration": 6,
    "start_time": "2022-12-31T06:29:58.749Z"
   },
   {
    "duration": 16,
    "start_time": "2022-12-31T06:29:58.756Z"
   },
   {
    "duration": 3421,
    "start_time": "2022-12-31T06:29:58.774Z"
   },
   {
    "duration": 1189,
    "start_time": "2022-12-31T06:30:38.762Z"
   },
   {
    "duration": 142,
    "start_time": "2022-12-31T06:30:39.953Z"
   },
   {
    "duration": 14,
    "start_time": "2022-12-31T06:30:40.096Z"
   },
   {
    "duration": 44,
    "start_time": "2022-12-31T06:30:40.112Z"
   },
   {
    "duration": 42,
    "start_time": "2022-12-31T06:30:40.158Z"
   },
   {
    "duration": 325,
    "start_time": "2022-12-31T06:30:40.202Z"
   },
   {
    "duration": 120,
    "start_time": "2022-12-31T06:30:40.529Z"
   },
   {
    "duration": 13,
    "start_time": "2022-12-31T06:30:40.651Z"
   },
   {
    "duration": 39,
    "start_time": "2022-12-31T06:30:40.666Z"
   },
   {
    "duration": 49,
    "start_time": "2022-12-31T06:30:40.707Z"
   },
   {
    "duration": 314,
    "start_time": "2022-12-31T06:30:40.758Z"
   },
   {
    "duration": 136,
    "start_time": "2022-12-31T06:30:41.074Z"
   },
   {
    "duration": 15,
    "start_time": "2022-12-31T06:30:41.212Z"
   },
   {
    "duration": 38,
    "start_time": "2022-12-31T06:30:41.229Z"
   },
   {
    "duration": 63,
    "start_time": "2022-12-31T06:30:41.269Z"
   },
   {
    "duration": 319,
    "start_time": "2022-12-31T06:30:41.333Z"
   },
   {
    "duration": 4,
    "start_time": "2022-12-31T06:30:41.654Z"
   },
   {
    "duration": 380,
    "start_time": "2022-12-31T06:30:41.659Z"
   },
   {
    "duration": 82,
    "start_time": "2022-12-31T06:30:42.042Z"
   },
   {
    "duration": 93,
    "start_time": "2022-12-31T06:30:42.127Z"
   },
   {
    "duration": 21,
    "start_time": "2022-12-31T06:30:42.222Z"
   },
   {
    "duration": 80,
    "start_time": "2022-12-31T06:30:42.245Z"
   },
   {
    "duration": 47,
    "start_time": "2022-12-31T06:30:42.327Z"
   },
   {
    "duration": 6,
    "start_time": "2022-12-31T06:30:42.376Z"
   },
   {
    "duration": 41,
    "start_time": "2022-12-31T06:30:42.384Z"
   },
   {
    "duration": 3270,
    "start_time": "2022-12-31T06:30:42.427Z"
   },
   {
    "duration": 1234,
    "start_time": "2022-12-31T06:31:41.115Z"
   },
   {
    "duration": 151,
    "start_time": "2022-12-31T06:31:42.351Z"
   },
   {
    "duration": 18,
    "start_time": "2022-12-31T06:31:42.503Z"
   },
   {
    "duration": 36,
    "start_time": "2022-12-31T06:31:42.523Z"
   },
   {
    "duration": 44,
    "start_time": "2022-12-31T06:31:42.560Z"
   },
   {
    "duration": 351,
    "start_time": "2022-12-31T06:31:42.605Z"
   },
   {
    "duration": 120,
    "start_time": "2022-12-31T06:31:42.958Z"
   },
   {
    "duration": 13,
    "start_time": "2022-12-31T06:31:43.080Z"
   },
   {
    "duration": 45,
    "start_time": "2022-12-31T06:31:43.094Z"
   },
   {
    "duration": 41,
    "start_time": "2022-12-31T06:31:43.142Z"
   },
   {
    "duration": 338,
    "start_time": "2022-12-31T06:31:43.185Z"
   },
   {
    "duration": 133,
    "start_time": "2022-12-31T06:31:43.524Z"
   },
   {
    "duration": 14,
    "start_time": "2022-12-31T06:31:43.659Z"
   },
   {
    "duration": 33,
    "start_time": "2022-12-31T06:31:43.674Z"
   },
   {
    "duration": 42,
    "start_time": "2022-12-31T06:31:43.722Z"
   },
   {
    "duration": 317,
    "start_time": "2022-12-31T06:31:43.766Z"
   },
   {
    "duration": 4,
    "start_time": "2022-12-31T06:31:44.084Z"
   },
   {
    "duration": 440,
    "start_time": "2022-12-31T06:31:44.090Z"
   },
   {
    "duration": 90,
    "start_time": "2022-12-31T06:31:44.533Z"
   },
   {
    "duration": 104,
    "start_time": "2022-12-31T06:31:44.625Z"
   },
   {
    "duration": 13,
    "start_time": "2022-12-31T06:31:44.731Z"
   },
   {
    "duration": 6,
    "start_time": "2022-12-31T06:31:44.746Z"
   },
   {
    "duration": 92,
    "start_time": "2022-12-31T06:31:44.753Z"
   },
   {
    "duration": 5,
    "start_time": "2022-12-31T06:31:44.847Z"
   },
   {
    "duration": 14,
    "start_time": "2022-12-31T06:31:44.854Z"
   },
   {
    "duration": 1536,
    "start_time": "2022-12-31T06:31:44.870Z"
   },
   {
    "duration": 1294,
    "start_time": "2022-12-31T06:33:43.799Z"
   },
   {
    "duration": 161,
    "start_time": "2022-12-31T06:33:45.095Z"
   },
   {
    "duration": 18,
    "start_time": "2022-12-31T06:33:45.258Z"
   },
   {
    "duration": 58,
    "start_time": "2022-12-31T06:33:45.278Z"
   },
   {
    "duration": 44,
    "start_time": "2022-12-31T06:33:45.338Z"
   },
   {
    "duration": 318,
    "start_time": "2022-12-31T06:33:45.384Z"
   },
   {
    "duration": 125,
    "start_time": "2022-12-31T06:33:45.704Z"
   },
   {
    "duration": 14,
    "start_time": "2022-12-31T06:33:45.830Z"
   },
   {
    "duration": 57,
    "start_time": "2022-12-31T06:33:45.845Z"
   },
   {
    "duration": 45,
    "start_time": "2022-12-31T06:33:45.905Z"
   },
   {
    "duration": 306,
    "start_time": "2022-12-31T06:33:45.952Z"
   },
   {
    "duration": 131,
    "start_time": "2022-12-31T06:33:46.260Z"
   },
   {
    "duration": 13,
    "start_time": "2022-12-31T06:33:46.393Z"
   },
   {
    "duration": 40,
    "start_time": "2022-12-31T06:33:46.407Z"
   },
   {
    "duration": 42,
    "start_time": "2022-12-31T06:33:46.449Z"
   },
   {
    "duration": 322,
    "start_time": "2022-12-31T06:33:46.493Z"
   },
   {
    "duration": 4,
    "start_time": "2022-12-31T06:33:46.820Z"
   },
   {
    "duration": 401,
    "start_time": "2022-12-31T06:33:46.826Z"
   },
   {
    "duration": 93,
    "start_time": "2022-12-31T06:33:47.230Z"
   },
   {
    "duration": 122,
    "start_time": "2022-12-31T06:33:47.325Z"
   },
   {
    "duration": 35,
    "start_time": "2022-12-31T06:33:47.449Z"
   },
   {
    "duration": 31,
    "start_time": "2022-12-31T06:33:47.485Z"
   },
   {
    "duration": 111,
    "start_time": "2022-12-31T06:33:47.518Z"
   },
   {
    "duration": 5,
    "start_time": "2022-12-31T06:33:47.630Z"
   },
   {
    "duration": 26,
    "start_time": "2022-12-31T06:33:47.637Z"
   },
   {
    "duration": 1493,
    "start_time": "2022-12-31T06:33:47.665Z"
   },
   {
    "duration": 2799,
    "start_time": "2022-12-31T06:35:27.785Z"
   },
   {
    "duration": 6,
    "start_time": "2022-12-31T06:37:42.799Z"
   },
   {
    "duration": 111,
    "start_time": "2022-12-31T06:37:48.607Z"
   },
   {
    "duration": 3,
    "start_time": "2022-12-31T06:43:20.260Z"
   },
   {
    "duration": 1312,
    "start_time": "2022-12-31T06:55:29.411Z"
   },
   {
    "duration": 148,
    "start_time": "2022-12-31T06:55:30.725Z"
   },
   {
    "duration": 16,
    "start_time": "2022-12-31T06:55:30.875Z"
   },
   {
    "duration": 51,
    "start_time": "2022-12-31T06:55:30.893Z"
   },
   {
    "duration": 43,
    "start_time": "2022-12-31T06:55:30.946Z"
   },
   {
    "duration": 334,
    "start_time": "2022-12-31T06:55:30.991Z"
   },
   {
    "duration": 127,
    "start_time": "2022-12-31T06:55:31.327Z"
   },
   {
    "duration": 13,
    "start_time": "2022-12-31T06:55:31.456Z"
   },
   {
    "duration": 53,
    "start_time": "2022-12-31T06:55:31.471Z"
   },
   {
    "duration": 47,
    "start_time": "2022-12-31T06:55:31.527Z"
   },
   {
    "duration": 340,
    "start_time": "2022-12-31T06:55:31.576Z"
   },
   {
    "duration": 135,
    "start_time": "2022-12-31T06:55:31.917Z"
   },
   {
    "duration": 13,
    "start_time": "2022-12-31T06:55:32.053Z"
   },
   {
    "duration": 34,
    "start_time": "2022-12-31T06:55:32.067Z"
   },
   {
    "duration": 58,
    "start_time": "2022-12-31T06:55:32.103Z"
   },
   {
    "duration": 319,
    "start_time": "2022-12-31T06:55:32.163Z"
   },
   {
    "duration": 4,
    "start_time": "2022-12-31T06:55:32.483Z"
   },
   {
    "duration": 441,
    "start_time": "2022-12-31T06:55:32.488Z"
   },
   {
    "duration": 89,
    "start_time": "2022-12-31T06:55:32.932Z"
   },
   {
    "duration": 104,
    "start_time": "2022-12-31T06:55:33.023Z"
   },
   {
    "duration": 10,
    "start_time": "2022-12-31T06:55:33.129Z"
   },
   {
    "duration": 8,
    "start_time": "2022-12-31T06:55:33.140Z"
   },
   {
    "duration": 188,
    "start_time": "2022-12-31T06:55:33.149Z"
   },
   {
    "duration": 0,
    "start_time": "2022-12-31T06:55:33.339Z"
   },
   {
    "duration": 0,
    "start_time": "2022-12-31T06:55:33.340Z"
   },
   {
    "duration": 0,
    "start_time": "2022-12-31T06:55:33.341Z"
   },
   {
    "duration": 0,
    "start_time": "2022-12-31T06:55:33.342Z"
   },
   {
    "duration": 0,
    "start_time": "2022-12-31T06:55:33.343Z"
   },
   {
    "duration": 0,
    "start_time": "2022-12-31T06:55:33.345Z"
   },
   {
    "duration": 0,
    "start_time": "2022-12-31T06:55:33.345Z"
   },
   {
    "duration": 0,
    "start_time": "2022-12-31T06:55:33.346Z"
   },
   {
    "duration": 1267,
    "start_time": "2022-12-31T06:57:00.952Z"
   },
   {
    "duration": 155,
    "start_time": "2022-12-31T06:57:02.221Z"
   },
   {
    "duration": 15,
    "start_time": "2022-12-31T06:57:02.378Z"
   },
   {
    "duration": 47,
    "start_time": "2022-12-31T06:57:02.395Z"
   },
   {
    "duration": 41,
    "start_time": "2022-12-31T06:57:02.443Z"
   },
   {
    "duration": 404,
    "start_time": "2022-12-31T06:57:02.486Z"
   },
   {
    "duration": 144,
    "start_time": "2022-12-31T06:57:02.892Z"
   },
   {
    "duration": 14,
    "start_time": "2022-12-31T06:57:03.037Z"
   },
   {
    "duration": 31,
    "start_time": "2022-12-31T06:57:03.053Z"
   },
   {
    "duration": 56,
    "start_time": "2022-12-31T06:57:03.087Z"
   },
   {
    "duration": 329,
    "start_time": "2022-12-31T06:57:03.145Z"
   },
   {
    "duration": 139,
    "start_time": "2022-12-31T06:57:03.475Z"
   },
   {
    "duration": 13,
    "start_time": "2022-12-31T06:57:03.615Z"
   },
   {
    "duration": 38,
    "start_time": "2022-12-31T06:57:03.630Z"
   },
   {
    "duration": 58,
    "start_time": "2022-12-31T06:57:03.670Z"
   },
   {
    "duration": 324,
    "start_time": "2022-12-31T06:57:03.730Z"
   },
   {
    "duration": 5,
    "start_time": "2022-12-31T06:57:04.056Z"
   },
   {
    "duration": 380,
    "start_time": "2022-12-31T06:57:04.062Z"
   },
   {
    "duration": 5,
    "start_time": "2022-12-31T06:57:04.522Z"
   },
   {
    "duration": 100,
    "start_time": "2022-12-31T06:57:04.529Z"
   },
   {
    "duration": 7,
    "start_time": "2022-12-31T06:57:04.631Z"
   },
   {
    "duration": 7,
    "start_time": "2022-12-31T06:57:04.639Z"
   },
   {
    "duration": 97,
    "start_time": "2022-12-31T06:57:04.648Z"
   },
   {
    "duration": 4,
    "start_time": "2022-12-31T06:57:04.747Z"
   },
   {
    "duration": 7,
    "start_time": "2022-12-31T06:57:04.753Z"
   },
   {
    "duration": 127,
    "start_time": "2022-12-31T06:57:04.762Z"
   },
   {
    "duration": 0,
    "start_time": "2022-12-31T06:57:04.890Z"
   },
   {
    "duration": 0,
    "start_time": "2022-12-31T06:57:04.892Z"
   },
   {
    "duration": 0,
    "start_time": "2022-12-31T06:57:04.893Z"
   },
   {
    "duration": 0,
    "start_time": "2022-12-31T06:57:04.895Z"
   },
   {
    "duration": 0,
    "start_time": "2022-12-31T06:57:04.895Z"
   },
   {
    "duration": 1571,
    "start_time": "2022-12-31T06:57:29.422Z"
   },
   {
    "duration": 5,
    "start_time": "2022-12-31T06:59:00.448Z"
   },
   {
    "duration": 1595,
    "start_time": "2022-12-31T06:59:01.678Z"
   },
   {
    "duration": 1242,
    "start_time": "2022-12-31T07:00:59.837Z"
   },
   {
    "duration": 157,
    "start_time": "2022-12-31T07:01:01.081Z"
   },
   {
    "duration": 14,
    "start_time": "2022-12-31T07:01:01.240Z"
   },
   {
    "duration": 52,
    "start_time": "2022-12-31T07:01:01.256Z"
   },
   {
    "duration": 49,
    "start_time": "2022-12-31T07:01:01.310Z"
   },
   {
    "duration": 344,
    "start_time": "2022-12-31T07:01:01.360Z"
   },
   {
    "duration": 128,
    "start_time": "2022-12-31T07:01:01.706Z"
   },
   {
    "duration": 13,
    "start_time": "2022-12-31T07:01:01.836Z"
   },
   {
    "duration": 43,
    "start_time": "2022-12-31T07:01:01.851Z"
   },
   {
    "duration": 54,
    "start_time": "2022-12-31T07:01:01.896Z"
   },
   {
    "duration": 338,
    "start_time": "2022-12-31T07:01:01.952Z"
   },
   {
    "duration": 138,
    "start_time": "2022-12-31T07:01:02.292Z"
   },
   {
    "duration": 13,
    "start_time": "2022-12-31T07:01:02.431Z"
   },
   {
    "duration": 40,
    "start_time": "2022-12-31T07:01:02.446Z"
   },
   {
    "duration": 52,
    "start_time": "2022-12-31T07:01:02.488Z"
   },
   {
    "duration": 334,
    "start_time": "2022-12-31T07:01:02.542Z"
   },
   {
    "duration": 4,
    "start_time": "2022-12-31T07:01:02.877Z"
   },
   {
    "duration": 451,
    "start_time": "2022-12-31T07:01:02.882Z"
   },
   {
    "duration": 6,
    "start_time": "2022-12-31T07:01:03.422Z"
   },
   {
    "duration": 116,
    "start_time": "2022-12-31T07:01:03.430Z"
   },
   {
    "duration": 15,
    "start_time": "2022-12-31T07:01:03.548Z"
   },
   {
    "duration": 34,
    "start_time": "2022-12-31T07:01:03.564Z"
   },
   {
    "duration": 146,
    "start_time": "2022-12-31T07:01:03.600Z"
   },
   {
    "duration": 4,
    "start_time": "2022-12-31T07:01:03.747Z"
   },
   {
    "duration": 16,
    "start_time": "2022-12-31T07:01:03.752Z"
   },
   {
    "duration": 1663,
    "start_time": "2022-12-31T07:01:03.770Z"
   },
   {
    "duration": 5,
    "start_time": "2022-12-31T07:01:05.434Z"
   },
   {
    "duration": 82,
    "start_time": "2022-12-31T07:01:05.441Z"
   },
   {
    "duration": 5,
    "start_time": "2022-12-31T07:01:05.525Z"
   },
   {
    "duration": 22,
    "start_time": "2022-12-31T07:01:05.532Z"
   },
   {
    "duration": 119,
    "start_time": "2022-12-31T07:01:05.556Z"
   },
   {
    "duration": 3,
    "start_time": "2022-12-31T07:02:55.378Z"
   },
   {
    "duration": 3,
    "start_time": "2022-12-31T07:02:56.581Z"
   },
   {
    "duration": 4,
    "start_time": "2022-12-31T07:02:57.442Z"
   },
   {
    "duration": 3,
    "start_time": "2022-12-31T07:03:22.166Z"
   },
   {
    "duration": 4,
    "start_time": "2022-12-31T07:03:32.843Z"
   },
   {
    "duration": 14,
    "start_time": "2022-12-31T07:03:33.396Z"
   },
   {
    "duration": 3,
    "start_time": "2022-12-31T07:03:36.249Z"
   },
   {
    "duration": 5,
    "start_time": "2022-12-31T07:03:36.702Z"
   },
   {
    "duration": 1592,
    "start_time": "2022-12-31T07:03:38.963Z"
   },
   {
    "duration": 6,
    "start_time": "2022-12-31T07:03:50.992Z"
   },
   {
    "duration": 1585,
    "start_time": "2022-12-31T07:03:51.816Z"
   },
   {
    "duration": 1296,
    "start_time": "2022-12-31T07:08:41.593Z"
   },
   {
    "duration": 160,
    "start_time": "2022-12-31T07:08:42.890Z"
   },
   {
    "duration": 15,
    "start_time": "2022-12-31T07:08:43.052Z"
   },
   {
    "duration": 53,
    "start_time": "2022-12-31T07:08:43.069Z"
   },
   {
    "duration": 41,
    "start_time": "2022-12-31T07:08:43.123Z"
   },
   {
    "duration": 312,
    "start_time": "2022-12-31T07:08:43.165Z"
   },
   {
    "duration": 122,
    "start_time": "2022-12-31T07:08:43.478Z"
   },
   {
    "duration": 14,
    "start_time": "2022-12-31T07:08:43.602Z"
   },
   {
    "duration": 41,
    "start_time": "2022-12-31T07:08:43.621Z"
   },
   {
    "duration": 41,
    "start_time": "2022-12-31T07:08:43.665Z"
   },
   {
    "duration": 323,
    "start_time": "2022-12-31T07:08:43.708Z"
   },
   {
    "duration": 133,
    "start_time": "2022-12-31T07:08:44.033Z"
   },
   {
    "duration": 13,
    "start_time": "2022-12-31T07:08:44.167Z"
   },
   {
    "duration": 46,
    "start_time": "2022-12-31T07:08:44.182Z"
   },
   {
    "duration": 39,
    "start_time": "2022-12-31T07:08:44.230Z"
   },
   {
    "duration": 307,
    "start_time": "2022-12-31T07:08:44.271Z"
   },
   {
    "duration": 4,
    "start_time": "2022-12-31T07:08:44.580Z"
   },
   {
    "duration": 557,
    "start_time": "2022-12-31T07:08:44.586Z"
   },
   {
    "duration": 77,
    "start_time": "2022-12-31T07:08:45.147Z"
   },
   {
    "duration": 103,
    "start_time": "2022-12-31T07:08:45.226Z"
   },
   {
    "duration": 10,
    "start_time": "2022-12-31T07:08:45.331Z"
   },
   {
    "duration": 16,
    "start_time": "2022-12-31T07:08:45.343Z"
   },
   {
    "duration": 36,
    "start_time": "2022-12-31T07:08:45.361Z"
   },
   {
    "duration": 4,
    "start_time": "2022-12-31T07:08:45.399Z"
   },
   {
    "duration": 12,
    "start_time": "2022-12-31T07:08:45.404Z"
   },
   {
    "duration": 1569,
    "start_time": "2022-12-31T07:08:45.417Z"
   },
   {
    "duration": 4,
    "start_time": "2022-12-31T07:08:46.988Z"
   },
   {
    "duration": 115,
    "start_time": "2022-12-31T07:08:46.995Z"
   },
   {
    "duration": 0,
    "start_time": "2022-12-31T07:08:47.112Z"
   },
   {
    "duration": 0,
    "start_time": "2022-12-31T07:08:47.113Z"
   },
   {
    "duration": 0,
    "start_time": "2022-12-31T07:08:47.120Z"
   },
   {
    "duration": 3,
    "start_time": "2022-12-31T07:12:20.478Z"
   },
   {
    "duration": 5,
    "start_time": "2022-12-31T07:12:21.605Z"
   },
   {
    "duration": 1565,
    "start_time": "2022-12-31T07:12:23.290Z"
   },
   {
    "duration": 3,
    "start_time": "2022-12-31T07:12:34.867Z"
   },
   {
    "duration": 9,
    "start_time": "2022-12-31T07:12:35.851Z"
   },
   {
    "duration": 1254,
    "start_time": "2022-12-31T07:12:46.738Z"
   },
   {
    "duration": 144,
    "start_time": "2022-12-31T07:12:47.994Z"
   },
   {
    "duration": 15,
    "start_time": "2022-12-31T07:12:48.139Z"
   },
   {
    "duration": 35,
    "start_time": "2022-12-31T07:12:48.156Z"
   },
   {
    "duration": 61,
    "start_time": "2022-12-31T07:12:48.193Z"
   },
   {
    "duration": 326,
    "start_time": "2022-12-31T07:12:48.255Z"
   },
   {
    "duration": 119,
    "start_time": "2022-12-31T07:12:48.583Z"
   },
   {
    "duration": 20,
    "start_time": "2022-12-31T07:12:48.704Z"
   },
   {
    "duration": 32,
    "start_time": "2022-12-31T07:12:48.726Z"
   },
   {
    "duration": 38,
    "start_time": "2022-12-31T07:12:48.760Z"
   },
   {
    "duration": 343,
    "start_time": "2022-12-31T07:12:48.800Z"
   },
   {
    "duration": 132,
    "start_time": "2022-12-31T07:12:49.145Z"
   },
   {
    "duration": 12,
    "start_time": "2022-12-31T07:12:49.279Z"
   },
   {
    "duration": 39,
    "start_time": "2022-12-31T07:12:49.292Z"
   },
   {
    "duration": 39,
    "start_time": "2022-12-31T07:12:49.332Z"
   },
   {
    "duration": 303,
    "start_time": "2022-12-31T07:12:49.373Z"
   },
   {
    "duration": 5,
    "start_time": "2022-12-31T07:12:49.677Z"
   },
   {
    "duration": 465,
    "start_time": "2022-12-31T07:12:49.684Z"
   },
   {
    "duration": 95,
    "start_time": "2022-12-31T07:12:50.227Z"
   },
   {
    "duration": 7,
    "start_time": "2022-12-31T07:12:50.324Z"
   },
   {
    "duration": 6,
    "start_time": "2022-12-31T07:12:50.332Z"
   },
   {
    "duration": 6,
    "start_time": "2022-12-31T07:12:50.340Z"
   },
   {
    "duration": 16,
    "start_time": "2022-12-31T07:12:50.348Z"
   },
   {
    "duration": 3,
    "start_time": "2022-12-31T07:12:50.365Z"
   },
   {
    "duration": 8,
    "start_time": "2022-12-31T07:12:50.370Z"
   },
   {
    "duration": 1579,
    "start_time": "2022-12-31T07:12:50.380Z"
   },
   {
    "duration": 4,
    "start_time": "2022-12-31T07:12:51.961Z"
   },
   {
    "duration": 116,
    "start_time": "2022-12-31T07:12:51.968Z"
   },
   {
    "duration": 0,
    "start_time": "2022-12-31T07:12:52.086Z"
   },
   {
    "duration": 0,
    "start_time": "2022-12-31T07:12:52.087Z"
   },
   {
    "duration": 0,
    "start_time": "2022-12-31T07:12:52.088Z"
   },
   {
    "duration": 24,
    "start_time": "2022-12-31T07:13:04.886Z"
   },
   {
    "duration": 1256,
    "start_time": "2022-12-31T07:13:20.205Z"
   },
   {
    "duration": 152,
    "start_time": "2022-12-31T07:13:21.463Z"
   },
   {
    "duration": 16,
    "start_time": "2022-12-31T07:13:21.617Z"
   },
   {
    "duration": 34,
    "start_time": "2022-12-31T07:13:21.636Z"
   },
   {
    "duration": 64,
    "start_time": "2022-12-31T07:13:21.671Z"
   },
   {
    "duration": 304,
    "start_time": "2022-12-31T07:13:21.737Z"
   },
   {
    "duration": 123,
    "start_time": "2022-12-31T07:13:22.043Z"
   },
   {
    "duration": 15,
    "start_time": "2022-12-31T07:13:22.168Z"
   },
   {
    "duration": 46,
    "start_time": "2022-12-31T07:13:22.185Z"
   },
   {
    "duration": 39,
    "start_time": "2022-12-31T07:13:22.234Z"
   },
   {
    "duration": 325,
    "start_time": "2022-12-31T07:13:22.275Z"
   },
   {
    "duration": 134,
    "start_time": "2022-12-31T07:13:22.602Z"
   },
   {
    "duration": 13,
    "start_time": "2022-12-31T07:13:22.737Z"
   },
   {
    "duration": 37,
    "start_time": "2022-12-31T07:13:22.751Z"
   },
   {
    "duration": 67,
    "start_time": "2022-12-31T07:13:22.790Z"
   },
   {
    "duration": 303,
    "start_time": "2022-12-31T07:13:22.859Z"
   },
   {
    "duration": 4,
    "start_time": "2022-12-31T07:13:23.164Z"
   },
   {
    "duration": 571,
    "start_time": "2022-12-31T07:13:23.170Z"
   },
   {
    "duration": 80,
    "start_time": "2022-12-31T07:13:23.743Z"
   },
   {
    "duration": 110,
    "start_time": "2022-12-31T07:13:23.826Z"
   },
   {
    "duration": 7,
    "start_time": "2022-12-31T07:13:23.938Z"
   },
   {
    "duration": 6,
    "start_time": "2022-12-31T07:13:23.947Z"
   },
   {
    "duration": 17,
    "start_time": "2022-12-31T07:13:23.954Z"
   },
   {
    "duration": 4,
    "start_time": "2022-12-31T07:13:23.972Z"
   },
   {
    "duration": 12,
    "start_time": "2022-12-31T07:13:23.977Z"
   },
   {
    "duration": 4626,
    "start_time": "2022-12-31T07:13:23.990Z"
   },
   {
    "duration": 5,
    "start_time": "2022-12-31T07:13:28.620Z"
   },
   {
    "duration": 118,
    "start_time": "2022-12-31T07:13:28.628Z"
   },
   {
    "duration": 0,
    "start_time": "2022-12-31T07:13:28.748Z"
   },
   {
    "duration": 0,
    "start_time": "2022-12-31T07:13:28.749Z"
   },
   {
    "duration": 0,
    "start_time": "2022-12-31T07:13:28.751Z"
   },
   {
    "duration": 1222,
    "start_time": "2022-12-31T07:14:55.757Z"
   },
   {
    "duration": 157,
    "start_time": "2022-12-31T07:14:56.981Z"
   },
   {
    "duration": 15,
    "start_time": "2022-12-31T07:14:57.140Z"
   },
   {
    "duration": 49,
    "start_time": "2022-12-31T07:14:57.157Z"
   },
   {
    "duration": 56,
    "start_time": "2022-12-31T07:14:57.208Z"
   },
   {
    "duration": 383,
    "start_time": "2022-12-31T07:14:57.266Z"
   },
   {
    "duration": 128,
    "start_time": "2022-12-31T07:14:57.650Z"
   },
   {
    "duration": 12,
    "start_time": "2022-12-31T07:14:57.780Z"
   },
   {
    "duration": 42,
    "start_time": "2022-12-31T07:14:57.794Z"
   },
   {
    "duration": 38,
    "start_time": "2022-12-31T07:14:57.839Z"
   },
   {
    "duration": 324,
    "start_time": "2022-12-31T07:14:57.879Z"
   },
   {
    "duration": 145,
    "start_time": "2022-12-31T07:14:58.204Z"
   },
   {
    "duration": 16,
    "start_time": "2022-12-31T07:14:58.351Z"
   },
   {
    "duration": 41,
    "start_time": "2022-12-31T07:14:58.369Z"
   },
   {
    "duration": 47,
    "start_time": "2022-12-31T07:14:58.421Z"
   },
   {
    "duration": 364,
    "start_time": "2022-12-31T07:14:58.470Z"
   },
   {
    "duration": 5,
    "start_time": "2022-12-31T07:14:58.836Z"
   },
   {
    "duration": 504,
    "start_time": "2022-12-31T07:14:58.842Z"
   },
   {
    "duration": 75,
    "start_time": "2022-12-31T07:14:59.348Z"
   },
   {
    "duration": 97,
    "start_time": "2022-12-31T07:14:59.426Z"
   },
   {
    "duration": 22,
    "start_time": "2022-12-31T07:14:59.526Z"
   },
   {
    "duration": 17,
    "start_time": "2022-12-31T07:14:59.550Z"
   },
   {
    "duration": 23,
    "start_time": "2022-12-31T07:14:59.569Z"
   },
   {
    "duration": 3,
    "start_time": "2022-12-31T07:14:59.594Z"
   },
   {
    "duration": 5,
    "start_time": "2022-12-31T07:14:59.599Z"
   },
   {
    "duration": 4758,
    "start_time": "2022-12-31T07:14:59.605Z"
   },
   {
    "duration": 4,
    "start_time": "2022-12-31T07:15:04.365Z"
   },
   {
    "duration": 142,
    "start_time": "2022-12-31T07:15:04.373Z"
   },
   {
    "duration": 0,
    "start_time": "2022-12-31T07:15:04.517Z"
   },
   {
    "duration": 0,
    "start_time": "2022-12-31T07:15:04.518Z"
   },
   {
    "duration": 0,
    "start_time": "2022-12-31T07:15:04.519Z"
   },
   {
    "duration": 5,
    "start_time": "2022-12-31T07:17:37.591Z"
   },
   {
    "duration": 24,
    "start_time": "2022-12-31T07:17:40.540Z"
   },
   {
    "duration": 1211,
    "start_time": "2022-12-31T07:18:53.754Z"
   },
   {
    "duration": 139,
    "start_time": "2022-12-31T07:18:54.966Z"
   },
   {
    "duration": 16,
    "start_time": "2022-12-31T07:18:55.106Z"
   },
   {
    "duration": 38,
    "start_time": "2022-12-31T07:18:55.123Z"
   },
   {
    "duration": 68,
    "start_time": "2022-12-31T07:18:55.165Z"
   },
   {
    "duration": 346,
    "start_time": "2022-12-31T07:18:55.235Z"
   },
   {
    "duration": 125,
    "start_time": "2022-12-31T07:18:55.582Z"
   },
   {
    "duration": 16,
    "start_time": "2022-12-31T07:18:55.708Z"
   },
   {
    "duration": 32,
    "start_time": "2022-12-31T07:18:55.726Z"
   },
   {
    "duration": 40,
    "start_time": "2022-12-31T07:18:55.760Z"
   },
   {
    "duration": 331,
    "start_time": "2022-12-31T07:18:55.801Z"
   },
   {
    "duration": 132,
    "start_time": "2022-12-31T07:18:56.133Z"
   },
   {
    "duration": 12,
    "start_time": "2022-12-31T07:18:56.266Z"
   },
   {
    "duration": 46,
    "start_time": "2022-12-31T07:18:56.280Z"
   },
   {
    "duration": 40,
    "start_time": "2022-12-31T07:18:56.327Z"
   },
   {
    "duration": 316,
    "start_time": "2022-12-31T07:18:56.368Z"
   },
   {
    "duration": 4,
    "start_time": "2022-12-31T07:18:56.686Z"
   },
   {
    "duration": 547,
    "start_time": "2022-12-31T07:18:56.691Z"
   },
   {
    "duration": 82,
    "start_time": "2022-12-31T07:18:57.240Z"
   },
   {
    "duration": 104,
    "start_time": "2022-12-31T07:18:57.324Z"
   },
   {
    "duration": 8,
    "start_time": "2022-12-31T07:18:57.430Z"
   },
   {
    "duration": 11,
    "start_time": "2022-12-31T07:18:57.440Z"
   },
   {
    "duration": 15,
    "start_time": "2022-12-31T07:18:57.453Z"
   },
   {
    "duration": 4,
    "start_time": "2022-12-31T07:18:57.469Z"
   },
   {
    "duration": 15,
    "start_time": "2022-12-31T07:18:57.474Z"
   },
   {
    "duration": 4730,
    "start_time": "2022-12-31T07:18:57.490Z"
   },
   {
    "duration": 4,
    "start_time": "2022-12-31T07:20:33.421Z"
   },
   {
    "duration": 4699,
    "start_time": "2022-12-31T07:20:34.326Z"
   },
   {
    "duration": 46,
    "start_time": "2022-12-31T07:22:54.071Z"
   },
   {
    "duration": 5,
    "start_time": "2022-12-31T07:24:06.472Z"
   },
   {
    "duration": 4662,
    "start_time": "2022-12-31T07:24:07.616Z"
   },
   {
    "duration": 5,
    "start_time": "2022-12-31T07:25:35.917Z"
   },
   {
    "duration": 4542,
    "start_time": "2022-12-31T07:25:36.838Z"
   },
   {
    "duration": 5,
    "start_time": "2022-12-31T07:27:36.353Z"
   },
   {
    "duration": 1618,
    "start_time": "2022-12-31T07:27:38.288Z"
   },
   {
    "duration": 5,
    "start_time": "2022-12-31T07:27:58.562Z"
   },
   {
    "duration": 4659,
    "start_time": "2022-12-31T07:28:00.954Z"
   },
   {
    "duration": 5,
    "start_time": "2022-12-31T07:28:30.833Z"
   },
   {
    "duration": 4693,
    "start_time": "2022-12-31T07:28:31.742Z"
   }
  ],
  "kernelspec": {
   "display_name": "Python 3 (ipykernel)",
   "language": "python",
   "name": "python3"
  },
  "language_info": {
   "codemirror_mode": {
    "name": "ipython",
    "version": 3
   },
   "file_extension": ".py",
   "mimetype": "text/x-python",
   "name": "python",
   "nbconvert_exporter": "python",
   "pygments_lexer": "ipython3",
   "version": "3.11.7"
  },
  "toc": {
   "base_numbering": 1,
   "nav_menu": {},
   "number_sections": true,
   "sideBar": true,
   "skip_h1_title": true,
   "title_cell": "Содержание",
   "title_sidebar": "Содержание",
   "toc_cell": true,
   "toc_position": {
    "height": "calc(100% - 180px)",
    "left": "10px",
    "top": "150px",
    "width": "317.51px"
   },
   "toc_section_display": true,
   "toc_window_display": false
  }
 },
 "nbformat": 4,
 "nbformat_minor": 4
}
